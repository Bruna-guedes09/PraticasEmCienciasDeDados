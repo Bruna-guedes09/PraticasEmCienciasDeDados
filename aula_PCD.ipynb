{
 "cells": [
  {
   "cell_type": "code",
   "execution_count": 31,
   "id": "8aba0737-a52f-41c9-b960-4aef4cb6adbf",
   "metadata": {},
   "outputs": [
    {
     "data": {
      "text/plain": [
       "'string 1'"
      ]
     },
     "execution_count": 31,
     "metadata": {},
     "output_type": "execute_result"
    }
   ],
   "source": [
    "\"string 1\""
   ]
  },
  {
   "cell_type": "code",
   "execution_count": 32,
   "id": "c43ba092-0d68-4872-83cd-f6b08c418b8b",
   "metadata": {},
   "outputs": [
    {
     "data": {
      "text/plain": [
       "'string 2'"
      ]
     },
     "execution_count": 32,
     "metadata": {},
     "output_type": "execute_result"
    }
   ],
   "source": [
    "'string 2'"
   ]
  },
  {
   "cell_type": "code",
   "execution_count": 33,
   "id": "c21a1c58-7495-4e72-934b-f58ce71e71fa",
   "metadata": {},
   "outputs": [
    {
     "name": "stdin",
     "output_type": "stream",
     "text": [
      "Qual é seu nome? Bruna\n"
     ]
    },
    {
     "data": {
      "text/plain": [
       "'Bruna'"
      ]
     },
     "execution_count": 33,
     "metadata": {},
     "output_type": "execute_result"
    }
   ],
   "source": [
    "input(\"Qual é seu nome?\")"
   ]
  },
  {
   "cell_type": "code",
   "execution_count": 34,
   "id": "4155c56d-b2e3-4a77-b1ad-bfbcdbc8b43d",
   "metadata": {},
   "outputs": [
    {
     "name": "stdin",
     "output_type": "stream",
     "text": [
      "De onde você vem? Taubaté\n"
     ]
    },
    {
     "data": {
      "text/plain": [
       "'Taubaté'"
      ]
     },
     "execution_count": 34,
     "metadata": {},
     "output_type": "execute_result"
    }
   ],
   "source": [
    "input (\"De onde você vem?\")"
   ]
  },
  {
   "cell_type": "code",
   "execution_count": 37,
   "id": "88f98361-5389-4904-aaad-82c33e9a9244",
   "metadata": {},
   "outputs": [
    {
     "name": "stdout",
     "output_type": "stream",
     "text": [
      "     /\\_/\\ \n",
      "____(' . ')____\n",
      "Vvvv ^^^^^ vvvV\n"
     ]
    }
   ],
   "source": [
    "print (r\"     /\\_/\\ \")\n",
    "print (\"____(' . ')____\")\n",
    "print (\"Vvvv ^^^^^ vvvV\")"
   ]
  },
  {
   "cell_type": "code",
   "execution_count": 42,
   "id": "2d3d63ad-f191-4eee-870c-c0835f1a4271",
   "metadata": {},
   "outputs": [
    {
     "name": "stdout",
     "output_type": "stream",
     "text": [
      "/\\_/\\\n",
      ">^.^< \n",
      " / \\\n",
      "(___)__|\n"
     ]
    }
   ],
   "source": [
    "print ('/\\\\_/\\\\')\n",
    "print ('>^.^< ')\n",
    "print (' / \\\\')\n",
    "print ('(___)__|')"
   ]
  },
  {
   "cell_type": "code",
   "execution_count": 48,
   "id": "a187fee4-fa48-46a5-8d4f-f037644e1f51",
   "metadata": {},
   "outputs": [
    {
     "name": "stdin",
     "output_type": "stream",
     "text": [
      "nome: bruna\n"
     ]
    }
   ],
   "source": [
    "nome = input (\"nome:\")"
   ]
  },
  {
   "cell_type": "code",
   "execution_count": 46,
   "id": "f37972cf-c64d-4df0-aa99-9f760b01f939",
   "metadata": {},
   "outputs": [
    {
     "name": "stdin",
     "output_type": "stream",
     "text": [
      "nome: guedes\n"
     ]
    }
   ],
   "source": [
    "sobrenome = input (\"sobrenome:\")"
   ]
  },
  {
   "cell_type": "code",
   "execution_count": 49,
   "id": "e69f7382-e40d-4206-96bc-1f02fdda60fb",
   "metadata": {},
   "outputs": [
    {
     "data": {
      "text/plain": [
       "'guedes'"
      ]
     },
     "execution_count": 49,
     "metadata": {},
     "output_type": "execute_result"
    }
   ],
   "source": [
    "sobrenome"
   ]
  },
  {
   "cell_type": "code",
   "execution_count": null,
   "id": "d3eb6c15-6e35-483c-a166-b002f2b0ba80",
   "metadata": {},
   "outputs": [],
   "source": []
  }
 ],
 "metadata": {
  "kernelspec": {
   "display_name": "Python 3 (ipykernel)",
   "language": "python",
   "name": "python3"
  },
  "language_info": {
   "codemirror_mode": {
    "name": "ipython",
    "version": 3
   },
   "file_extension": ".py",
   "mimetype": "text/x-python",
   "name": "python",
   "nbconvert_exporter": "python",
   "pygments_lexer": "ipython3",
   "version": "3.12.7"
  }
 },
 "nbformat": 4,
 "nbformat_minor": 5
}
