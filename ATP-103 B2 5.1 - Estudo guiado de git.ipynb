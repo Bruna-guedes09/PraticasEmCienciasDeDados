{
 "cells": [
  {
   "cell_type": "markdown",
   "id": "10296c4b-4f7b-4cc6-969f-177075839528",
   "metadata": {},
   "source": [
    "Estudo guiado de git\n",
    "====================\n",
    "\n",
    "**Autor:** Daniel R. Cassar\n",
    "\n"
   ]
  },
  {
   "cell_type": "markdown",
   "id": "9c152a9d-7a31-440b-9357-be3cf69579d4",
   "metadata": {},
   "source": [
    "## Perguntas para estudo guiado\n",
    "\n"
   ]
  },
  {
   "cell_type": "markdown",
   "id": "d0c75534-ab09-4ed1-a700-98a37e6c11eb",
   "metadata": {},
   "source": [
    "1.  O que é e para que serve o git? R: Repositório para códigos e projetos de computação que salva as versões anteriores\n",
    "\n",
    "2.  O que é um repositório online de git (como, por exemplo, o GitHub)? R: Git é um software, uma ferramenta, e github é uma implementação. Git é um local na nuvem para guardar códigos\n",
    "\n",
    "3.  Para que serve o arquivo de `README`? R: Cartão de visitas do repositório\n",
    "\n",
    "4.  Para que serve o arquivo `LICENSE`? Todo código tem uma licença, se o programador não colocar nenhuma, segue as diretrizes do país. Podemos mudar a licença. GNU 3.0 código livre para todos, pode ser modificado, mas o modificador teria que publicar o código com a mesma licença. Podemos escrever uma própria licença, ou mudar a licença do código\n",
    "\n",
    "5.  Para que serve o arquivo `.gitignore`? R: Arquivos que não fazem parte do repositório. Escolhemos o tamplate da linguagem utilizada. Se utilizarmos mais de uma linguagem, ele vai conter informações em várias linguagens, mas para isso teríamos que mudar o arquivo.\n",
    "\n",
    "6.  O que faz o comando `git clone`? Pega o que está na internet e coloca na máquina local\n",
    "\n",
    "7.  O que faz o comando `git status`? pergunta o que está aocntecendo, conta s eteve uma mudança no arquivo local\n",
    "\n",
    "8.  O que faz o comando `git add`? Colocamos o nome do documento com a extensão Conta para o git que é para adicionar esse arquivo na lista de coisas que quer comitar. Se dermos o status, vai ficar verde, porque vai comitar. Depois, damos um commit com -m e a \"mensagem\"\n",
    "\n",
    "9.  O que faz o comando `git commit`? Não é salvar, pois fazemos um texto explicativo do que fizemos. INITIAL COMMIT foi criado no momento de criar o repostitório.\n",
    "\n",
    "10. O que faz o comando `git push`? Depois, precisamos replicar isso para o online, com o comando push\n",
    "\n",
    "11. O que faz o comando `git pull`? Pega o que está online. Sempre dar um git pull antes de começar a trabalhar\n",
    "\n",
    "12. Para que serve criar um ramo (*branch*) novo? Linhas do tempo. No momento em que cria, ele é só uma cópia.\n",
    "\n",
    "13. O que faz o comando `git checkout`? Troca de ramos\n",
    "\n",
    "14. O que é um fork? Cria um repositorio independente cópia de um projeto já existente\n",
    "\n",
    "15. O que é um *pull request*? Puchar o que tem de recente na internet\n",
    "\n",
    "1o. Cria uma pasta nova.\n",
    "2o. Abre um terminal PowerShell dentro dele.\n",
    "3o. Git clone + o link do github\n",
    "4o. Criamos uma pasta com os arquivos do github da internet\n",
    "\n",
    "1o. Cria um arquivo na pasta\n",
    "2o. git status: vai aparecer o nome do arquivo em vermelho, pois não está na internet\n",
    "3o. git add iniciais do arquivo + tab\n",
    "4o. git status: nome do arquivo em verde, pois no próximo commit está na internt\n",
    "5o. git commit -m \"mensagem\"\n"
   ]
  },
  {
   "cell_type": "markdown",
   "id": "9cc2234c-e572-48f6-9a6d-3e65cd3ad2e5",
   "metadata": {},
   "source": [
    "## Material para estudo\n",
    "\n"
   ]
  },
  {
   "cell_type": "markdown",
   "id": "176440a5-7f5f-410f-a89c-b072bb1b4577",
   "metadata": {},
   "source": [
    "Livro Pro Git: [https://git-scm.com/book/en/v2](https://git-scm.com/book/en/v2). A versão em português ainda não está completa, mas já foi iniciada: [https://git-scm.com/book/pt-br/v2](https://git-scm.com/book/pt-br/v2).\n",
    "\n",
    "Vídeo &ldquo;O que é Git e GitHub?&rdquo; [https://www.youtube.com/watch?v=DqTITcMq68k&pp=ygUIYXVsYSBnaXQ%3D](https://www.youtube.com/watch?v=DqTITcMq68k&pp=ygUIYXVsYSBnaXQ%3D).\n",
    "\n",
    "Vídeo &ldquo;Como usar Git e GitHub?&rdquo; [https://www.youtube.com/watch?v=UBAX-13g8OM&t=31s&pp=ygUIYXVsYSBnaXQ%3D](https://www.youtube.com/watch?v=UBAX-13g8OM&t=31s&pp=ygUIYXVsYSBnaXQ%3D).\n",
    "\n",
    "Tutorial interativo visual: [https://learngitbranching.js.org/?locale=pt_BR](https://learngitbranching.js.org/?locale=pt_BR).\n",
    "\n",
    "Problemas comuns e possíveis soluções: [https://dangitgit.com/pt_BR](https://dangitgit.com/pt_BR).\n",
    "\n",
    "Git Cheat Sheet: [https://education.github.com/git-cheat-sheet-education.pdf](https://education.github.com/git-cheat-sheet-education.pdf)\n",
    "\n"
   ]
  },
  {
   "cell_type": "markdown",
   "id": "c8c3e410-e38e-4ad5-892b-be2fca7a2ebd",
   "metadata": {},
   "source": [
    "## XKCD relevante\n",
    "\n"
   ]
  },
  {
   "cell_type": "markdown",
   "id": "ef43f1fd-9010-4416-9956-f602750b048a",
   "metadata": {},
   "source": [
    "![img](https://imgs.xkcd.com/comics/git.png)\n",
    "\n",
    "`Imagem: Git (XKCD) disponível em https://xkcd.com/1597`\n",
    "\n"
   ]
  }
 ],
 "metadata": {
  "kernelspec": {
   "display_name": "Python 3 (ipykernel)",
   "language": "python",
   "name": "python3"
  },
  "language_info": {
   "codemirror_mode": {
    "name": "ipython",
    "version": 3
   },
   "file_extension": ".py",
   "mimetype": "text/x-python",
   "name": "python",
   "nbconvert_exporter": "python",
   "pygments_lexer": "ipython3",
   "version": "3.12.7"
  },
  "org": null
 },
 "nbformat": 4,
 "nbformat_minor": 5
}
