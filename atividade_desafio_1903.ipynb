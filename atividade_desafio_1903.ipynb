{
 "cells": [
  {
   "cell_type": "code",
   "execution_count": 2,
   "id": "079e9a99-c169-491a-b452-be61fe4a03b4",
   "metadata": {},
   "outputs": [
    {
     "name": "stdin",
     "output_type": "stream",
     "text": [
      "deslocamento? 5.5\n"
     ]
    }
   ],
   "source": [
    "deslocamento = float (input (\"deslocamento em metros?\"))"
   ]
  },
  {
   "cell_type": "code",
   "execution_count": 3,
   "id": "9ecf8e4f-eec1-4c22-bd55-761c02843bdb",
   "metadata": {},
   "outputs": [
    {
     "name": "stdin",
     "output_type": "stream",
     "text": [
      "tempo decorrido? 2.2\n"
     ]
    }
   ],
   "source": [
    "tempo = float (input (\"tempo decorrido em segundos?\"))"
   ]
  },
  {
   "cell_type": "code",
   "execution_count": 4,
   "id": "ece4965f-d73b-4bb6-9607-5cafc09af102",
   "metadata": {},
   "outputs": [],
   "source": [
    "velocidade = deslocamento/tempo"
   ]
  },
  {
   "cell_type": "code",
   "execution_count": 23,
   "id": "42b599e8-f021-47b8-90ea-d633d67f2225",
   "metadata": {},
   "outputs": [
    {
     "name": "stdout",
     "output_type": "stream",
     "text": [
      "Velocidade, em m/s:  2.5\n"
     ]
    }
   ],
   "source": [
    "print (\"Velocidade, em m/s: \", velocidade)"
   ]
  },
  {
   "cell_type": "code",
   "execution_count": 24,
   "id": "24f01902-23ab-4a31-a9f8-e40408982a3b",
   "metadata": {},
   "outputs": [
    {
     "name": "stdin",
     "output_type": "stream",
     "text": [
      "Massa do corpo, em Kg? 2.4\n"
     ]
    }
   ],
   "source": [
    "massa = float (input (\"Massa do corpo, em Kg?\"))"
   ]
  },
  {
   "cell_type": "code",
   "execution_count": 17,
   "id": "39c9d5c8-ff0b-42dc-8c6e-e70dca119d34",
   "metadata": {},
   "outputs": [
    {
     "name": "stdin",
     "output_type": "stream",
     "text": [
      "Aceleração , em m/s^2? 10\n"
     ]
    }
   ],
   "source": [
    "aceleracao = float (input (\"Aceleração , em m/s^2?\"))"
   ]
  },
  {
   "cell_type": "code",
   "execution_count": 18,
   "id": "34b13e73-7561-4a51-a51e-f780dcf7036c",
   "metadata": {},
   "outputs": [],
   "source": [
    "forca = massa * aceleracao"
   ]
  },
  {
   "cell_type": "code",
   "execution_count": 19,
   "id": "fb0df70c-b05d-4836-8924-cd1de8d24dfd",
   "metadata": {},
   "outputs": [
    {
     "name": "stdout",
     "output_type": "stream",
     "text": [
      "Força, em Newtons:  24.0\n"
     ]
    }
   ],
   "source": [
    "print (\"Força, em Newtons: \", forca)"
   ]
  },
  {
   "cell_type": "code",
   "execution_count": 20,
   "id": "2232df8b-939b-41fa-a38f-242d930d7ce4",
   "metadata": {},
   "outputs": [
    {
     "name": "stdin",
     "output_type": "stream",
     "text": [
      "Altura? 2.6\n"
     ]
    }
   ],
   "source": [
    "altura = float (input (\"Altura?\"))"
   ]
  },
  {
   "cell_type": "code",
   "execution_count": 21,
   "id": "0e2dfad6-8232-4787-a12f-0e219ac47892",
   "metadata": {},
   "outputs": [],
   "source": [
    "energia = massa * aceleracao * altura"
   ]
  },
  {
   "cell_type": "code",
   "execution_count": 22,
   "id": "bde376e1-fd28-4a68-8820-75d6aff9f788",
   "metadata": {},
   "outputs": [
    {
     "name": "stdout",
     "output_type": "stream",
     "text": [
      "Energia, em Joules:  62.400000000000006\n"
     ]
    }
   ],
   "source": [
    "print (\"Energia, em Joules: \", energia)"
   ]
  },
  {
   "cell_type": "code",
   "execution_count": null,
   "id": "921affd5-d3af-490d-aac5-98e8c809b4cb",
   "metadata": {},
   "outputs": [],
   "source": []
  }
 ],
 "metadata": {
  "kernelspec": {
   "display_name": "Python 3 (ipykernel)",
   "language": "python",
   "name": "python3"
  },
  "language_info": {
   "codemirror_mode": {
    "name": "ipython",
    "version": 3
   },
   "file_extension": ".py",
   "mimetype": "text/x-python",
   "name": "python",
   "nbconvert_exporter": "python",
   "pygments_lexer": "ipython3",
   "version": "3.12.7"
  }
 },
 "nbformat": 4,
 "nbformat_minor": 5
}
