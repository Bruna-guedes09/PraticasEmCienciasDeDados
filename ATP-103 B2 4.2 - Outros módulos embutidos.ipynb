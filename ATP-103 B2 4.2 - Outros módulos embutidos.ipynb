{
 "cells": [
  {
   "cell_type": "markdown",
   "id": "4090c302-9667-44d7-a247-b376ba63ef5c",
   "metadata": {},
   "source": [
    "Outros módulos embutidos\n",
    "========================\n",
    "\n",
    "**Autor:** Daniel R. Cassar\n",
    "\n"
   ]
  },
  {
   "cell_type": "markdown",
   "id": "d0703203-4069-41af-99cd-62e9f4c5ddb5",
   "metadata": {},
   "source": [
    "## Introdução\n",
    "\n"
   ]
  },
  {
   "cell_type": "markdown",
   "id": "a467054a-18c3-4c04-ade1-1e65bc6b65d5",
   "metadata": {},
   "source": [
    "Existem diversos módulos embutidos de Python. Você pode checar a lista inteira na [documentação oficial](https://docs.python.org/3/py-modindex.html).\n",
    "\n"
   ]
  },
  {
   "cell_type": "markdown",
   "id": "3f9896c9-6d8f-424f-aab8-74f6b5bef0c5",
   "metadata": {},
   "source": [
    "## `pprint` - deixando os prints mais bonitos\n",
    "\n"
   ]
  },
  {
   "cell_type": "markdown",
   "id": "8f514765-c4a3-46ea-ae04-6caca8e8aad8",
   "metadata": {},
   "source": [
    "O módulo `pprint` serve para exibir objetos de Python de forma mais bela. O nome deste módulo vem de &ldquo;pretty print&rdquo;, que seria &ldquo;print belo&rdquo; em português. Veja alguns exemplos abaixo.\n",
    "\n"
   ]
  },
  {
   "cell_type": "code",
   "execution_count": null,
   "id": "87e49e19-f24c-4e3d-ae00-546db31f325f",
   "metadata": {},
   "outputs": [],
   "source": [
    "from pprint import pprint"
   ]
  },
  {
   "cell_type": "code",
   "execution_count": null,
   "id": "dca5480d-1648-488d-adbb-70af64c4bf43",
   "metadata": {},
   "outputs": [],
   "source": [
    "dados_complexos = {\n",
    "    'personagens': [\n",
    "        {\n",
    "            'id': 1,\n",
    "            'nome': 'Chaves',\n",
    "            'características': ['morador da vila', 'mora em um barril'],\n",
    "            'bordões': ['Foi sem querer querendo!', 'Ninguém tem paciência comigo...']\n",
    "        },\n",
    "        {\n",
    "            'id': 2,\n",
    "            'nome': 'Dona Florinda',\n",
    "            'características': ['vizinha', 'mãe do Quico'],\n",
    "            'bordões': ['Vamos, tesouro!', 'Tinha que ser o Chaves mesmo!']\n",
    "        },\n",
    "        {\n",
    "            'id': 3,\n",
    "            'nome': 'Seu Madruga',\n",
    "            'características': ['vizinho', 'pai da Chiquinha'],\n",
    "            'bordões': ['Só não te dou outra porque...']\n",
    "        },\n",
    "    ],\n",
    "    'meta': {\n",
    "        'origem': 'Série \"Chaves\"',\n",
    "        'episódios': 290,\n",
    "        'emissora': 'SBT',\n",
    "        'exibido_entre': '1971-1992'\n",
    "    }\n",
    "}\n",
    "\n",
    "print(dados_complexos)\n",
    "print()\n",
    "print()\n",
    "pprint(dados_complexos)"
   ]
  },
  {
   "cell_type": "markdown",
   "id": "2708202b-83b7-4ecf-91fd-790324663f32",
   "metadata": {},
   "source": [
    "## `datetime` - trabalhando com datas\n",
    "\n"
   ]
  },
  {
   "cell_type": "markdown",
   "id": "4188c38d-c87c-48ec-97b2-11845f13dfe2",
   "metadata": {},
   "source": [
    "O módulo `datetime` serve para trabalhar com datas. Veja alguns exemplos abaixo.\n",
    "\n"
   ]
  },
  {
   "cell_type": "markdown",
   "id": "be614be4-82e4-4c97-a1d2-38db0aca753c",
   "metadata": {},
   "source": [
    "### O agora\n",
    "\n"
   ]
  },
  {
   "cell_type": "code",
   "execution_count": null,
   "id": "0776ca3a-2655-4200-9ca9-ab4027b03a4e",
   "metadata": {},
   "outputs": [],
   "source": [
    "from datetime import datetime\n",
    "\n",
    "agora = datetime.now()\n",
    "\n",
    "print(agora)"
   ]
  },
  {
   "cell_type": "markdown",
   "id": "60a026e0-6f63-4489-93f9-2c355471da1b",
   "metadata": {},
   "source": [
    "### O dia de hoje\n",
    "\n"
   ]
  },
  {
   "cell_type": "code",
   "execution_count": null,
   "id": "3d68df71-faf3-4139-82e6-91618c89f0b3",
   "metadata": {},
   "outputs": [],
   "source": [
    "from datetime import date\n",
    "\n",
    "hoje = date.today()\n",
    "\n",
    "print(hoje)"
   ]
  },
  {
   "cell_type": "markdown",
   "id": "f71d5dc5-37eb-4dc4-ac8a-f44fde77f87f",
   "metadata": {},
   "source": [
    "### Contas temporais\n",
    "\n"
   ]
  },
  {
   "cell_type": "code",
   "execution_count": null,
   "id": "113ba417-4cee-46ef-9f9e-be4cc4e238fd",
   "metadata": {},
   "outputs": [],
   "source": [
    "ano = 2025\n",
    "dia = 23\n",
    "mes = 4\n",
    "\n",
    "dia_1 = date(ano, mes, dia)\n",
    "dia_2 = date(2025, 5, 1)\n",
    "\n",
    "delta = dia_2 - dia_1\n",
    "\n",
    "print(f\"Entre os dias {dia_1} e {dia_2} temos:\")\n",
    "print(\"Número de dias:\", delta.days)\n",
    "print(\"Total de segundos:\", delta.total_seconds())"
   ]
  },
  {
   "cell_type": "markdown",
   "id": "4f7c1897-246d-458d-8580-ae8856c130ad",
   "metadata": {},
   "source": [
    "## `statistics` - cálculos estatísticos\n",
    "\n"
   ]
  },
  {
   "cell_type": "markdown",
   "id": "d8cf0c5a-9a6c-4035-8fe8-9984bdd08fda",
   "metadata": {},
   "source": [
    "O módulo `statistics` serve para computar estatísticas descritivas.\n",
    "\n"
   ]
  },
  {
   "cell_type": "markdown",
   "id": "bfe9f42a-1a1f-4d47-aaf0-636b68138e8d",
   "metadata": {},
   "source": [
    "### Média\n",
    "\n"
   ]
  },
  {
   "cell_type": "code",
   "execution_count": null,
   "id": "6b2a5181-65b6-4677-a219-392e3e76424d",
   "metadata": {},
   "outputs": [],
   "source": [
    "from statistics import mean\n",
    "\n",
    "lista = [10, -35, 48, 2]\n",
    "\n",
    "media = mean(lista)\n",
    "\n",
    "media"
   ]
  },
  {
   "cell_type": "markdown",
   "id": "e6615f53-d142-4e95-8c80-3f65eea65844",
   "metadata": {},
   "source": [
    "### Mediana\n",
    "\n"
   ]
  },
  {
   "cell_type": "markdown",
   "id": "82897337-d01e-4ac3-aa12-29d567236a86",
   "metadata": {},
   "source": [
    "A mediana é o valor central de uma lista.\n",
    "\n"
   ]
  },
  {
   "cell_type": "code",
   "execution_count": null,
   "id": "efdadd09-918d-46c3-af46-f7ea8cddea5e",
   "metadata": {},
   "outputs": [],
   "source": [
    "from statistics import median\n",
    "\n",
    "lista = [10, -35, 48, 2, 89]\n",
    "\n",
    "mediana = median(lista)\n",
    "\n",
    "mediana"
   ]
  },
  {
   "cell_type": "markdown",
   "id": "a7ca0b4f-8c5b-4397-9b5f-bdda3ebc5426",
   "metadata": {},
   "source": [
    "Para observar a mediana, é interessante observar a lista ordenada.\n",
    "\n"
   ]
  },
  {
   "cell_type": "code",
   "execution_count": null,
   "id": "d17563ef-2a02-4b2d-bbec-51af4e154e72",
   "metadata": {},
   "outputs": [],
   "source": [
    "sorted(lista)"
   ]
  },
  {
   "cell_type": "markdown",
   "id": "fcc4ffc6-441b-4d2c-81dc-d9f91e3de08a",
   "metadata": {},
   "source": [
    "### Desvio padrão\n",
    "\n"
   ]
  },
  {
   "cell_type": "markdown",
   "id": "ccc2b682-71a6-46ae-a04d-3ed1dbb21265",
   "metadata": {},
   "source": [
    "O desvio padraõ é uma medida do espalhamento dos dados.\n",
    "\n"
   ]
  },
  {
   "cell_type": "code",
   "execution_count": null,
   "id": "a0192965-a8e4-4dcc-9b63-414b687fd7e0",
   "metadata": {},
   "outputs": [],
   "source": [
    "from statistics import stdev\n",
    "\n",
    "lista = [10, -35, 48, 2, 89]\n",
    "\n",
    "desvio_padrao = stdev(lista)\n",
    "\n",
    "desvio_padrao"
   ]
  },
  {
   "cell_type": "markdown",
   "id": "803d0a2a-b819-4bd1-a1cc-bdcc452db956",
   "metadata": {},
   "source": [
    "## `pickle` - salvando objetos de Python em arquivos\n",
    "\n"
   ]
  },
  {
   "cell_type": "markdown",
   "id": "2d4298b7-c11c-405b-bf43-81987792865b",
   "metadata": {},
   "source": [
    "O módulo `pickle` serve para salvar objetos de Python em arquivos do computador. Também serve para ser estes arquivos salvos.\n",
    "\n"
   ]
  },
  {
   "cell_type": "markdown",
   "id": "6cfc7acf-b9ed-4782-9f99-6a005b27f7a1",
   "metadata": {},
   "source": [
    "### Salvando arquivos\n",
    "\n"
   ]
  },
  {
   "cell_type": "markdown",
   "id": "b4156b82-6717-4b37-a4f0-c8c5e5d61960",
   "metadata": {},
   "source": [
    "Suponha que você quer salvar o objeto `minha_lista` em um arquivo no seu computador.\n",
    "\n"
   ]
  },
  {
   "cell_type": "code",
   "execution_count": null,
   "id": "579becfb-bc71-40e8-8c17-73db0332458a",
   "metadata": {},
   "outputs": [],
   "source": [
    "minha_lista = [3, 2, 1]"
   ]
  },
  {
   "cell_type": "markdown",
   "id": "aafe817e-e504-4c83-ab55-2f3424129d5b",
   "metadata": {},
   "source": [
    "Para fazer isso, basta executar um `pickle.dump` da seguinte maneira:\n",
    "\n"
   ]
  },
  {
   "cell_type": "code",
   "execution_count": null,
   "id": "e4528d58-ba96-4547-8050-3c1240d8caaa",
   "metadata": {},
   "outputs": [],
   "source": [
    "import pickle\n",
    "\n",
    "nome_do_arquivo = \"meu_arquivo.p\"\n",
    "\n",
    "pickle.dump(minha_lista, open(nome_do_arquivo, \"wb\"))"
   ]
  },
  {
   "cell_type": "markdown",
   "id": "50579f47-6548-4cb0-a4d2-d4c94465b8f9",
   "metadata": {},
   "source": [
    "A função `open` é uma função embutida do Python, necessária para que o `pickle` opere de maneira correta para salvar o arquivo. Note que esta função requer o argumento &ldquo;wb&rdquo; para funcionar neste caso de salvar o arquivo.\n",
    "\n"
   ]
  },
  {
   "cell_type": "markdown",
   "id": "226f3337-63b6-41a3-b2d1-9e65d6b87b70",
   "metadata": {},
   "source": [
    "### Carregando arquivos\n",
    "\n"
   ]
  },
  {
   "cell_type": "markdown",
   "id": "78d9b776-dcdc-4e82-bd3a-251cb925ecaa",
   "metadata": {},
   "source": [
    "Para carregar um arquivo salvo anteriormente, basta executar o `pickle.load`.\n",
    "\n"
   ]
  },
  {
   "cell_type": "code",
   "execution_count": null,
   "id": "1bc04ccc-286b-4e00-9e37-bdf56e9019ec",
   "metadata": {},
   "outputs": [],
   "source": [
    "nova_lista = pickle.load(open(nome_do_arquivo, \"rb\"))\n",
    "\n",
    "nova_lista"
   ]
  },
  {
   "cell_type": "markdown",
   "id": "895b12d8-f13d-43da-a785-afafca96cd91",
   "metadata": {},
   "source": [
    "Note que a função `open` precisa do argumento &ldquo;rb&rdquo; para funcionar para carregar o arquivo.\n",
    "\n"
   ]
  },
  {
   "cell_type": "markdown",
   "id": "56f24779-b014-4d67-a377-82aedf9fe99d",
   "metadata": {},
   "source": [
    "## `pathlib` - trabalhando com caminhos para arquivos ou pastas\n",
    "\n"
   ]
  },
  {
   "cell_type": "markdown",
   "id": "f57155ad-2280-42ca-a90f-f4b955cf80d1",
   "metadata": {},
   "source": [
    "O módulo `pathlib` serve para trabalhar com caminhos para arquivos ou pastas.\n",
    "\n"
   ]
  },
  {
   "cell_type": "markdown",
   "id": "35b39fa2-389a-4845-a267-31b9932521f7",
   "metadata": {},
   "source": [
    "### Obtendo o caminho para a pasta onde você está trabalhando\n",
    "\n"
   ]
  },
  {
   "cell_type": "code",
   "execution_count": null,
   "id": "d518a02d-9765-4411-8b75-7ebb51832933",
   "metadata": {},
   "outputs": [],
   "source": [
    "from pathlib import Path\n",
    "\n",
    "onde_estou = Path.cwd()\n",
    "\n",
    "print(onde_estou)"
   ]
  },
  {
   "cell_type": "markdown",
   "id": "32c85f2e-145c-4a91-87b5-e7ffa07c2ce5",
   "metadata": {},
   "source": [
    "### Adicionando pastas ou arquivos a um objeto `Path`\n",
    "\n"
   ]
  },
  {
   "cell_type": "code",
   "execution_count": null,
   "id": "5e1ef19b-a368-4235-ba19-ca3ca9a6b03a",
   "metadata": {},
   "outputs": [],
   "source": [
    "novo_caminho = onde_estou / \"pasta_resultado\"\n",
    "\n",
    "print(novo_caminho)"
   ]
  },
  {
   "cell_type": "code",
   "execution_count": null,
   "id": "421e4e0c-987a-4ebd-8706-9c8a3cc33b51",
   "metadata": {},
   "outputs": [],
   "source": [
    "arquivo = onde_estou / \"meu grafico.png\"\n",
    "\n",
    "print(arquivo)"
   ]
  },
  {
   "cell_type": "markdown",
   "id": "09b5a1e9-893a-49c4-8104-9c86dd979a0a",
   "metadata": {},
   "source": [
    "### Subindo de pasta\n",
    "\n"
   ]
  },
  {
   "cell_type": "code",
   "execution_count": null,
   "id": "5eb3f3cd-5808-450e-88fb-dd477b9f5a0b",
   "metadata": {},
   "outputs": [],
   "source": [
    "print(onde_estou)\n",
    "print()\n",
    "print(onde_estou.parent)\n",
    "print()\n",
    "print(onde_estou.parent.parent)"
   ]
  },
  {
   "cell_type": "markdown",
   "id": "13a3acf7-ac91-489d-8d07-ed1347670eb4",
   "metadata": {},
   "source": [
    "## Exercício\n",
    "\n"
   ]
  },
  {
   "cell_type": "markdown",
   "id": "60435ebc-9ce2-4e00-8097-65b16038c1e9",
   "metadata": {},
   "source": [
    "### Criando cópias com `copy`\n",
    "\n"
   ]
  },
  {
   "cell_type": "markdown",
   "id": "333efffb-0e22-4a96-bb5b-af47b8451582",
   "metadata": {},
   "source": [
    "Rode a célula abaixo e veja o que acontece.\n",
    "\n"
   ]
  },
  {
   "cell_type": "code",
   "execution_count": 1,
   "id": "8e72fd8b-d6e6-4807-925a-7c6bab82302b",
   "metadata": {},
   "outputs": [
    {
     "name": "stdout",
     "output_type": "stream",
     "text": [
      "[1, 2, 3, 4]\n",
      "[1, 2, 3, 4]\n"
     ]
    }
   ],
   "source": [
    "lista1 = [1, 2, 3]\n",
    "lista2 = lista1\n",
    "\n",
    "lista2.append(4)\n",
    "\n",
    "print(lista1)\n",
    "print(lista2)"
   ]
  },
  {
   "cell_type": "markdown",
   "id": "26d08700-956d-4760-a6c4-d1f2e318aaf9",
   "metadata": {},
   "source": [
    "Aconteceu alguma coisa inusitada aqui, não foi? O motivo de ter acontecido isso é que listas são objetos mutáveis e o Python não cria uma lista nova ao executar o comando `lista2 = lista1`, apenas divide a mesma lista entre duas variáveis.\n",
    "\n",
    "Investigue o módulo `copy` do Python e use ele para propor uma solução para este problema.\n",
    "\n"
   ]
  },
  {
   "cell_type": "code",
   "execution_count": 3,
   "id": "edba1084-311a-4768-93d6-1a5dc63f2d07",
   "metadata": {},
   "outputs": [
    {
     "name": "stdout",
     "output_type": "stream",
     "text": [
      "[1, 2, 3]\n",
      "[1, 2, 3, 4]\n"
     ]
    }
   ],
   "source": [
    "import copy\n",
    "\n",
    "lista1 = [1, 2, 3]\n",
    "lista2 = copy.deepcopy(lista1)\n",
    "\n",
    "lista2.append(4)\n",
    "\n",
    "print(lista1)\n",
    "print(lista2)"
   ]
  },
  {
   "cell_type": "markdown",
   "id": "dfaadc37-b6e6-40f0-8bc0-aefc7be5b5c3",
   "metadata": {},
   "source": [
    "## XKCD relevante\n",
    "\n"
   ]
  },
  {
   "cell_type": "markdown",
   "id": "96bb90a8-e043-45e4-8d46-2b62b64642ab",
   "metadata": {},
   "source": [
    "![img](https://imgs.xkcd.com/comics/geothmetic_meandian.png)\n",
    "\n",
    "`Imagem: Geothmetic Meandian (XKCD) disponível em https://xkcd.com/2435`\n",
    "\n"
   ]
  },
  {
   "cell_type": "markdown",
   "id": "e4c81101-bab3-4772-8f6c-1d2c55b3e3ee",
   "metadata": {},
   "source": [
    "## Exercício bônus\n",
    "\n"
   ]
  },
  {
   "cell_type": "markdown",
   "id": "95d711fa-435d-4e80-9fed-b3784814369a",
   "metadata": {},
   "source": [
    "Faça uma função que recebe uma lista de valores numéricos e computa o &ldquo;geothmetic meandian&rdquo; apresentado no quadrinho acima.\n",
    "\n"
   ]
  },
  {
   "cell_type": "code",
   "execution_count": 5,
   "id": "913c705f-3120-44f4-a3df-46cad0624e7e",
   "metadata": {},
   "outputs": [
    {
     "name": "stdout",
     "output_type": "stream",
     "text": [
      "Média geométrica: 3.9999999999999996\n"
     ]
    }
   ],
   "source": [
    "def geometric_mean(values):\n",
    "    \"\"\"\n",
    "    Calcula a média geométrica de uma lista de valores numéricos.\n",
    "    \"\"\"\n",
    "    # Verifica se a lista está vazia\n",
    "    if not values:\n",
    "        return None\n",
    "    \n",
    "    # Verifica se todos os valores são positivos, pois a média geométrica só é definida para números positivos\n",
    "    for v in values:\n",
    "        if v <= 0:\n",
    "            raise ValueError(\"Todos os valores devem ser positivos para calcular a média geométrica.\")\n",
    "    \n",
    "    # Calcula o produto de todos os valores\n",
    "    product = 1\n",
    "    for v in values:\n",
    "        product *= v\n",
    "    \n",
    "    # Calcula a raiz enésima do produto, onde n é o número de valores\n",
    "    n = len(values)\n",
    "    geo_mean = product ** (1 / n)\n",
    "    \n",
    "    return geo_mean\n",
    "\n",
    "# Exemplo de uso:\n",
    "valores = [2, 8, 4]\n",
    "print(\"Média geométrica:\", geometric_mean(valores))"
   ]
  },
  {
   "cell_type": "markdown",
   "id": "803c869e-49ab-4589-9d47-40d697208567",
   "metadata": {},
   "source": [
    "## Referências\n",
    "\n"
   ]
  },
  {
   "cell_type": "markdown",
   "id": "ab8177d1-e8cf-4132-970f-cc954b64670e",
   "metadata": {},
   "source": [
    "1.  Módulos embutidos de Python [https://docs.python.org/3/py-modindex.html](https://docs.python.org/3/py-modindex.html)\n",
    "\n"
   ]
  }
 ],
 "metadata": {
  "kernelspec": {
   "display_name": "ilumpy",
   "language": "python",
   "name": "ilumpy"
  },
  "language_info": {
   "codemirror_mode": {
    "name": "ipython",
    "version": 3
   },
   "file_extension": ".py",
   "mimetype": "text/x-python",
   "name": "python",
   "nbconvert_exporter": "python",
   "pygments_lexer": "ipython3",
   "version": "3.12.7"
  },
  "org": null
 },
 "nbformat": 4,
 "nbformat_minor": 5
}
