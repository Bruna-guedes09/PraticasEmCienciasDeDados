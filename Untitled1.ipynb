{
 "cells": [
  {
   "cell_type": "markdown",
   "id": "1b2dd31f-6d06-4b02-98b3-f2d4e24d8712",
   "metadata": {},
   "source": [
    "nome = input(\"Qual é o seu nome?\")"
   ]
  },
  {
   "cell_type": "code",
   "execution_count": null,
   "id": "cccc723f-0362-427f-9a1a-2df3af730a70",
   "metadata": {},
   "outputs": [],
   "source": []
  }
 ],
 "metadata": {
  "kernelspec": {
   "display_name": "Python 3 (ipykernel)",
   "language": "python",
   "name": "python3"
  },
  "language_info": {
   "codemirror_mode": {
    "name": "ipython",
    "version": 3
   },
   "file_extension": ".py",
   "mimetype": "text/x-python",
   "name": "python",
   "nbconvert_exporter": "python",
   "pygments_lexer": "ipython3",
   "version": "3.12.7"
  }
 },
 "nbformat": 4,
 "nbformat_minor": 5
}
