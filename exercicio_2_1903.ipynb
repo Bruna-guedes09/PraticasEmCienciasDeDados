{
 "cells": [
  {
   "cell_type": "code",
   "execution_count": null,
   "id": "a60a777c-7f61-4a3b-a148-4f8fd079ce4e",
   "metadata": {},
   "outputs": [],
   "source": [
    "# variavel inteira"
   ]
  },
  {
   "cell_type": "code",
   "execution_count": 4,
   "id": "cf6497c6-0584-41fc-a47f-7b1f15722601",
   "metadata": {},
   "outputs": [
    {
     "name": "stdout",
     "output_type": "stream",
     "text": [
      "25\n"
     ]
    }
   ],
   "source": [
    "idade = 25\n",
    "\n",
    "print (idade)"
   ]
  },
  {
   "cell_type": "code",
   "execution_count": null,
   "id": "79462728-1874-44e4-b7c1-a153e33acb34",
   "metadata": {},
   "outputs": [],
   "source": [
    "# variavel de ponto flutuante "
   ]
  },
  {
   "cell_type": "code",
   "execution_count": 5,
   "id": "13c95a71-5d78-43fe-bca0-6aec25656027",
   "metadata": {},
   "outputs": [
    {
     "name": "stdout",
     "output_type": "stream",
     "text": [
      "1.75\n"
     ]
    }
   ],
   "source": [
    "altura = 1.75\n",
    "print (altura)"
   ]
  },
  {
   "cell_type": "code",
   "execution_count": null,
   "id": "dbec7356-6d1a-4010-b2ea-cd3df1dd194c",
   "metadata": {},
   "outputs": [],
   "source": [
    "# variavel de caractere"
   ]
  },
  {
   "cell_type": "code",
   "execution_count": 6,
   "id": "8a9fcbdb-e6b3-42cf-b3a5-64420fd6a17f",
   "metadata": {},
   "outputs": [
    {
     "name": "stdout",
     "output_type": "stream",
     "text": [
      "A\n"
     ]
    }
   ],
   "source": [
    "letra = 'A'\n",
    "print (letra)"
   ]
  },
  {
   "cell_type": "code",
   "execution_count": 16,
   "id": "625da0fb-6b85-42a2-bf95-df853bd1f393",
   "metadata": {},
   "outputs": [
    {
     "ename": "SyntaxError",
     "evalue": "invalid syntax (2960101053.py, line 1)",
     "output_type": "error",
     "traceback": [
      "\u001b[1;36m  Cell \u001b[1;32mIn[16], line 1\u001b[1;36m\u001b[0m\n\u001b[1;33m    and = \"teste1\"\u001b[0m\n\u001b[1;37m    ^\u001b[0m\n\u001b[1;31mSyntaxError\u001b[0m\u001b[1;31m:\u001b[0m invalid syntax\n"
     ]
    }
   ],
   "source": [
    "and = \"teste1\""
   ]
  },
  {
   "cell_type": "code",
   "execution_count": 17,
   "id": "3949bad1-a4c1-4b12-8aeb-fde1c1a3079c",
   "metadata": {},
   "outputs": [
    {
     "ename": "SyntaxError",
     "evalue": "invalid syntax (1623521139.py, line 1)",
     "output_type": "error",
     "traceback": [
      "\u001b[1;36m  Cell \u001b[1;32mIn[17], line 1\u001b[1;36m\u001b[0m\n\u001b[1;33m    in = \"teste 2\"\u001b[0m\n\u001b[1;37m    ^\u001b[0m\n\u001b[1;31mSyntaxError\u001b[0m\u001b[1;31m:\u001b[0m invalid syntax\n"
     ]
    }
   ],
   "source": [
    "in = \"teste 2\""
   ]
  },
  {
   "cell_type": "code",
   "execution_count": 9,
   "id": "5a48f679-3637-4102-a368-d0b9e09e9497",
   "metadata": {},
   "outputs": [
    {
     "ename": "SyntaxError",
     "evalue": "invalid syntax (201511345.py, line 1)",
     "output_type": "error",
     "traceback": [
      "\u001b[1;36m  Cell \u001b[1;32mIn[9], line 1\u001b[1;36m\u001b[0m\n\u001b[1;33m    break = \" teste 3\"\u001b[0m\n\u001b[1;37m          ^\u001b[0m\n\u001b[1;31mSyntaxError\u001b[0m\u001b[1;31m:\u001b[0m invalid syntax\n"
     ]
    }
   ],
   "source": [
    "break = \" teste 3\""
   ]
  },
  {
   "cell_type": "code",
   "execution_count": 10,
   "id": "7c12b83e-e496-4f24-b5f0-779e369302e9",
   "metadata": {},
   "outputs": [
    {
     "ename": "SyntaxError",
     "evalue": "invalid syntax (691034734.py, line 1)",
     "output_type": "error",
     "traceback": [
      "\u001b[1;36m  Cell \u001b[1;32mIn[10], line 1\u001b[1;36m\u001b[0m\n\u001b[1;33m    finally = \"teste 4\"\u001b[0m\n\u001b[1;37m    ^\u001b[0m\n\u001b[1;31mSyntaxError\u001b[0m\u001b[1;31m:\u001b[0m invalid syntax\n"
     ]
    }
   ],
   "source": [
    "finally = \"teste 4\""
   ]
  },
  {
   "cell_type": "code",
   "execution_count": 11,
   "id": "d28d9862-44e5-480e-b1bc-791bb0c62420",
   "metadata": {},
   "outputs": [
    {
     "ename": "SyntaxError",
     "evalue": "invalid syntax (1875779493.py, line 1)",
     "output_type": "error",
     "traceback": [
      "\u001b[1;36m  Cell \u001b[1;32mIn[11], line 1\u001b[1;36m\u001b[0m\n\u001b[1;33m    in = \"teste 5\"\u001b[0m\n\u001b[1;37m    ^\u001b[0m\n\u001b[1;31mSyntaxError\u001b[0m\u001b[1;31m:\u001b[0m invalid syntax\n"
     ]
    }
   ],
   "source": [
    "in = \"teste 5\""
   ]
  },
  {
   "cell_type": "code",
   "execution_count": 18,
   "id": "d8b13a11-f46f-431b-b8d1-48b4f29e9764",
   "metadata": {},
   "outputs": [
    {
     "name": "stdout",
     "output_type": "stream",
     "text": [
      "Bem-vindo(a), usuário!\n"
     ]
    }
   ],
   "source": [
    "print (\"Bem-vindo(a), usuário!\")"
   ]
  },
  {
   "cell_type": "code",
   "execution_count": 19,
   "id": "b5c223d1-9ddd-433d-be44-73723caa4dd4",
   "metadata": {},
   "outputs": [
    {
     "name": "stdin",
     "output_type": "stream",
     "text": [
      "Qual é o seu nome Bruna\n"
     ]
    }
   ],
   "source": [
    "nome = input (\"Qual é o seu nome\")"
   ]
  },
  {
   "cell_type": "code",
   "execution_count": 20,
   "id": "df2bd8fe-7bd5-4445-a048-17fb12a70b11",
   "metadata": {},
   "outputs": [
    {
     "name": "stdout",
     "output_type": "stream",
     "text": [
      "Bruna\n"
     ]
    }
   ],
   "source": [
    "print (nome)"
   ]
  },
  {
   "cell_type": "code",
   "execution_count": 22,
   "id": "45233bfe-52cf-4b2d-a2ea-4e386a5914e7",
   "metadata": {},
   "outputs": [],
   "source": [
    "nome = \"teste2\""
   ]
  },
  {
   "cell_type": "code",
   "execution_count": 23,
   "id": "c6558079-a84b-45f9-8dfc-3c92a36b85e6",
   "metadata": {},
   "outputs": [
    {
     "name": "stdout",
     "output_type": "stream",
     "text": [
      "teste2\n"
     ]
    }
   ],
   "source": [
    "print (nome)"
   ]
  },
  {
   "cell_type": "code",
   "execution_count": 1,
   "id": "bda228af-4348-4942-a1c8-ef7e44711830",
   "metadata": {},
   "outputs": [
    {
     "data": {
      "text/plain": [
       "11"
      ]
     },
     "execution_count": 1,
     "metadata": {},
     "output_type": "execute_result"
    }
   ],
   "source": [
    "4 + 7 #adição"
   ]
  },
  {
   "cell_type": "code",
   "execution_count": 2,
   "id": "ed6dc13a-61a0-4de4-af5f-0d2c8f2612f6",
   "metadata": {},
   "outputs": [
    {
     "data": {
      "text/plain": [
       "7"
      ]
     },
     "execution_count": 2,
     "metadata": {},
     "output_type": "execute_result"
    }
   ],
   "source": [
    "12 - 5 #subtração"
   ]
  },
  {
   "cell_type": "code",
   "execution_count": 3,
   "id": "94551624-eb1e-4393-acac-d25b93dbf503",
   "metadata": {},
   "outputs": [
    {
     "data": {
      "text/plain": [
       "36"
      ]
     },
     "execution_count": 3,
     "metadata": {},
     "output_type": "execute_result"
    }
   ],
   "source": [
    "6 * 6 #multiplicação"
   ]
  },
  {
   "cell_type": "code",
   "execution_count": 4,
   "id": "1ad828f5-ee06-4916-bf73-519f757626fa",
   "metadata": {},
   "outputs": [
    {
     "data": {
      "text/plain": [
       "6.0"
      ]
     },
     "execution_count": 4,
     "metadata": {},
     "output_type": "execute_result"
    }
   ],
   "source": [
    "30/5  #divisão"
   ]
  },
  {
   "cell_type": "code",
   "execution_count": 5,
   "id": "8177e698-3acd-4bda-9eca-6d18b84663d9",
   "metadata": {},
   "outputs": [
    {
     "data": {
      "text/plain": [
       "2"
      ]
     },
     "execution_count": 5,
     "metadata": {},
     "output_type": "execute_result"
    }
   ],
   "source": [
    "10%4 #módulo, resto da divisão"
   ]
  },
  {
   "cell_type": "code",
   "execution_count": 6,
   "id": "b8ec845f-1201-4903-9dae-7946ec62aa12",
   "metadata": {},
   "outputs": [
    {
     "data": {
      "text/plain": [
       "3"
      ]
     },
     "execution_count": 6,
     "metadata": {},
     "output_type": "execute_result"
    }
   ],
   "source": [
    "18//5 #parte inteira da divisão"
   ]
  },
  {
   "cell_type": "code",
   "execution_count": 7,
   "id": "104f3b59-71c5-47fc-8390-c4448264ff28",
   "metadata": {},
   "outputs": [
    {
     "data": {
      "text/plain": [
       "243"
      ]
     },
     "execution_count": 7,
     "metadata": {},
     "output_type": "execute_result"
    }
   ],
   "source": [
    "3**5 #exponencial"
   ]
  },
  {
   "cell_type": "code",
   "execution_count": 14,
   "id": "542d161e-fdf4-4e34-a950-6e8f81996a55",
   "metadata": {},
   "outputs": [
    {
     "name": "stdin",
     "output_type": "stream",
     "text": [
      "Numero 1: 3\n"
     ]
    }
   ],
   "source": [
    "num_1 = float (input (\"Numero 1:\"))"
   ]
  },
  {
   "cell_type": "code",
   "execution_count": 15,
   "id": "4edbd6e9-9b96-49af-afb6-ce16a423ad04",
   "metadata": {},
   "outputs": [
    {
     "name": "stdin",
     "output_type": "stream",
     "text": [
      "Numero 2: 5\n"
     ]
    }
   ],
   "source": [
    "num_2 = float (input ( \"Numero 2:\"))"
   ]
  },
  {
   "cell_type": "code",
   "execution_count": 16,
   "id": "2e453b4b-5f30-426b-aece-dfe528ad955e",
   "metadata": {},
   "outputs": [
    {
     "name": "stdout",
     "output_type": "stream",
     "text": [
      "8.0\n"
     ]
    }
   ],
   "source": [
    "print (num_1 + num_2)"
   ]
  },
  {
   "cell_type": "code",
   "execution_count": 17,
   "id": "62a34e9e-aad8-49da-bb84-bbf12f09e551",
   "metadata": {},
   "outputs": [
    {
     "name": "stdin",
     "output_type": "stream",
     "text": [
      "Número 1 p/ média 2\n"
     ]
    }
   ],
   "source": [
    "num_1_media = float (input (\"Número 1 p/ média\"))"
   ]
  },
  {
   "cell_type": "code",
   "execution_count": 18,
   "id": "68125ba5-0a42-489f-9d28-4ae28d104850",
   "metadata": {},
   "outputs": [
    {
     "name": "stdin",
     "output_type": "stream",
     "text": [
      "Número 2 p/ média 4\n"
     ]
    }
   ],
   "source": [
    "num_2_media = float (input (\"Número 2 p/ média\"))"
   ]
  },
  {
   "cell_type": "code",
   "execution_count": 19,
   "id": "438e698d-450f-4552-9024-c1557a61ca5f",
   "metadata": {},
   "outputs": [
    {
     "name": "stdin",
     "output_type": "stream",
     "text": [
      "Número 3 p/ média 7\n"
     ]
    }
   ],
   "source": [
    "num_3_media = float (input (\"Número 3 p/ média\"))"
   ]
  },
  {
   "cell_type": "code",
   "execution_count": 29,
   "id": "2c2fc80d-53cc-450c-a93b-83cb1b4f7021",
   "metadata": {},
   "outputs": [
    {
     "name": "stdout",
     "output_type": "stream",
     "text": [
      "4.333333333333333\n"
     ]
    }
   ],
   "source": [
    "media = (num_1_media + num_2_media + num_3_media)/3\n",
    "print (media)\n",
    "#print (float (num_1_media + num_2_media + num_3_media)/3)"
   ]
  },
  {
   "cell_type": "code",
   "execution_count": 24,
   "id": "fc54a4cd-af63-4842-a771-1996f930fd9d",
   "metadata": {},
   "outputs": [
    {
     "name": "stdin",
     "output_type": "stream",
     "text": [
      "Número? 4\n"
     ]
    }
   ],
   "source": [
    "numero_quadrado = float (input (\"Número?\"))"
   ]
  },
  {
   "cell_type": "code",
   "execution_count": 32,
   "id": "ee2b0056-caaf-43b6-b70d-15ece660d103",
   "metadata": {},
   "outputs": [
    {
     "name": "stdout",
     "output_type": "stream",
     "text": [
      "16\n"
     ]
    }
   ],
   "source": [
    "print (int(numero_quadrado**2))\n",
    "#quadrado = numero_quadrado**2 \n",
    "#print (quadrado)"
   ]
  },
  {
   "cell_type": "code",
   "execution_count": null,
   "id": "fe509d40-495f-4d70-a04b-f0724f14b7b4",
   "metadata": {},
   "outputs": [],
   "source": []
  }
 ],
 "metadata": {
  "kernelspec": {
   "display_name": "Python 3 (ipykernel)",
   "language": "python",
   "name": "python3"
  },
  "language_info": {
   "codemirror_mode": {
    "name": "ipython",
    "version": 3
   },
   "file_extension": ".py",
   "mimetype": "text/x-python",
   "name": "python",
   "nbconvert_exporter": "python",
   "pygments_lexer": "ipython3",
   "version": "3.12.7"
  }
 },
 "nbformat": 4,
 "nbformat_minor": 5
}
