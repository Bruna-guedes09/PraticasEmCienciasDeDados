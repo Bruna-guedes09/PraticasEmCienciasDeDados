{
 "cells": [
  {
   "cell_type": "code",
   "execution_count": null,
   "id": "a60a777c-7f61-4a3b-a148-4f8fd079ce4e",
   "metadata": {},
   "outputs": [],
   "source": [
    "# variavel inteira"
   ]
  },
  {
   "cell_type": "code",
   "execution_count": 4,
   "id": "cf6497c6-0584-41fc-a47f-7b1f15722601",
   "metadata": {},
   "outputs": [
    {
     "name": "stdout",
     "output_type": "stream",
     "text": [
      "25\n"
     ]
    }
   ],
   "source": [
    "idade = 25\n",
    "\n",
    "print (idade)"
   ]
  },
  {
   "cell_type": "code",
   "execution_count": null,
   "id": "79462728-1874-44e4-b7c1-a153e33acb34",
   "metadata": {},
   "outputs": [],
   "source": [
    "# variavel de ponto flutuante "
   ]
  },
  {
   "cell_type": "code",
   "execution_count": 5,
   "id": "13c95a71-5d78-43fe-bca0-6aec25656027",
   "metadata": {},
   "outputs": [
    {
     "name": "stdout",
     "output_type": "stream",
     "text": [
      "1.75\n"
     ]
    }
   ],
   "source": [
    "altura = 1.75\n",
    "print (altura)"
   ]
  },
  {
   "cell_type": "code",
   "execution_count": null,
   "id": "dbec7356-6d1a-4010-b2ea-cd3df1dd194c",
   "metadata": {},
   "outputs": [],
   "source": [
    "# variavel de caractere"
   ]
  },
  {
   "cell_type": "code",
   "execution_count": 6,
   "id": "8a9fcbdb-e6b3-42cf-b3a5-64420fd6a17f",
   "metadata": {},
   "outputs": [
    {
     "name": "stdout",
     "output_type": "stream",
     "text": [
      "A\n"
     ]
    }
   ],
   "source": [
    "letra = 'A'\n",
    "print (letra)"
   ]
  },
  {
   "cell_type": "code",
   "execution_count": 16,
   "id": "625da0fb-6b85-42a2-bf95-df853bd1f393",
   "metadata": {},
   "outputs": [
    {
     "ename": "SyntaxError",
     "evalue": "invalid syntax (2960101053.py, line 1)",
     "output_type": "error",
     "traceback": [
      "\u001b[1;36m  Cell \u001b[1;32mIn[16], line 1\u001b[1;36m\u001b[0m\n\u001b[1;33m    and = \"teste1\"\u001b[0m\n\u001b[1;37m    ^\u001b[0m\n\u001b[1;31mSyntaxError\u001b[0m\u001b[1;31m:\u001b[0m invalid syntax\n"
     ]
    }
   ],
   "source": [
    "and = \"teste1\""
   ]
  },
  {
   "cell_type": "code",
   "execution_count": 17,
   "id": "3949bad1-a4c1-4b12-8aeb-fde1c1a3079c",
   "metadata": {},
   "outputs": [
    {
     "ename": "SyntaxError",
     "evalue": "invalid syntax (1623521139.py, line 1)",
     "output_type": "error",
     "traceback": [
      "\u001b[1;36m  Cell \u001b[1;32mIn[17], line 1\u001b[1;36m\u001b[0m\n\u001b[1;33m    in = \"teste 2\"\u001b[0m\n\u001b[1;37m    ^\u001b[0m\n\u001b[1;31mSyntaxError\u001b[0m\u001b[1;31m:\u001b[0m invalid syntax\n"
     ]
    }
   ],
   "source": [
    "in = \"teste 2\""
   ]
  },
  {
   "cell_type": "code",
   "execution_count": 9,
   "id": "5a48f679-3637-4102-a368-d0b9e09e9497",
   "metadata": {},
   "outputs": [
    {
     "ename": "SyntaxError",
     "evalue": "invalid syntax (201511345.py, line 1)",
     "output_type": "error",
     "traceback": [
      "\u001b[1;36m  Cell \u001b[1;32mIn[9], line 1\u001b[1;36m\u001b[0m\n\u001b[1;33m    break = \" teste 3\"\u001b[0m\n\u001b[1;37m          ^\u001b[0m\n\u001b[1;31mSyntaxError\u001b[0m\u001b[1;31m:\u001b[0m invalid syntax\n"
     ]
    }
   ],
   "source": [
    "break = \" teste 3\""
   ]
  },
  {
   "cell_type": "code",
   "execution_count": 10,
   "id": "7c12b83e-e496-4f24-b5f0-779e369302e9",
   "metadata": {},
   "outputs": [
    {
     "ename": "SyntaxError",
     "evalue": "invalid syntax (691034734.py, line 1)",
     "output_type": "error",
     "traceback": [
      "\u001b[1;36m  Cell \u001b[1;32mIn[10], line 1\u001b[1;36m\u001b[0m\n\u001b[1;33m    finally = \"teste 4\"\u001b[0m\n\u001b[1;37m    ^\u001b[0m\n\u001b[1;31mSyntaxError\u001b[0m\u001b[1;31m:\u001b[0m invalid syntax\n"
     ]
    }
   ],
   "source": [
    "finally = \"teste 4\""
   ]
  },
  {
   "cell_type": "code",
   "execution_count": 11,
   "id": "d28d9862-44e5-480e-b1bc-791bb0c62420",
   "metadata": {},
   "outputs": [
    {
     "ename": "SyntaxError",
     "evalue": "invalid syntax (1875779493.py, line 1)",
     "output_type": "error",
     "traceback": [
      "\u001b[1;36m  Cell \u001b[1;32mIn[11], line 1\u001b[1;36m\u001b[0m\n\u001b[1;33m    in = \"teste 5\"\u001b[0m\n\u001b[1;37m    ^\u001b[0m\n\u001b[1;31mSyntaxError\u001b[0m\u001b[1;31m:\u001b[0m invalid syntax\n"
     ]
    }
   ],
   "source": [
    "in = \"teste 5\""
   ]
  },
  {
   "cell_type": "code",
   "execution_count": 18,
   "id": "d8b13a11-f46f-431b-b8d1-48b4f29e9764",
   "metadata": {},
   "outputs": [
    {
     "name": "stdout",
     "output_type": "stream",
     "text": [
      "Bem-vindo(a), usuário!\n"
     ]
    }
   ],
   "source": [
    "print (\"Bem-vindo(a), usuário!\")"
   ]
  },
  {
   "cell_type": "code",
   "execution_count": 19,
   "id": "b5c223d1-9ddd-433d-be44-73723caa4dd4",
   "metadata": {},
   "outputs": [
    {
     "name": "stdin",
     "output_type": "stream",
     "text": [
      "Qual é o seu nome Bruna\n"
     ]
    }
   ],
   "source": [
    "nome = input (\"Qual é o seu nome\")"
   ]
  },
  {
   "cell_type": "code",
   "execution_count": 20,
   "id": "df2bd8fe-7bd5-4445-a048-17fb12a70b11",
   "metadata": {},
   "outputs": [
    {
     "name": "stdout",
     "output_type": "stream",
     "text": [
      "Bruna\n"
     ]
    }
   ],
   "source": [
    "print (nome)"
   ]
  },
  {
   "cell_type": "code",
   "execution_count": 22,
   "id": "45233bfe-52cf-4b2d-a2ea-4e386a5914e7",
   "metadata": {},
   "outputs": [],
   "source": [
    "nome = \"teste2\""
   ]
  },
  {
   "cell_type": "code",
   "execution_count": 23,
   "id": "c6558079-a84b-45f9-8dfc-3c92a36b85e6",
   "metadata": {},
   "outputs": [
    {
     "name": "stdout",
     "output_type": "stream",
     "text": [
      "teste2\n"
     ]
    }
   ],
   "source": [
    "print (nome)"
   ]
  },
  {
   "cell_type": "code",
   "execution_count": null,
   "id": "bda228af-4348-4942-a1c8-ef7e44711830",
   "metadata": {},
   "outputs": [],
   "source": []
  }
 ],
 "metadata": {
  "kernelspec": {
   "display_name": "Python 3 (ipykernel)",
   "language": "python",
   "name": "python3"
  },
  "language_info": {
   "codemirror_mode": {
    "name": "ipython",
    "version": 3
   },
   "file_extension": ".py",
   "mimetype": "text/x-python",
   "name": "python",
   "nbconvert_exporter": "python",
   "pygments_lexer": "ipython3",
   "version": "3.12.7"
  }
 },
 "nbformat": 4,
 "nbformat_minor": 5
}
