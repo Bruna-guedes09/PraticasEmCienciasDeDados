{
 "cells": [
  {
   "cell_type": "code",
   "execution_count": 2,
   "id": "6767ab7a-9b7b-4b6e-992c-74612edc401f",
   "metadata": {},
   "outputs": [
    {
     "name": "stdout",
     "output_type": "stream",
     "text": [
      "['virus', 'Dengue']\n",
      "['virus', 'Dengue', 'HIV']\n"
     ]
    }
   ],
   "source": [
    "virus = [\"virus\", \"Dengue\"]\n",
    "print (virus)\n",
    "\n",
    "virus.append(\"HIV\")\n",
    "print (virus)"
   ]
  },
  {
   "cell_type": "code",
   "execution_count": 5,
   "id": "848c6587-17e4-4665-a5a8-011ba3e81a85",
   "metadata": {},
   "outputs": [
    {
     "name": "stdout",
     "output_type": "stream",
     "text": [
      "['virus', 'teste', 'Dengue']\n"
     ]
    }
   ],
   "source": [
    "virus = [\"virus\", \"Dengue\"]\n",
    "virus.insert(1, \"teste\")\n",
    "print (virus)"
   ]
  },
  {
   "cell_type": "code",
   "execution_count": 7,
   "id": "c35f1426-afa4-4552-a774-00de98beca6e",
   "metadata": {},
   "outputs": [
    {
     "name": "stdout",
     "output_type": "stream",
     "text": [
      "['hiv']\n"
     ]
    }
   ],
   "source": [
    "virus = [\"hiv\", \"Dengue\"]\n",
    "virus.pop(1)\n",
    "print (virus)"
   ]
  },
  {
   "cell_type": "code",
   "execution_count": 8,
   "id": "b580bb77-25b3-476a-8d0f-8e3009ca4203",
   "metadata": {},
   "outputs": [
    {
     "name": "stdout",
     "output_type": "stream",
     "text": [
      "['Dengue']\n"
     ]
    }
   ],
   "source": [
    "virus = [\"hiv\", \"Dengue\"]\n",
    "virus.remove(\"hiv\")\n",
    "print (virus)"
   ]
  },
  {
   "cell_type": "code",
   "execution_count": 9,
   "id": "64f84390-998c-4157-bad2-96232dcfdf26",
   "metadata": {},
   "outputs": [
    {
     "name": "stdout",
     "output_type": "stream",
     "text": [
      "['Dengue', 'hiv']\n"
     ]
    }
   ],
   "source": [
    "virus = [\"hiv\", \"Dengue\"]\n",
    "virus.reverse()\n",
    "print (virus)"
   ]
  },
  {
   "cell_type": "code",
   "execution_count": 16,
   "id": "48c7e6a6-e250-47ff-8de6-93de38e4564e",
   "metadata": {},
   "outputs": [
    {
     "name": "stdout",
     "output_type": "stream",
     "text": [
      "['1', 'A', 'B', 'Dengue', 'b', 'hiv']\n"
     ]
    }
   ],
   "source": [
    "virus = [\"hiv\", \"Dengue\", \"A\", \"B\", \"b\", \"1\"]\n",
    "virus.sort() #organiza em ordem crescente ou alfabética, priorizando números, letras maiúsculas\n",
    "print (virus)"
   ]
  },
  {
   "cell_type": "code",
   "execution_count": 22,
   "id": "2eb19d9c-2845-4657-ab62-35acfc1dc844",
   "metadata": {},
   "outputs": [
    {
     "name": "stdout",
     "output_type": "stream",
     "text": [
      "0\n"
     ]
    }
   ],
   "source": [
    "virus = [\"hiv\", \"Dengue\"]\n",
    "virus.index(\"hiv\")\n",
    "print (virus.index(\"hiv\"))"
   ]
  },
  {
   "cell_type": "code",
   "execution_count": 23,
   "id": "5bb7f500-4971-49e2-800e-cfcd8d4b77d8",
   "metadata": {},
   "outputs": [
    {
     "name": "stdout",
     "output_type": "stream",
     "text": [
      "1\n"
     ]
    }
   ],
   "source": [
    "virus = [\"hiv\", \"Dengue\"]\n",
    "print (virus.count(\"hiv\"))"
   ]
  },
  {
   "cell_type": "code",
   "execution_count": 24,
   "id": "07741513-e62f-455f-a780-8cae1b628475",
   "metadata": {},
   "outputs": [
    {
     "name": "stdout",
     "output_type": "stream",
     "text": [
      "{'nome': 'Zica', 'tipo': 'virús', 'ano': 1947}\n"
     ]
    }
   ],
   "source": [
    "meu_dicionario = {\"nome\": \"Zica\", \"tipo\": \"vírus\", \"ano\": 1947}\n",
    "print (meu_dicionario)\n",
    "\n"
   ]
  },
  {
   "cell_type": "code",
   "execution_count": 26,
   "id": "c513bf57-acae-4772-89c4-5915eb923abf",
   "metadata": {},
   "outputs": [
    {
     "name": "stdout",
     "output_type": "stream",
     "text": [
      "{'nome': 'Gandalf', 'classe': 'Wizard', 'ordem': 'istari', 'altura': 1.85}\n"
     ]
    }
   ],
   "source": [
    "dicionario = {\"nome\": \"Gandalf\", \"classe\": \"Wizard\", \"ordem\": \"istari\", \"altura\": 1.85}\n",
    "print (dicionario)"
   ]
  },
  {
   "cell_type": "code",
   "execution_count": 27,
   "id": "2721153b-0114-4fad-8121-2448839eec61",
   "metadata": {},
   "outputs": [
    {
     "name": "stdout",
     "output_type": "stream",
     "text": [
      "Virus: HIV\n",
      "Virus: RNA\n"
     ]
    }
   ],
   "source": [
    "virus = {\"nome\": \"HIV\", \"genoma\":\"RNA\", \"tamanho_kb\":9.7}\n",
    "print (\"Virus:\", virus[\"nome\"])\n",
    "print (\"Virus:\", virus[\"genoma\"])"
   ]
  },
  {
   "cell_type": "code",
   "execution_count": 29,
   "id": "1a83d6c9-fa39-459b-b289-1c609f408e59",
   "metadata": {},
   "outputs": [
    {
     "name": "stdout",
     "output_type": "stream",
     "text": [
      "{'nome': 'HIV', 'genoma': 'RNA', 'tamanho_kb': 9.7, 'taxonomia': 'taxonomia1'}\n"
     ]
    }
   ],
   "source": [
    "virus = {\"nome\": \"HIV\", \"genoma\":\"RNA\", \"tamanho_kb\":9.7}\n",
    "virus[\"taxonomia\"] = \"taxonomia1\"\n",
    "\n",
    "print (virus)\n"
   ]
  },
  {
   "cell_type": "code",
   "execution_count": 46,
   "id": "31408f8a-ef0c-430f-b9bf-6ce277026cb3",
   "metadata": {},
   "outputs": [
    {
     "name": "stdout",
     "output_type": "stream",
     "text": [
      "'ano' é uma das chaves\n",
      "1234\n",
      "{'nome': 'HIV', 'genoma': 'RNA', 'tamanho_kb': 9.7, 'ano': 1234}\n"
     ]
    }
   ],
   "source": [
    "virus = {\"nome\": \"HIV\", \"genoma\":\"RNA\", \"tamanho_kb\":9.7, \"ano\":1234}\n",
    "\n",
    "if \"ano\" in virus:\n",
    "    print (\"'ano' é uma das chaves\")\n",
    "    print (virus[\"ano\"])\n",
    "else:\n",
    "    print (\"Chave 'ano' não encontrada\")\n",
    "\n",
    "print (virus)"
   ]
  },
  {
   "cell_type": "code",
   "execution_count": 50,
   "id": "821227a0-b04b-44eb-b19b-5fdf2226ec02",
   "metadata": {},
   "outputs": [
    {
     "data": {
      "text/plain": [
       "'É impar'"
      ]
     },
     "execution_count": 50,
     "metadata": {},
     "output_type": "execute_result"
    }
   ],
   "source": [
    "def verifica_par (numero):\n",
    "    if numero % 2 == 0:\n",
    "        return \"É par\"\n",
    "    else:\n",
    "        return \"É impar\"\n",
    "\n",
    "verifica_par(7)"
   ]
  },
  {
   "cell_type": "code",
   "execution_count": null,
   "id": "7fe11716-76ec-40d7-b993-b8a4858169c4",
   "metadata": {},
   "outputs": [],
   "source": []
  }
 ],
 "metadata": {
  "kernelspec": {
   "display_name": "Python 3 (ipykernel)",
   "language": "python",
   "name": "python3"
  },
  "language_info": {
   "codemirror_mode": {
    "name": "ipython",
    "version": 3
   },
   "file_extension": ".py",
   "mimetype": "text/x-python",
   "name": "python",
   "nbconvert_exporter": "python",
   "pygments_lexer": "ipython3",
   "version": "3.12.7"
  }
 },
 "nbformat": 4,
 "nbformat_minor": 5
}
