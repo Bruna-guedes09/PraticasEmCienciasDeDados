{
 "cells": [
  {
   "cell_type": "markdown",
   "id": "bf66b740-c15f-4cce-8610-32adf47ea7d9",
   "metadata": {},
   "source": [
    "Módulos embutidos\n",
    "=================\n",
    "\n",
    "**Autor:** Daniel R. Cassar\n",
    "\n"
   ]
  },
  {
   "cell_type": "markdown",
   "id": "f6ae2e91-bcd7-4b7e-aa08-08e6ec3e12c0",
   "metadata": {},
   "source": [
    "## Introdução\n",
    "\n"
   ]
  },
  {
   "cell_type": "markdown",
   "id": "8dfbc2c9-1fdc-4824-a9d5-878ab7b725d2",
   "metadata": {},
   "source": [
    "Em Python existe o conceito de **módulo**. Um módulo é um conjunto de funções, variáveis e classes prontas para uso. Diferente das funções embutidas que vimos no notebook anterior, para usar os módulos precisamos importá-los.\n",
    "\n"
   ]
  },
  {
   "cell_type": "markdown",
   "id": "dd04c6ef-93e1-4ac1-8c00-a611f2e71faa",
   "metadata": {},
   "source": [
    "## O espaço de nome\n",
    "\n"
   ]
  },
  {
   "cell_type": "markdown",
   "id": "77b8d917-21bd-4b1c-9164-03c8666b41fd",
   "metadata": {},
   "source": [
    "Quando importamos módulos nós criamos o que chamamos de **namespace**, ou &ldquo;espaço de nome&rdquo; em português. Veja isso na célula abaixo.\n",
    "\n"
   ]
  },
  {
   "cell_type": "code",
   "execution_count": 1,
   "id": "d70a8ddf-9c3d-462e-8b1e-ae25ea185835",
   "metadata": {},
   "outputs": [
    {
     "data": {
      "text/plain": [
       "3.141592653589793"
      ]
     },
     "execution_count": 1,
     "metadata": {},
     "output_type": "execute_result"
    }
   ],
   "source": [
    "import math\n",
    "\n",
    "math.pi"
   ]
  },
  {
   "cell_type": "markdown",
   "id": "34b1915d-f2e7-471e-9752-76e2694d2f8d",
   "metadata": {},
   "source": [
    "Na célula acima, nós importamos o módulo `math`, criando um espaço de nome chamado `math`. Podemos acessar funções, variáveis e classes do módulo `math` usando a notação `math.nome_do_objeto`.\n",
    "\n"
   ]
  },
  {
   "cell_type": "markdown",
   "id": "31dd5d76-588d-4e81-ae1e-f7d2f8e4b005",
   "metadata": {},
   "source": [
    "### Constantes matemáticas\n",
    "\n"
   ]
  },
  {
   "cell_type": "code",
   "execution_count": 2,
   "id": "91220770-2d58-491f-93e3-a4a0507d709b",
   "metadata": {},
   "outputs": [
    {
     "data": {
      "text/plain": [
       "3.141592653589793"
      ]
     },
     "execution_count": 2,
     "metadata": {},
     "output_type": "execute_result"
    }
   ],
   "source": [
    "math.pi"
   ]
  },
  {
   "cell_type": "code",
   "execution_count": 4,
   "id": "a199fb30-9275-4cc1-a64e-ec5731dbee06",
   "metadata": {},
   "outputs": [
    {
     "data": {
      "text/plain": [
       "2.718281828459045"
      ]
     },
     "execution_count": 4,
     "metadata": {},
     "output_type": "execute_result"
    }
   ],
   "source": [
    "math.e"
   ]
  },
  {
   "cell_type": "code",
   "execution_count": 3,
   "id": "4dae7bfc-80b4-49fd-92e7-f2882b843a35",
   "metadata": {},
   "outputs": [
    {
     "data": {
      "text/plain": [
       "nan"
      ]
     },
     "execution_count": 3,
     "metadata": {},
     "output_type": "execute_result"
    }
   ],
   "source": [
    "math.nan #not a number"
   ]
  },
  {
   "cell_type": "code",
   "execution_count": 4,
   "id": "60d4faaa-0112-4d4b-97f5-099aaf5aa9d4",
   "metadata": {},
   "outputs": [
    {
     "data": {
      "text/plain": [
       "inf"
      ]
     },
     "execution_count": 4,
     "metadata": {},
     "output_type": "execute_result"
    }
   ],
   "source": [
    "math.inf #infinito"
   ]
  },
  {
   "cell_type": "markdown",
   "id": "4889b5e1-04c1-4eba-8b14-41f8d780e892",
   "metadata": {},
   "source": [
    "### Trigonometria\n",
    "\n"
   ]
  },
  {
   "cell_type": "code",
   "execution_count": 5,
   "id": "9e9fca9f-76e4-4ed3-b6e1-9480e0a9283b",
   "metadata": {},
   "outputs": [
    {
     "data": {
      "text/plain": [
       "1.2246467991473532e-16"
      ]
     },
     "execution_count": 5,
     "metadata": {},
     "output_type": "execute_result"
    }
   ],
   "source": [
    "pi = math.pi\n",
    "\n",
    "math.sin(pi)"
   ]
  },
  {
   "cell_type": "code",
   "execution_count": null,
   "id": "16a0eaf5-78b2-4321-9e8e-193ba455d808",
   "metadata": {},
   "outputs": [],
   "source": [
    "math.cos(pi)"
   ]
  },
  {
   "cell_type": "code",
   "execution_count": null,
   "id": "7ff832b0-9fc4-4794-a279-af043e6d457c",
   "metadata": {},
   "outputs": [],
   "source": [
    "math.tan(pi)"
   ]
  },
  {
   "cell_type": "markdown",
   "id": "2cb62480-c877-4448-a7bb-b4ade662d7f1",
   "metadata": {},
   "source": [
    "### Exponencial e logarítmo\n",
    "\n"
   ]
  },
  {
   "cell_type": "code",
   "execution_count": null,
   "id": "d2e615f8-5e5d-4291-83b7-fdbcbcaf86b8",
   "metadata": {},
   "outputs": [],
   "source": [
    "math.log10(10000) "
   ]
  },
  {
   "cell_type": "code",
   "execution_count": null,
   "id": "4fec6936-7d8c-4cff-9372-b8356961596d",
   "metadata": {},
   "outputs": [],
   "source": [
    "math.log(10) #na base euler"
   ]
  },
  {
   "cell_type": "code",
   "execution_count": null,
   "id": "025e435f-4da2-4a70-b2b3-659ab0070851",
   "metadata": {},
   "outputs": [],
   "source": [
    "math.log(math.e) #e só existe no espaço math"
   ]
  },
  {
   "cell_type": "code",
   "execution_count": null,
   "id": "e8f137a0-165d-4e54-9f55-383310d509b0",
   "metadata": {},
   "outputs": [],
   "source": [
    "math.exp(10)"
   ]
  },
  {
   "cell_type": "markdown",
   "id": "99422398-ea7f-4f71-b15e-3aa4fc15f142",
   "metadata": {},
   "source": [
    "### O que mais o `math` oferece?\n",
    "\n"
   ]
  },
  {
   "cell_type": "code",
   "execution_count": 11,
   "id": "17838ca1-51fb-4d13-bf54-67fd1f76de8f",
   "metadata": {},
   "outputs": [
    {
     "data": {
      "text/plain": [
       "['__doc__',\n",
       " '__loader__',\n",
       " '__name__',\n",
       " '__package__',\n",
       " '__spec__',\n",
       " 'acos',\n",
       " 'acosh',\n",
       " 'asin',\n",
       " 'asinh',\n",
       " 'atan',\n",
       " 'atan2',\n",
       " 'atanh',\n",
       " 'cbrt',\n",
       " 'ceil',\n",
       " 'comb',\n",
       " 'copysign',\n",
       " 'cos',\n",
       " 'cosh',\n",
       " 'degrees',\n",
       " 'dist',\n",
       " 'e',\n",
       " 'erf',\n",
       " 'erfc',\n",
       " 'exp',\n",
       " 'exp2',\n",
       " 'expm1',\n",
       " 'fabs',\n",
       " 'factorial',\n",
       " 'floor',\n",
       " 'fmod',\n",
       " 'frexp',\n",
       " 'fsum',\n",
       " 'gamma',\n",
       " 'gcd',\n",
       " 'hypot',\n",
       " 'inf',\n",
       " 'isclose',\n",
       " 'isfinite',\n",
       " 'isinf',\n",
       " 'isnan',\n",
       " 'isqrt',\n",
       " 'lcm',\n",
       " 'ldexp',\n",
       " 'lgamma',\n",
       " 'log',\n",
       " 'log10',\n",
       " 'log1p',\n",
       " 'log2',\n",
       " 'modf',\n",
       " 'nan',\n",
       " 'nextafter',\n",
       " 'perm',\n",
       " 'pi',\n",
       " 'pow',\n",
       " 'prod',\n",
       " 'radians',\n",
       " 'remainder',\n",
       " 'sin',\n",
       " 'sinh',\n",
       " 'sqrt',\n",
       " 'sumprod',\n",
       " 'tan',\n",
       " 'tanh',\n",
       " 'tau',\n",
       " 'trunc',\n",
       " 'ulp']"
      ]
     },
     "execution_count": 11,
     "metadata": {},
     "output_type": "execute_result"
    }
   ],
   "source": [
    "dir(math)"
   ]
  },
  {
   "cell_type": "markdown",
   "id": "4ee8519a-2b32-4bb1-8348-57dcb52032df",
   "metadata": {},
   "source": [
    "## Outras formas de realizar a operação `import`\n",
    "\n"
   ]
  },
  {
   "cell_type": "markdown",
   "id": "ab0d235c-0b38-4710-8481-ac3aa47ed3cd",
   "metadata": {},
   "source": [
    "### Importando com um apelido\n",
    "\n"
   ]
  },
  {
   "cell_type": "code",
   "execution_count": 6,
   "id": "400a6ca7-5aa8-40da-a9f0-d839cfab6a9b",
   "metadata": {},
   "outputs": [
    {
     "name": "stdout",
     "output_type": "stream",
     "text": [
      "3.141592653589793\n",
      "2.718281828459045\n",
      "0.3010299956639812\n"
     ]
    }
   ],
   "source": [
    "import math as mt\n",
    "\n",
    "print(mt.pi)\n",
    "print(mt.e)\n",
    "print(mt.log10(2))"
   ]
  },
  {
   "cell_type": "markdown",
   "id": "29211483-0afd-4ad8-8595-a48ff4dd4c6f",
   "metadata": {},
   "source": [
    "### Importando sem usar espaço de nome\n",
    "\n"
   ]
  },
  {
   "cell_type": "code",
   "execution_count": null,
   "id": "89296b4b-bc16-4bbf-aa68-ea2d3b142291",
   "metadata": {},
   "outputs": [],
   "source": [
    "from math import pi\n",
    "\n",
    "pi"
   ]
  },
  {
   "cell_type": "code",
   "execution_count": 7,
   "id": "3033f98f-39b9-4fd9-a602-900970e248c9",
   "metadata": {},
   "outputs": [
    {
     "name": "stdout",
     "output_type": "stream",
     "text": [
      "2.718281828459045\n",
      "3.091315159697223\n",
      "2.718281828459045\n"
     ]
    }
   ],
   "source": [
    "from math import e, log10, exp\n",
    "\n",
    "print(e)\n",
    "print(log10(1234))\n",
    "print(exp(1))"
   ]
  },
  {
   "cell_type": "markdown",
   "id": "16b456d6-59ea-4827-a18b-08363ba76513",
   "metadata": {},
   "source": [
    "### Importando sem usar espaço de nome e com apelido\n",
    "\n"
   ]
  },
  {
   "cell_type": "code",
   "execution_count": 8,
   "id": "a279c70e-31ea-4cac-891d-385828b38390",
   "metadata": {},
   "outputs": [
    {
     "data": {
      "text/plain": [
       "3.0"
      ]
     },
     "execution_count": 8,
     "metadata": {},
     "output_type": "execute_result"
    }
   ],
   "source": [
    "from math import log10 as logaritmo\n",
    "\n",
    "logaritmo(1000)"
   ]
  },
  {
   "cell_type": "markdown",
   "id": "42e19425-d928-44e8-a6c4-28be71746872",
   "metadata": {},
   "source": [
    "### Importando TUDO sem usar espaço de nome (não recomendado)\n",
    "\n"
   ]
  },
  {
   "cell_type": "markdown",
   "id": "14560ae0-24e5-4f9d-bc05-5fe3cc3d9f7e",
   "metadata": {},
   "source": [
    "O código abaixo funciona e costuma ser muito utilizado por iniciantes. **No entanto, evite a todo custo usar esta estratégia**. Ele está aqui apenas para fins didáticos.\n",
    "\n"
   ]
  },
  {
   "cell_type": "code",
   "execution_count": 9,
   "id": "477553ce-e279-4e9d-b583-529f1c99456d",
   "metadata": {},
   "outputs": [
    {
     "name": "stdout",
     "output_type": "stream",
     "text": [
      "1.2246467991473532e-16\n",
      "-1.0\n",
      "-1.2246467991473532e-16\n"
     ]
    }
   ],
   "source": [
    "from math import *\n",
    "\n",
    "print(sin(pi))\n",
    "print(cos(pi))\n",
    "print(tan(pi))"
   ]
  },
  {
   "cell_type": "markdown",
   "id": "0c9e11b0-dabd-401d-b077-2aa0f1d63abd",
   "metadata": {},
   "source": [
    "## Exercícios\n",
    "\n"
   ]
  },
  {
   "cell_type": "markdown",
   "id": "85c442d6-b5e6-4afc-960c-7945128f51df",
   "metadata": {},
   "source": [
    "### Ahh, que saudades da trigonometria!\n",
    "\n"
   ]
  },
  {
   "cell_type": "markdown",
   "id": "d43c4595-8cff-46b4-9aa5-9ec871594673",
   "metadata": {},
   "source": [
    "Da trigonometria sabemos que $\\mathrm{sen}^2(x) + \\cos{}^2(x) = 1$. Crie uma função que recebe um ângulo $x$ em graus, converte ele para radianos, e retorna o valor de $\\mathrm{sen}^2(x) + \\cos{}^2(x)$. Teste esta função para todos os ângulos de 0 até 360 graus, de um em um. <u>Dica</u>: se você está escrevendo cada um dos ângulos &ldquo;na mão&rdquo;, reflita se não existe uma forma melhor de fazer isso.\n",
    "\n",
    "**Obs**: realize todas as importações necessárias na célula abaixo (isto é, não leve em consideração as importações realizadas acima).\n",
    "\n"
   ]
  },
  {
   "cell_type": "code",
   "execution_count": 10,
   "id": "b8fd3f03-b2d6-4fcd-b52c-7780b8e1740b",
   "metadata": {},
   "outputs": [
    {
     "name": "stdout",
     "output_type": "stream",
     "text": [
      "0  graus. Resultado = 1.0\n",
      "1  graus. Resultado = 1.0\n",
      "2  graus. Resultado = 1.0\n",
      "3  graus. Resultado = 0.9999999999999999\n",
      "4  graus. Resultado = 0.9999999999999999\n",
      "5  graus. Resultado = 1.0\n",
      "6  graus. Resultado = 0.9999999999999999\n",
      "7  graus. Resultado = 0.9999999999999999\n",
      "8  graus. Resultado = 1.0000000000000002\n",
      "9  graus. Resultado = 1.0\n",
      "10  graus. Resultado = 0.9999999999999999\n",
      "11  graus. Resultado = 1.0\n",
      "12  graus. Resultado = 1.0000000000000002\n",
      "13  graus. Resultado = 1.0\n",
      "14  graus. Resultado = 1.0\n",
      "15  graus. Resultado = 1.0\n",
      "16  graus. Resultado = 1.0\n",
      "17  graus. Resultado = 1.0\n",
      "18  graus. Resultado = 0.9999999999999999\n",
      "19  graus. Resultado = 1.0\n",
      "20  graus. Resultado = 1.0\n",
      "21  graus. Resultado = 1.0\n",
      "22  graus. Resultado = 1.0\n",
      "23  graus. Resultado = 1.0\n",
      "24  graus. Resultado = 0.9999999999999999\n",
      "25  graus. Resultado = 1.0\n",
      "26  graus. Resultado = 1.0\n",
      "27  graus. Resultado = 1.0\n",
      "28  graus. Resultado = 1.0\n",
      "29  graus. Resultado = 0.9999999999999999\n",
      "30  graus. Resultado = 1.0\n",
      "31  graus. Resultado = 1.0\n",
      "32  graus. Resultado = 1.0\n",
      "33  graus. Resultado = 1.0\n",
      "34  graus. Resultado = 1.0000000000000002\n",
      "35  graus. Resultado = 0.9999999999999999\n",
      "36  graus. Resultado = 1.0\n",
      "37  graus. Resultado = 1.0\n",
      "38  graus. Resultado = 1.0\n",
      "39  graus. Resultado = 1.0\n",
      "40  graus. Resultado = 0.9999999999999999\n",
      "41  graus. Resultado = 1.0\n",
      "42  graus. Resultado = 1.0\n",
      "43  graus. Resultado = 0.9999999999999999\n",
      "44  graus. Resultado = 1.0\n",
      "45  graus. Resultado = 1.0000000000000002\n",
      "46  graus. Resultado = 1.0\n",
      "47  graus. Resultado = 0.9999999999999999\n",
      "48  graus. Resultado = 1.0\n",
      "49  graus. Resultado = 1.0\n",
      "50  graus. Resultado = 1.0\n",
      "51  graus. Resultado = 1.0\n",
      "52  graus. Resultado = 1.0\n",
      "53  graus. Resultado = 1.0\n",
      "54  graus. Resultado = 1.0\n",
      "55  graus. Resultado = 0.9999999999999999\n",
      "56  graus. Resultado = 1.0\n",
      "57  graus. Resultado = 1.0\n",
      "58  graus. Resultado = 1.0000000000000002\n",
      "59  graus. Resultado = 1.0\n",
      "60  graus. Resultado = 1.0\n",
      "61  graus. Resultado = 1.0\n",
      "62  graus. Resultado = 1.0\n",
      "63  graus. Resultado = 0.9999999999999999\n",
      "64  graus. Resultado = 1.0\n",
      "65  graus. Resultado = 1.0\n",
      "66  graus. Resultado = 0.9999999999999999\n",
      "67  graus. Resultado = 1.0\n",
      "68  graus. Resultado = 1.0\n",
      "69  graus. Resultado = 1.0\n",
      "70  graus. Resultado = 0.9999999999999999\n",
      "71  graus. Resultado = 0.9999999999999999\n",
      "72  graus. Resultado = 0.9999999999999999\n",
      "73  graus. Resultado = 1.0\n",
      "74  graus. Resultado = 1.0\n",
      "75  graus. Resultado = 1.0\n",
      "76  graus. Resultado = 1.0\n",
      "77  graus. Resultado = 1.0\n",
      "78  graus. Resultado = 1.0\n",
      "79  graus. Resultado = 1.0\n",
      "80  graus. Resultado = 0.9999999999999999\n",
      "81  graus. Resultado = 1.0\n",
      "82  graus. Resultado = 1.0000000000000002\n",
      "83  graus. Resultado = 1.0\n",
      "84  graus. Resultado = 0.9999999999999999\n",
      "85  graus. Resultado = 1.0\n",
      "86  graus. Resultado = 0.9999999999999999\n",
      "87  graus. Resultado = 0.9999999999999999\n",
      "88  graus. Resultado = 1.0\n",
      "89  graus. Resultado = 1.0\n",
      "90  graus. Resultado = 1.0\n",
      "91  graus. Resultado = 1.0\n",
      "92  graus. Resultado = 1.0\n",
      "93  graus. Resultado = 0.9999999999999999\n",
      "94  graus. Resultado = 0.9999999999999999\n",
      "95  graus. Resultado = 1.0\n",
      "96  graus. Resultado = 0.9999999999999999\n",
      "97  graus. Resultado = 1.0000000000000002\n",
      "98  graus. Resultado = 1.0\n",
      "99  graus. Resultado = 1.0\n",
      "100  graus. Resultado = 0.9999999999999999\n",
      "101  graus. Resultado = 1.0\n",
      "102  graus. Resultado = 1.0000000000000002\n",
      "103  graus. Resultado = 1.0\n",
      "104  graus. Resultado = 1.0\n",
      "105  graus. Resultado = 1.0000000000000002\n",
      "106  graus. Resultado = 1.0\n",
      "107  graus. Resultado = 1.0\n",
      "108  graus. Resultado = 1.0\n",
      "109  graus. Resultado = 1.0\n",
      "110  graus. Resultado = 1.0\n",
      "111  graus. Resultado = 1.0\n",
      "112  graus. Resultado = 1.0\n",
      "113  graus. Resultado = 0.9999999999999999\n",
      "114  graus. Resultado = 1.0\n",
      "115  graus. Resultado = 1.0\n",
      "116  graus. Resultado = 0.9999999999999999\n",
      "117  graus. Resultado = 1.0\n",
      "118  graus. Resultado = 1.0\n",
      "119  graus. Resultado = 1.0\n",
      "120  graus. Resultado = 0.9999999999999999\n",
      "121  graus. Resultado = 1.0000000000000002\n",
      "122  graus. Resultado = 1.0\n",
      "123  graus. Resultado = 1.0\n",
      "124  graus. Resultado = 0.9999999999999999\n",
      "125  graus. Resultado = 1.0\n",
      "126  graus. Resultado = 0.9999999999999999\n",
      "127  graus. Resultado = 1.0\n",
      "128  graus. Resultado = 1.0\n",
      "129  graus. Resultado = 1.0\n",
      "130  graus. Resultado = 1.0\n",
      "131  graus. Resultado = 1.0\n",
      "132  graus. Resultado = 1.0\n",
      "133  graus. Resultado = 1.0\n",
      "134  graus. Resultado = 1.0\n",
      "135  graus. Resultado = 1.0\n",
      "136  graus. Resultado = 1.0\n",
      "137  graus. Resultado = 0.9999999999999999\n",
      "138  graus. Resultado = 1.0\n",
      "139  graus. Resultado = 1.0\n",
      "140  graus. Resultado = 1.0\n",
      "141  graus. Resultado = 1.0\n",
      "142  graus. Resultado = 1.0\n",
      "143  graus. Resultado = 1.0\n",
      "144  graus. Resultado = 1.0\n",
      "145  graus. Resultado = 1.0\n",
      "146  graus. Resultado = 1.0\n",
      "147  graus. Resultado = 1.0\n",
      "148  graus. Resultado = 1.0\n",
      "149  graus. Resultado = 1.0\n",
      "150  graus. Resultado = 1.0\n",
      "151  graus. Resultado = 1.0\n",
      "152  graus. Resultado = 1.0\n",
      "153  graus. Resultado = 1.0\n",
      "154  graus. Resultado = 1.0\n",
      "155  graus. Resultado = 1.0\n",
      "156  graus. Resultado = 1.0\n",
      "157  graus. Resultado = 1.0\n",
      "158  graus. Resultado = 1.0\n",
      "159  graus. Resultado = 1.0\n",
      "160  graus. Resultado = 0.9999999999999999\n",
      "161  graus. Resultado = 1.0\n",
      "162  graus. Resultado = 1.0\n",
      "163  graus. Resultado = 1.0\n",
      "164  graus. Resultado = 1.0\n",
      "165  graus. Resultado = 1.0\n",
      "166  graus. Resultado = 1.0\n",
      "167  graus. Resultado = 0.9999999999999999\n",
      "168  graus. Resultado = 1.0000000000000002\n",
      "169  graus. Resultado = 1.0\n",
      "170  graus. Resultado = 0.9999999999999999\n",
      "171  graus. Resultado = 0.9999999999999999\n",
      "172  graus. Resultado = 1.0\n",
      "173  graus. Resultado = 1.0\n",
      "174  graus. Resultado = 1.0\n",
      "175  graus. Resultado = 1.0\n",
      "176  graus. Resultado = 0.9999999999999999\n",
      "177  graus. Resultado = 0.9999999999999999\n",
      "178  graus. Resultado = 1.0\n",
      "179  graus. Resultado = 1.0\n",
      "180  graus. Resultado = 1.0\n",
      "181  graus. Resultado = 1.0\n",
      "182  graus. Resultado = 1.0\n",
      "183  graus. Resultado = 0.9999999999999999\n",
      "184  graus. Resultado = 0.9999999999999999\n",
      "185  graus. Resultado = 1.0\n",
      "186  graus. Resultado = 0.9999999999999999\n",
      "187  graus. Resultado = 1.0000000000000002\n",
      "188  graus. Resultado = 0.9999999999999999\n",
      "189  graus. Resultado = 1.0\n",
      "190  graus. Resultado = 1.0\n",
      "191  graus. Resultado = 1.0\n",
      "192  graus. Resultado = 1.0\n",
      "193  graus. Resultado = 1.0\n",
      "194  graus. Resultado = 0.9999999999999999\n",
      "195  graus. Resultado = 1.0\n",
      "196  graus. Resultado = 1.0\n",
      "197  graus. Resultado = 1.0\n",
      "198  graus. Resultado = 1.0\n",
      "199  graus. Resultado = 0.9999999999999999\n",
      "200  graus. Resultado = 1.0\n",
      "201  graus. Resultado = 1.0\n",
      "202  graus. Resultado = 1.0\n",
      "203  graus. Resultado = 1.0\n",
      "204  graus. Resultado = 0.9999999999999999\n",
      "205  graus. Resultado = 1.0\n",
      "206  graus. Resultado = 0.9999999999999999\n",
      "207  graus. Resultado = 1.0\n",
      "208  graus. Resultado = 1.0\n",
      "209  graus. Resultado = 1.0\n",
      "210  graus. Resultado = 1.0\n",
      "211  graus. Resultado = 1.0\n",
      "212  graus. Resultado = 1.0\n",
      "213  graus. Resultado = 1.0\n",
      "214  graus. Resultado = 0.9999999999999999\n",
      "215  graus. Resultado = 1.0\n",
      "216  graus. Resultado = 0.9999999999999999\n",
      "217  graus. Resultado = 1.0\n",
      "218  graus. Resultado = 1.0\n",
      "219  graus. Resultado = 1.0\n",
      "220  graus. Resultado = 0.9999999999999999\n",
      "221  graus. Resultado = 0.9999999999999999\n",
      "222  graus. Resultado = 1.0\n",
      "223  graus. Resultado = 1.0\n",
      "224  graus. Resultado = 0.9999999999999998\n",
      "225  graus. Resultado = 1.0\n",
      "226  graus. Resultado = 1.0\n",
      "227  graus. Resultado = 1.0\n",
      "228  graus. Resultado = 1.0\n",
      "229  graus. Resultado = 1.0\n",
      "230  graus. Resultado = 1.0\n",
      "231  graus. Resultado = 1.0\n",
      "232  graus. Resultado = 1.0\n",
      "233  graus. Resultado = 1.0\n",
      "234  graus. Resultado = 1.0\n",
      "235  graus. Resultado = 1.0\n",
      "236  graus. Resultado = 1.0\n",
      "237  graus. Resultado = 1.0\n",
      "238  graus. Resultado = 1.0\n",
      "239  graus. Resultado = 0.9999999999999998\n",
      "240  graus. Resultado = 1.0\n",
      "241  graus. Resultado = 0.9999999999999999\n",
      "242  graus. Resultado = 1.0\n",
      "243  graus. Resultado = 1.0\n",
      "244  graus. Resultado = 1.0\n",
      "245  graus. Resultado = 1.0000000000000002\n",
      "246  graus. Resultado = 1.0\n",
      "247  graus. Resultado = 0.9999999999999999\n",
      "248  graus. Resultado = 1.0\n",
      "249  graus. Resultado = 1.0\n",
      "250  graus. Resultado = 0.9999999999999999\n",
      "251  graus. Resultado = 1.0\n",
      "252  graus. Resultado = 1.0\n",
      "253  graus. Resultado = 1.0\n",
      "254  graus. Resultado = 1.0\n",
      "255  graus. Resultado = 1.0\n",
      "256  graus. Resultado = 1.0\n",
      "257  graus. Resultado = 0.9999999999999999\n",
      "258  graus. Resultado = 1.0000000000000002\n",
      "259  graus. Resultado = 0.9999999999999999\n",
      "260  graus. Resultado = 0.9999999999999999\n",
      "261  graus. Resultado = 0.9999999999999999\n",
      "262  graus. Resultado = 1.0\n",
      "263  graus. Resultado = 1.0\n",
      "264  graus. Resultado = 1.0000000000000002\n",
      "265  graus. Resultado = 1.0\n",
      "266  graus. Resultado = 1.0\n",
      "267  graus. Resultado = 0.9999999999999999\n",
      "268  graus. Resultado = 1.0\n",
      "269  graus. Resultado = 1.0\n",
      "270  graus. Resultado = 1.0\n",
      "271  graus. Resultado = 1.0\n",
      "272  graus. Resultado = 1.0\n",
      "273  graus. Resultado = 0.9999999999999999\n",
      "274  graus. Resultado = 1.0000000000000002\n",
      "275  graus. Resultado = 1.0\n",
      "276  graus. Resultado = 1.0\n",
      "277  graus. Resultado = 1.0\n",
      "278  graus. Resultado = 1.0000000000000002\n",
      "279  graus. Resultado = 1.0\n",
      "280  graus. Resultado = 1.0\n",
      "281  graus. Resultado = 0.9999999999999999\n",
      "282  graus. Resultado = 1.0\n",
      "283  graus. Resultado = 1.0\n",
      "284  graus. Resultado = 1.0\n",
      "285  graus. Resultado = 1.0\n",
      "286  graus. Resultado = 0.9999999999999999\n",
      "287  graus. Resultado = 1.0\n",
      "288  graus. Resultado = 1.0\n",
      "289  graus. Resultado = 1.0\n",
      "290  graus. Resultado = 1.0\n",
      "291  graus. Resultado = 1.0\n",
      "292  graus. Resultado = 1.0\n",
      "293  graus. Resultado = 1.0\n",
      "294  graus. Resultado = 1.0\n",
      "295  graus. Resultado = 0.9999999999999999\n",
      "296  graus. Resultado = 1.0\n",
      "297  graus. Resultado = 1.0\n",
      "298  graus. Resultado = 1.0\n",
      "299  graus. Resultado = 1.0\n",
      "300  graus. Resultado = 1.0\n",
      "301  graus. Resultado = 1.0\n",
      "302  graus. Resultado = 1.0\n",
      "303  graus. Resultado = 1.0\n",
      "304  graus. Resultado = 1.0\n",
      "305  graus. Resultado = 0.9999999999999999\n",
      "306  graus. Resultado = 1.0\n",
      "307  graus. Resultado = 0.9999999999999999\n",
      "308  graus. Resultado = 1.0\n",
      "309  graus. Resultado = 0.9999999999999999\n",
      "310  graus. Resultado = 1.0\n",
      "311  graus. Resultado = 1.0\n",
      "312  graus. Resultado = 0.9999999999999999\n",
      "313  graus. Resultado = 1.0\n",
      "314  graus. Resultado = 0.9999999999999998\n",
      "315  graus. Resultado = 1.0\n",
      "316  graus. Resultado = 1.0\n",
      "317  graus. Resultado = 1.0\n",
      "318  graus. Resultado = 0.9999999999999999\n",
      "319  graus. Resultado = 1.0\n",
      "320  graus. Resultado = 1.0\n",
      "321  graus. Resultado = 1.0\n",
      "322  graus. Resultado = 1.0\n",
      "323  graus. Resultado = 1.0\n",
      "324  graus. Resultado = 1.0000000000000002\n",
      "325  graus. Resultado = 1.0\n",
      "326  graus. Resultado = 1.0\n",
      "327  graus. Resultado = 1.0\n",
      "328  graus. Resultado = 0.9999999999999998\n",
      "329  graus. Resultado = 1.0\n",
      "330  graus. Resultado = 1.0\n",
      "331  graus. Resultado = 1.0\n",
      "332  graus. Resultado = 1.0\n",
      "333  graus. Resultado = 1.0\n",
      "334  graus. Resultado = 1.0\n",
      "335  graus. Resultado = 1.0\n",
      "336  graus. Resultado = 1.0\n",
      "337  graus. Resultado = 1.0\n",
      "338  graus. Resultado = 1.0\n",
      "339  graus. Resultado = 0.9999999999999999\n",
      "340  graus. Resultado = 1.0\n",
      "341  graus. Resultado = 1.0\n",
      "342  graus. Resultado = 1.0\n",
      "343  graus. Resultado = 1.0\n",
      "344  graus. Resultado = 0.9999999999999999\n",
      "345  graus. Resultado = 1.0\n",
      "346  graus. Resultado = 1.0\n",
      "347  graus. Resultado = 1.0\n",
      "348  graus. Resultado = 1.0000000000000002\n",
      "349  graus. Resultado = 1.0\n",
      "350  graus. Resultado = 0.9999999999999999\n",
      "351  graus. Resultado = 0.9999999999999999\n",
      "352  graus. Resultado = 1.0\n",
      "353  graus. Resultado = 1.0\n",
      "354  graus. Resultado = 0.9999999999999999\n",
      "355  graus. Resultado = 1.0\n",
      "356  graus. Resultado = 1.0\n",
      "357  graus. Resultado = 0.9999999999999999\n",
      "358  graus. Resultado = 1.0\n",
      "359  graus. Resultado = 1.0\n",
      "360  graus. Resultado = 1.0\n"
     ]
    }
   ],
   "source": [
    "import math\n",
    "\n",
    "def calcula_trigonometria (graus):\n",
    "    radianos = math.radians(graus)\n",
    "    resultado = ((math.sin(radianos)**2) + (math.cos(radianos)**2))\n",
    "    return resultado\n",
    "\n",
    "for i in range (361):\n",
    "    print(i, \" graus. Resultado =\", calcula_trigonometria (i))"
   ]
  },
  {
   "cell_type": "markdown",
   "id": "b8f6bd4e-c682-4236-845d-8564f3ba4ee2",
   "metadata": {},
   "source": [
    "### Fatorial de um número não-inteiro\n",
    "\n"
   ]
  },
  {
   "cell_type": "markdown",
   "id": "6f8690ff-7f5d-4a25-99bd-991bc65d7f53",
   "metadata": {},
   "source": [
    "Você já se perguntou o que seria o fatorial de um número não-inteiro? Se sim, então você está se sentindo como Daniel Bernoulli se sentiu há quase 300 anos. A função Gama ($\\Gamma$) é o que chamamos de extensão da função fatorial e ela funciona para números não-inteiros! Sabendo que $\\Gamma(n+1) = n!$, qual seria o fatorial de $\\pi$? Use o módulo `math` para este cálculo. <u>Dica</u>: a letra grega gama em inglês se escreve *gamma*, com dois &ldquo;m&rdquo;. <u>Dica 2</u>: dê uma olhada nos itens que obtivemos quando rodamos `dir(math)`. <u>Dica 3</u>: lembre-se que a função `help` existe!\n",
    "\n",
    "**Obs**: realize todas as importações necessárias na célula abaixo (isto é, não leve em consideração as importações realizadas acima).\n",
    "\n"
   ]
  },
  {
   "cell_type": "code",
   "execution_count": 14,
   "id": "1bbbde85-8482-430a-b3f0-2528398a11a3",
   "metadata": {},
   "outputs": [
    {
     "name": "stdout",
     "output_type": "stream",
     "text": [
      "Fatorial de pi= 7.188082728976031\n"
     ]
    }
   ],
   "source": [
    "import math\n",
    "def fatorial (num):\n",
    "    resultado = math.gamma(num +1 )\n",
    "    return resultado\n",
    "\n",
    "print (\"Fatorial de pi=\", fatorial (math.pi))"
   ]
  },
  {
   "cell_type": "markdown",
   "id": "90a7f1f0-47f6-4bde-b658-6de59456e394",
   "metadata": {},
   "source": [
    "## XKCD relevante\n",
    "\n"
   ]
  },
  {
   "cell_type": "markdown",
   "id": "d8edf44a-c3be-4953-9afb-1164f32b5c1e",
   "metadata": {},
   "source": [
    "![img](https://imgs.xkcd.com/comics/number_shortage.png)\n",
    "\n",
    "`Imagem: Number Shortage (XKCD) disponível em https://xkcd.com/3009`\n",
    "\n"
   ]
  }
 ],
 "metadata": {
  "kernelspec": {
   "display_name": "ilumpy",
   "language": "python",
   "name": "ilumpy"
  },
  "language_info": {
   "codemirror_mode": {
    "name": "ipython",
    "version": 3
   },
   "file_extension": ".py",
   "mimetype": "text/x-python",
   "name": "python",
   "nbconvert_exporter": "python",
   "pygments_lexer": "ipython3",
   "version": "3.12.7"
  },
  "org": null
 },
 "nbformat": 4,
 "nbformat_minor": 5
}
