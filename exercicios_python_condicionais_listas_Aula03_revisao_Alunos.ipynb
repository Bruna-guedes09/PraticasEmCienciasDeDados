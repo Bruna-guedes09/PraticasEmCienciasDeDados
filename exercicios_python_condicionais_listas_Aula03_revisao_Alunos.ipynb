{
 "cells": [
  {
   "cell_type": "markdown",
   "id": "39735764",
   "metadata": {},
   "source": [
    "## Virologia – Exercício 1: RNA ou DNA\n",
    "\n",
    "**Enunciado:** Crie um programa que leia uma sequência de ácido nucleico. Se a sequência contiver a base 'U', ela provavelmente é de RNA. Se contiver 'T', provavelmente é de DNA. Caso contenha as duas ou nenhuma, informe que é ambígua."
   ]
  },
  {
   "cell_type": "code",
   "execution_count": 25,
   "id": "5d7caed7",
   "metadata": {},
   "outputs": [
    {
     "name": "stdout",
     "output_type": "stream",
     "text": [
      "Ánálise de sequência\n",
      "Digite a sequência de ácido nucleico:\n"
     ]
    },
    {
     "name": "stdin",
     "output_type": "stream",
     "text": [
      "Próximo elemento ou 0 para terminar: t\n",
      "Próximo elemento ou 0 para terminar: u\n",
      "Próximo elemento ou 0 para terminar: 0\n"
     ]
    },
    {
     "name": "stdout",
     "output_type": "stream",
     "text": [
      "Sequência é ambígua.\n",
      "Sequência: ['T', 'U']\n"
     ]
    }
   ],
   "source": [
    "print (\"Ánálise de sequência\") \n",
    "print (\"Digite a sequência de ácido nucleico:\")\n",
    "cont=0\n",
    "flagRNA = False\n",
    "flagDNA = False\n",
    "\n",
    "seqlist=[] #array dinamico, pois não sabe o número de elementos\n",
    "\n",
    "while True:\n",
    "    seq = input(\"Próximo elemento ou 0 para terminar:\")\n",
    "    if seq == \"0\": \n",
    "        break\n",
    "    seqlist.append (seq.upper())\n",
    "    if seq.upper() == \"U\":\n",
    "        flagRNA = True\n",
    "    elif seq.upper() == \"T\":\n",
    "        flagDNA = True\n",
    "    cont = cont + 1\n",
    "if cont == 0:\n",
    "    print (\"Sequência vazia\")\n",
    "elif flagRNA and not flagDNA:\n",
    "    print (\"Sequência provavelmente é um RNA.\")\n",
    "elif flagDNA and not flagRNA:\n",
    "    print (\"Sequência provavelmente é um DNA.\")\n",
    "else:\n",
    "    print (\"Sequência é ambígua.\")\n",
    "\n",
    "print (\"Sequência:\", seqlist)"
   ]
  },
  {
   "cell_type": "markdown",
   "id": "11496dc1",
   "metadata": {},
   "source": [
    "## Virologia – Exercício 2: Vírus envelopado\n",
    "\n",
    "**Enunciado:** Peça o nome de um vírus ao usuário e diga se ele é envelopado ou não com base em exemplos conhecidos."
   ]
  },
  {
   "cell_type": "code",
   "execution_count": 29,
   "id": "b8294fc3",
   "metadata": {},
   "outputs": [
    {
     "name": "stdin",
     "output_type": "stream",
     "text": [
      "Insira nome vírus: lalal\n"
     ]
    },
    {
     "name": "stdout",
     "output_type": "stream",
     "text": [
      "lalal não é um vírus envelopado.\n"
     ]
    }
   ],
   "source": [
    "virus_envelopados = [ \"HIV\", \"EBOLA\", \"CHIKUNGUNYA\", \"DENGUE\", \"ZIKA\", \"SARS-COV-2\", \"INFLUENZA\", \"RSV\", \"LASSA\", \"HTLVS\"]\n",
    "virus = input (\"Insira nome vírus:\")\n",
    "if virus.upper() in virus_envelopados:\n",
    "    print (virus, \"é um vírus envelopado.\")\n",
    "else:\n",
    "    print (virus, \"não é um vírus envelopado.\")\n"
   ]
  },
  {
   "cell_type": "markdown",
   "id": "8e83d3d1",
   "metadata": {},
   "source": [
    "## Virologia – Exercício 3: Carga viral\n",
    "\n",
    "**Enunciado:** Peça um valor de carga viral e classifique como baixa (<50), moderada (50–10.000) ou alta (>10.000)."
   ]
  },
  {
   "cell_type": "code",
   "execution_count": 36,
   "id": "87625b88",
   "metadata": {},
   "outputs": [
    {
     "name": "stdin",
     "output_type": "stream",
     "text": [
      "Carga viral: 10000\n"
     ]
    },
    {
     "name": "stdout",
     "output_type": "stream",
     "text": [
      "10000.0  representa uma carga viral moderada\n"
     ]
    }
   ],
   "source": [
    "carga_viral = float(input(\"Carga viral:\"))\n",
    "if carga_viral <= 50:\n",
    "    print (carga_viral, \" representa uma carga viral baixa\")\n",
    "elif carga_viral <= 10000:\n",
    "    print (carga_viral, \" representa uma carga viral moderada\")\n",
    "else:\n",
    "    print (carga_viral, \" representa uma carga viral alta\")  "
   ]
  },
  {
   "cell_type": "markdown",
   "id": "488fd132",
   "metadata": {},
   "source": [
    "## Virologia – Exercício 4: Classificação por Baltimore\n",
    "\n",
    "**Enunciado:** Peça ao usuário o número do grupo de Baltimore (1 a 7) e imprima o tipo de genoma viral correspondente."
   ]
  },
  {
   "cell_type": "code",
   "execution_count": 44,
   "id": "1f7bc036",
   "metadata": {},
   "outputs": [
    {
     "name": "stdin",
     "output_type": "stream",
     "text": [
      "Número do grupo de Baltimore: -9\n"
     ]
    },
    {
     "name": "stdout",
     "output_type": "stream",
     "text": [
      "Número inválido\n"
     ]
    }
   ],
   "source": [
    "classifi_virus = [\"Vírus dsDNA: vírus DNA cadeia dupla\", \" Vírus ssDNA: vírus DNA cadeia simples\", \"Vírus dsRNA: vírus RNA cadeia dupla\", \"Vírus (+)ssRNA: vírus RNA cadeia simples positivo  \", \" Vírus (-)ssRNA: vírus RNA cadeia simples negativo\", \" Vírus ssRNA-RT: vírus RNA cadeia simples com DNA intermediário\", \" Vírus dsDNA-RT: vírus DNA cadeia dupla com RNA intermediário\"]\n",
    "numero = int(input(\"Número do grupo de Baltimore:\"))\n",
    "if 1 <= numero <= 7:\n",
    "    print (classifi_virus[numero - 1])\n",
    "else:\n",
    "    print (\"Número inválido\")"
   ]
  },
  {
   "cell_type": "markdown",
   "id": "2c52e7f9",
   "metadata": {},
   "source": [
    "## Virologia – Exercício 5: Valor de Ct (RT-PCR)\n",
    "\n",
    "**Enunciado:** Peça ao usuário o valor de Ct e classifique a carga viral: baixa (>30), moderada (20–30), alta (<20), ou indeterminado (>40)."
   ]
  },
  {
   "cell_type": "code",
   "execution_count": 49,
   "id": "cf42531e",
   "metadata": {},
   "outputs": [
    {
     "name": "stdin",
     "output_type": "stream",
     "text": [
      "Insira um valor de Ct: 40\n"
     ]
    },
    {
     "name": "stdout",
     "output_type": "stream",
     "text": [
      "40.0  representa uma carga viral indeterminada\n"
     ]
    }
   ],
   "source": [
    "ct = float(input(\"Insira um valor de Ct:\"))\n",
    "if 30 < ct < 40:\n",
    "    print (ct, \" representa uma carga viral baixa\")\n",
    "elif 20 <= ct <=30:\n",
    "    print (ct, \" representa uma carga viral moderada\")\n",
    "elif ct < 20:\n",
    "    print (ct, \" representa uma carga viral alta\")\n",
    "else:\n",
    "   print (ct, \" representa uma carga viral indeterminada\") "
   ]
  },
  {
   "cell_type": "markdown",
   "id": "c9f631ed",
   "metadata": {},
   "source": [
    "## Materiais – Exercício 6: Condutividade elétrica\n",
    "\n",
    "**Enunciado:** Peça o tipo de material (metal, cerâmico, polímero) e informe a condutividade elétrica típica."
   ]
  },
  {
   "cell_type": "code",
   "execution_count": 56,
   "id": "18e34a1b",
   "metadata": {},
   "outputs": [
    {
     "name": "stdin",
     "output_type": "stream",
     "text": [
      "Tipo de material: cerâmico\n"
     ]
    },
    {
     "name": "stdout",
     "output_type": "stream",
     "text": [
      "Baixa\n"
     ]
    }
   ],
   "source": [
    "material = input (\"Tipo de material:\")\n",
    "if material.upper() == \"METAL\":\n",
    "    print (\"Alta: 107 (Ωm)^-1\")\n",
    "elif material.upper() == \"CERÂMICO\":\n",
    "    print (\"Baixa\")\n",
    "elif material.upper() == \"POLÍMERO\":\n",
    "    print (\"Alguns polímeros podem ser condutores elétricos, sendo chamados de polímeros condutores ou semicondutores\")\n",
    "else:\n",
    "    print (\"Material inválido\")"
   ]
  },
  {
   "cell_type": "markdown",
   "id": "24d16d14",
   "metadata": {},
   "source": [
    "## Materiais – Exercício 7: Ponto de fusão\n",
    "\n",
    "**Enunciado:** Peça o ponto de fusão de um material e informe se é adequado para altas temperaturas (>1500°C)."
   ]
  },
  {
   "cell_type": "code",
   "execution_count": 59,
   "id": "b69053d2",
   "metadata": {},
   "outputs": [
    {
     "name": "stdin",
     "output_type": "stream",
     "text": [
      "Ponto fusão do material: 99999\n"
     ]
    },
    {
     "name": "stdout",
     "output_type": "stream",
     "text": [
      "O material é adequado para altas temperaturas\n"
     ]
    }
   ],
   "source": [
    "ponto_fusao = float(input(\"Ponto fusão do material:\"))\n",
    "if ponto_fusao >= 1500:\n",
    "    print (\"O material é adequado para altas temperaturas.\")\n",
    "else:\n",
    "    print (\"O material não é adequado para altas temperaturas.\")"
   ]
  },
  {
   "cell_type": "markdown",
   "id": "1b8d3b8c",
   "metadata": {},
   "source": [
    "## Materiais – Exercício 8: Defeitos cristalinos\n",
    "\n",
    "**Enunciado:** Verifique se há deslocamento de átomos e vacâncias. Se ambos forem 'sim', classifique como defeito Schottky."
   ]
  },
  {
   "cell_type": "code",
   "execution_count": 81,
   "id": "88f4f4da",
   "metadata": {},
   "outputs": [
    {
     "name": "stdin",
     "output_type": "stream",
     "text": [
      "Há deslocamento de átomos? Digite S para SIM ou N para NÂO. n\n",
      "Há vacâncias? Digite S para SIM ou N para NÂO. n\n"
     ]
    },
    {
     "name": "stdout",
     "output_type": "stream",
     "text": [
      "Não ocorre o Defeito Schottky.\n"
     ]
    }
   ],
   "source": [
    "deslocamento = input(\"Há deslocamento de átomos? Digite S para SIM ou N para NÂO.\")\n",
    "vacancia = input(\"Há vacâncias? Digite S para SIM ou N para NÂO.\")\n",
    "validos = [\"S\", \"N\"]\n",
    "\n",
    "# if ((not deslocamento == \"S\") and (not deslocamento == \"N\")) or ((not vacancia == \"S\") and (not vacancia == \"N\")):\n",
    "if (not deslocamento.upper() in validos) or (not vacancia.upper() in validos):\n",
    "    print (\"Valores inválidos\")\n",
    "else:\n",
    "    if deslocamento.upper() == \"S\" and vacancia.upper() == \"S\":\n",
    "        print (\"Defeito Schottky.\")\n",
    "    else:\n",
    "        print (\"Não ocorre o Defeito Schottky.\")\n",
    "    "
   ]
  },
  {
   "cell_type": "markdown",
   "id": "ea11ed49",
   "metadata": {},
   "source": [
    "## Materiais – Exercício 9: Dureza do material\n",
    "\n",
    "**Enunciado:** Peça a dureza de um material (escala de Mohs) e classifique como macio, intermediário ou duro."
   ]
  },
  {
   "cell_type": "code",
   "execution_count": 10,
   "id": "49c15c7b",
   "metadata": {},
   "outputs": [
    {
     "name": "stdin",
     "output_type": "stream",
     "text": [
      "Dureza: 88\n"
     ]
    },
    {
     "name": "stdout",
     "output_type": "stream",
     "text": [
      "Valor inválido.\n"
     ]
    }
   ],
   "source": [
    "dureza = int(input (\"Dureza:\"))\n",
    "if  1<=dureza<=4:\n",
    "    print (\"Material duro.\")\n",
    "elif 5<=dureza<=7:\n",
    "    print (\"Material Intermediário.\")\n",
    "elif 8<=dureza<=10:\n",
    "    print (\"Material macio.\")\n",
    "else:\n",
    "    print (\"Valor inválido.\")"
   ]
  },
  {
   "cell_type": "markdown",
   "id": "299533f3",
   "metadata": {},
   "source": [
    "## Materiais – Exercício 10: Reciclabilidade\n",
    "\n",
    "**Enunciado:** Informe se um material comum (vidro, metal, plástico, cerâmica) é geralmente reciclável ou não."
   ]
  },
  {
   "cell_type": "code",
   "execution_count": 17,
   "id": "33758bd4",
   "metadata": {},
   "outputs": [
    {
     "name": "stdin",
     "output_type": "stream",
     "text": [
      "Tipo de material: 09\n"
     ]
    },
    {
     "name": "stdout",
     "output_type": "stream",
     "text": [
      "Material inválido\n"
     ]
    }
   ],
   "source": [
    "material = input (\"Tipo de material:\")\n",
    "if (material.upper() == \"VIDRO\") or (material.upper() == \"METAL\"):\n",
    "    print (\"Reciclável\")\n",
    "elif (material.upper() == \"PLÁSTICO\") or (material.upper() == \"CERÂMICA\"):\n",
    "    print (\"Nem sempre é reciclável\")\n",
    "else:\n",
    "    print (\"Material inválido\")"
   ]
  },
  {
   "cell_type": "markdown",
   "id": "9ccc3bb1",
   "metadata": {},
   "source": [
    "## Listas – Exercício 11: Cadastro de vírus\n",
    "\n",
    "**Enunciado:** Crie uma lista e use `append()` para adicionar três vírus informados pelo usuário."
   ]
  },
  {
   "cell_type": "code",
   "execution_count": 27,
   "id": "489f0670",
   "metadata": {},
   "outputs": [
    {
     "name": "stdin",
     "output_type": "stream",
     "text": [
      "Virus 1: uuuu\n",
      "Virus 2: jjjj\n",
      "Vírus 3: kkkk\n"
     ]
    },
    {
     "name": "stdout",
     "output_type": "stream",
     "text": [
      "['elemento1', 'elemento2', 'elemento3', 'uuuu', 'jjjj', 'kkkk']\n"
     ]
    }
   ],
   "source": [
    "lista = [\"elemento1\", \"elemento2\", \"elemento3\"]\n",
    "virus1 = input (\"Virus 1:\")\n",
    "virus2 = input (\"Virus 2:\")\n",
    "virus3 = input (\"Vírus 3:\")\n",
    "\n",
    "lista.append (virus1)\n",
    "lista.append (virus2)\n",
    "lista.append (virus3)\n",
    "\n",
    "print (lista)\n",
    "\n"
   ]
  },
  {
   "cell_type": "markdown",
   "id": "3fdbec2f",
   "metadata": {},
   "source": [
    "## Listas – Exercício 12: Remover falso positivo\n",
    "\n",
    "**Enunciado:** Remova um vírus específico da lista usando `remove()`, após verificar se ele está presente."
   ]
  },
  {
   "cell_type": "code",
   "execution_count": 31,
   "id": "75a63b1b",
   "metadata": {},
   "outputs": [
    {
     "name": "stdout",
     "output_type": "stream",
     "text": [
      "['virus1', 'virus2', 'virus3']\n",
      "Elemento não encontrado.\n",
      "['virus1', 'virus2', 'virus3']\n"
     ]
    }
   ],
   "source": [
    "virus = [\"virus1\", \"virus2\", \"virus3\"]\n",
    "i=0\n",
    "print (virus)\n",
    "\n",
    "for elemento in virus:\n",
    "    if elemento == \"virus4\":\n",
    "        virus.remove(elemento)\n",
    "        i=i+1\n",
    "\n",
    "if i == 0:\n",
    "    print (\"Elemento não encontrado.\")\n",
    "else:\n",
    "    print (\"Elemento encontrado.\")\n",
    "print (virus)"
   ]
  },
  {
   "cell_type": "markdown",
   "id": "866a181c",
   "metadata": {},
   "source": [
    "## Listas – Exercício 13: Atualização de amostra\n",
    "\n",
    "**Enunciado:** Adicione dois vírus a uma lista usando `append()` e remova um com `remove()`."
   ]
  },
  {
   "cell_type": "code",
   "execution_count": 32,
   "id": "a68510ad",
   "metadata": {},
   "outputs": [
    {
     "name": "stdout",
     "output_type": "stream",
     "text": [
      "['virus1', 'virus2', 'virus3']\n",
      "['virus1', 'virus2', 'virus3', 'virus5']\n",
      "['virus1', 'virus2', 'virus5']\n",
      "['virus2', 'virus5']\n"
     ]
    }
   ],
   "source": [
    "virus = [\"virus1\", \"virus2\", \"virus3\"]\n",
    "print (virus)\n",
    "\n",
    "virus.append(\"virus5\")\n",
    "print (virus)\n",
    "\n",
    "virus.remove(\"virus3\")\n",
    "print (virus)\n",
    "\n",
    "virus.remove(\"virus1\")\n",
    "print (virus)\n"
   ]
  },
  {
   "cell_type": "markdown",
   "id": "d7be28d8",
   "metadata": {},
   "source": [
    "## Listas – Exercício 14: Lista de alertas\n",
    "\n",
    "**Enunciado:** Crie uma lista chamada `alertas`. Se houver falha no armazenamento, adicione uma mensagem com `append()`."
   ]
  },
  {
   "cell_type": "code",
   "execution_count": 37,
   "id": "8e350802",
   "metadata": {},
   "outputs": [
    {
     "name": "stdout",
     "output_type": "stream",
     "text": [
      "['elemento1', 'elemento2', 'elemento3']\n"
     ]
    },
    {
     "name": "stdin",
     "output_type": "stream",
     "text": [
      "Deseja incluir mais um alerta? Se sim, digite S. Se não, digite N. j\n"
     ]
    },
    {
     "name": "stdout",
     "output_type": "stream",
     "text": [
      "Resposta inválida\n",
      "['elemento1', 'elemento2', 'elemento3']\n"
     ]
    }
   ],
   "source": [
    "alertas = [\"elemento1\", \"elemento2\", \"elemento3\"]\n",
    "\n",
    "print (alertas)\n",
    "resposta=input (\"Deseja incluir mais um alerta? Se sim, digite S. Se não, digite N.\")\n",
    "\n",
    "if resposta.upper() == \"S\":\n",
    "    elemento4 = input (\"Digite o elemento:\")\n",
    "    alertas.append(elemento4)\n",
    "elif (not resposta.upper() == \"N\") and (not resposta.upper() == \"S\"):\n",
    "    print (\"Resposta inválida\")\n",
    "    \n",
    "\n",
    "print (alertas)"
   ]
  },
  {
   "cell_type": "markdown",
   "id": "f7fadc7a",
   "metadata": {},
   "source": [
    "## Listas – Exercício 15: Cancelar exame\n",
    "\n",
    "**Enunciado:** Permita ao usuário cancelar um exame da lista, usando `in` + `remove()`."
   ]
  },
  {
   "cell_type": "code",
   "execution_count": 24,
   "id": "674293fc",
   "metadata": {},
   "outputs": [
    {
     "name": "stdout",
     "output_type": "stream",
     "text": [
      "['elemento1', 'elemento2', 'elemento3']\n"
     ]
    },
    {
     "name": "stdin",
     "output_type": "stream",
     "text": [
      "Item a ser retirado elemento2\n"
     ]
    },
    {
     "name": "stdout",
     "output_type": "stream",
     "text": [
      "['elemento1', 'elemento3']\n"
     ]
    }
   ],
   "source": [
    "alertas = [\"elemento1\", \"elemento2\", \"elemento3\"]\n",
    "i=0\n",
    "print (alertas)\n",
    "\n",
    "retirar = input (\"Item a ser retirado\")\n",
    "for elemento in alertas:\n",
    "    if elemento == retirar:\n",
    "        alertas.remove(elemento)\n",
    "        i=i+1\n",
    "\n",
    "if i == 0:\n",
    "    print (\"Elemento inválido\")\n",
    "print (alertas)"
   ]
  },
  {
   "cell_type": "code",
   "execution_count": null,
   "id": "67b95385-544e-4eae-8c4d-8abc6d6d3d9a",
   "metadata": {},
   "outputs": [],
   "source": []
  }
 ],
 "metadata": {
  "kernelspec": {
   "display_name": "ilumpy",
   "language": "python",
   "name": "ilumpy"
  },
  "language_info": {
   "codemirror_mode": {
    "name": "ipython",
    "version": 3
   },
   "file_extension": ".py",
   "mimetype": "text/x-python",
   "name": "python",
   "nbconvert_exporter": "python",
   "pygments_lexer": "ipython3",
   "version": "3.12.7"
  }
 },
 "nbformat": 4,
 "nbformat_minor": 5
}
