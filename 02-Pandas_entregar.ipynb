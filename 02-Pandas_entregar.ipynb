{
 "cells": [
  {
   "cell_type": "markdown",
   "id": "0cb5e90e",
   "metadata": {},
   "source": [
    "# Práticas em Ciência de Dados"
   ]
  },
  {
   "cell_type": "markdown",
   "id": "4fd31484",
   "metadata": {},
   "source": [
    "\n",
    "## Conteúdo\n",
    "\n",
    "1. [Importando bibliotecas e lendo dados](#importando-bibliotecas-e-lendo-dados)\n",
    "    1. [Bibliotecas nos ajudam a não ter que reinventar a roda](#bibliotecas-nos-ajudam-a-nao-ter-que-reinventar-a-roda)\n",
    "    2. [Espaço de nome](#espaco-de-nome)\n",
    "    3. [Importando apenas o necessário](#importando-apenas-o-necessario)\n",
    "    4. [Documentação da biblioteca padrão](#documentacao-da-biblioteca-padrao)\n",
    "    5. [Lendo dados externos ao Python](#lendo-dados-externos-ao-python)\n",
    "    6. [Manipulando dados armazenados em DataFrames](#manipulando-dados-armazenados-em-dataframes)\n",
    "    7. [Plotando gráficos com pandas](#plotando-graficos-com-pandas)\n"
   ]
  },
  {
   "cell_type": "markdown",
   "id": "d838d7a2",
   "metadata": {},
   "source": [
    "## Importando bibliotecas e lendo dados"
   ]
  },
  {
   "cell_type": "markdown",
   "id": "5cbb609e",
   "metadata": {},
   "source": [
    "### Bibliotecas nos ajudam a não ter que reinventar a roda"
   ]
  },
  {
   "cell_type": "markdown",
   "id": "9f4843c8",
   "metadata": {},
   "source": [
    "“Se eu vi mais longe é pois estava sobre os ombros de gigantes.”  \n",
    "— Isaac Newton\n",
    "\n",
    "Diversas grandezas científicas variam ordens de magnitude, como por exemplo a viscosidade e a condutividade eletrônica. Uma forma de nos ajudar a tratar essas grandezas é pensar em escala logarítmica e não na escala linear.\n",
    "\n",
    "Calcular o logaritmo de um valor é uma tarefa corriqueira no meio científico. Era de se imaginar que o Python teria uma função para computar o log de um número, não é? Dê uma olhada na documentação oficial e verá que não existe nenhuma função embutida de Python que computa o log de um número. . .\n",
    "\n",
    "E agora? Teremos que programar nossa própria função que calcula o log toda vez que precisarmos tirar o logaritmo de um valor? Para esse caso específico (e diversos outros), a resposta é não. Mesmo não sendo uma função embutida em Python, podemos obter uma função que calcula o log usando bibliotecas! Veja o exemplo abaixo."
   ]
  },
  {
   "cell_type": "code",
   "execution_count": 1,
   "id": "ddd4e352",
   "metadata": {},
   "outputs": [
    {
     "name": "stdout",
     "output_type": "stream",
     "text": [
      "17.0\n",
      "\n",
      "Help on built-in function log10 in module math:\n",
      "\n",
      "log10(x, /)\n",
      "    Return the base 10 logarithm of x.\n",
      "\n"
     ]
    }
   ],
   "source": [
    "import math\n",
    "\n",
    "valor = 100000000000000000\n",
    "print(math.log10(valor))\n",
    "\n",
    "print()\n",
    "help(math.log10)"
   ]
  },
  {
   "cell_type": "markdown",
   "id": "c72b2dfe",
   "metadata": {},
   "source": [
    "No código acima temos a importantíssima instrução ***import*** na primeira linha. Essa instrução é usada para importar os módulos das bibliotecas que temos instaladas no nosso computador. O módulo importado foi o módulo math que, como o próprio nome sugere, contém objetos relacionados com matemática. O módulo ***math*** faz parte do que chamamos de biblioteca padrão do Python, que é um conjunto de diversos módulos que já vem instalados quando se instala o Python.\n",
    "\n",
    "Na linha 4 do código acima usamos a função math.log10 para calcular o logaritmo na base 10 da variável valor. Quando um módulo é importando, seus objetos podem ser acessados usando essa notação “[nome do módulo].[nome do objeto]”. Imagina o tempo que você iria gastar se tivesse que escrever uma função que calcula o logaritmo de um número toda vez que precisasse... seríamos muito improdutivos se esse fosse o caso! \n",
    "\n",
    "Finalmente, na linha 7 do código nós usamos a função help para checar como a função math.log10 funciona (o que é sempre uma boa prática caso você não saiba como uma função específica funciona)."
   ]
  },
  {
   "cell_type": "code",
   "execution_count": 2,
   "id": "61804771",
   "metadata": {},
   "outputs": [
    {
     "name": "stdout",
     "output_type": "stream",
     "text": [
      "['__doc__', '__file__', '__loader__', '__name__', '__package__', '__spec__', 'acos', 'acosh', 'asin', 'asinh', 'atan', 'atan2', 'atanh', 'cbrt', 'ceil', 'comb', 'copysign', 'cos', 'cosh', 'degrees', 'dist', 'e', 'erf', 'erfc', 'exp', 'exp2', 'expm1', 'fabs', 'factorial', 'floor', 'fmod', 'frexp', 'fsum', 'gamma', 'gcd', 'hypot', 'inf', 'isclose', 'isfinite', 'isinf', 'isnan', 'isqrt', 'lcm', 'ldexp', 'lgamma', 'log', 'log10', 'log1p', 'log2', 'modf', 'nan', 'nextafter', 'perm', 'pi', 'pow', 'prod', 'radians', 'remainder', 'sin', 'sinh', 'sqrt', 'sumprod', 'tan', 'tanh', 'tau', 'trunc', 'ulp']\n"
     ]
    }
   ],
   "source": [
    "import math\n",
    "print(dir(math))"
   ]
  },
  {
   "cell_type": "markdown",
   "id": "48679440",
   "metadata": {},
   "source": [
    "### Espaço de nome"
   ]
  },
  {
   "cell_type": "markdown",
   "id": "8de32282",
   "metadata": {},
   "source": [
    "“Se você esquecer completamente seu nome, você nunca encontrará seu caminho para casa.”  \n",
    "— Haku, A Viagem de Chihiro\n",
    "\n",
    "Quando importamos módulos nós criamos o que chamamos de ***namespace***. Foi isso que aconteceu com o módulo math: importamos ele e para usar seus objetos precisamos escrever“math.nome_do_objeto”. Neste caso, math é o namespace que guarda todas as informações do nosso módulo.\n",
    "\n",
    "Vamos fazer uma importação diferente agora, veja no exemplo abaixo."
   ]
  },
  {
   "cell_type": "code",
   "execution_count": 3,
   "id": "76fabfca",
   "metadata": {},
   "outputs": [
    {
     "name": "stdout",
     "output_type": "stream",
     "text": [
      "['BPF', 'LOG4', 'NV_MAGICCONST', 'RECIP_BPF', 'Random', 'SG_MAGICCONST', 'SystemRandom', 'TWOPI', '_ONE', '_Sequence', '__all__', '__builtins__', '__cached__', '__doc__', '__file__', '__loader__', '__name__', '__package__', '__spec__', '_accumulate', '_acos', '_bisect', '_ceil', '_cos', '_e', '_exp', '_fabs', '_floor', '_index', '_inst', '_isfinite', '_lgamma', '_log', '_log2', '_os', '_pi', '_random', '_repeat', '_sha512', '_sin', '_sqrt', '_test', '_test_generator', '_urandom', '_warn', 'betavariate', 'binomialvariate', 'choice', 'choices', 'expovariate', 'gammavariate', 'gauss', 'getrandbits', 'getstate', 'lognormvariate', 'normalvariate', 'paretovariate', 'randbytes', 'randint', 'random', 'randrange', 'sample', 'seed', 'setstate', 'shuffle', 'triangular', 'uniform', 'vonmisesvariate', 'weibullvariate']\n"
     ]
    }
   ],
   "source": [
    "import random as rd\n",
    "print(dir(rd))"
   ]
  },
  {
   "cell_type": "markdown",
   "id": "ccef4c0b",
   "metadata": {},
   "source": [
    "Na linha 1 temos novamente a instrução import. Estamos importando o\n",
    "módulo random que é outro módulo da biblioteca padrão do Python e serve\n",
    "para gerar números aleatórios. Veja que tem algo a mais nessa linha! Nós\n",
    "demos um apelido para o namespace do módulo random. Apelidamos ele\n",
    "carinhosamente de rd. A instrução para dar apelido para módulos é o as,\n",
    "assim como mostra o exemplo."
   ]
  },
  {
   "cell_type": "markdown",
   "id": "5793aa50",
   "metadata": {},
   "source": [
    "Exercício 1) Aproveitando que comentamos sobre o módulo random, importe ele\n",
    "dando o apelido que quiser e cheque com a função help o que as funções\n",
    "choice e randint fazem. Teste a função choice fornecendo uma lista com\n",
    "5 itens como argumento para ver o que acontece. Teste a função randint\n",
    "fornecendo dois valores inteiros como argumento."
   ]
  },
  {
   "cell_type": "markdown",
   "id": "91119791-aa49-4454-b974-f80387bbb342",
   "metadata": {},
   "source": [
    "# Exercício 1 - Resolução"
   ]
  },
  {
   "cell_type": "code",
   "execution_count": 34,
   "id": "a6ce7aa8-c88c-4e95-9c58-7ebc3b7f7a34",
   "metadata": {},
   "outputs": [
    {
     "name": "stdout",
     "output_type": "stream",
     "text": [
      "Help on method choice in module random:\n",
      "\n",
      "choice(seq) method of random.Random instance\n",
      "    Choose a random element from a non-empty sequence.\n",
      "\n",
      "Help on method randint in module random:\n",
      "\n",
      "randint(a, b) method of random.Random instance\n",
      "    Return random integer in range [a, b], including both end points.\n",
      "\n",
      "Choice: 3\n",
      "Randint: 7\n"
     ]
    }
   ],
   "source": [
    "#exercico 1\n",
    "\n",
    "import random as rd\n",
    "\n",
    "help(rd.choice)\n",
    "help(rd.randint)\n",
    "\n",
    "lista = [1, 2, 3, 4, 5]\n",
    "\n",
    "choice = rd.choice(lista)\n",
    "\n",
    "randint = rd.randint(1, 8)\n",
    "\n",
    "print (\"Choice:\", choice)\n",
    "print (\"Randint:\", randint)"
   ]
  },
  {
   "cell_type": "markdown",
   "id": "8e30280d",
   "metadata": {},
   "source": [
    "### Importando apenas o necessário"
   ]
  },
  {
   "cell_type": "markdown",
   "id": "99123df2",
   "metadata": {},
   "source": [
    "Digamos que você queira calcular o logaritmo natural de um número e\n",
    "não precisa usar mais nenhum outro objeto do módulo math. Para fazer\n",
    "isso você pode usar a estrutura “from ... import ...” como mostra o\n",
    "exemplo abaixo."
   ]
  },
  {
   "cell_type": "code",
   "execution_count": 4,
   "id": "e33dc1c1",
   "metadata": {},
   "outputs": [
    {
     "name": "stdout",
     "output_type": "stream",
     "text": [
      "9.210340371976184\n"
     ]
    }
   ],
   "source": [
    "from math import log # leia-se \"do módulo ‘math‘, importe o objeto ‘log‘\"\n",
    "\n",
    "valor = 10000\n",
    "print(log(valor))"
   ]
  },
  {
   "cell_type": "markdown",
   "id": "2b467331",
   "metadata": {},
   "source": [
    "Perceba que ao importar a função log dessa forma, ela agora funciona\n",
    "sem a necessidade de invocar o namespace do módulo math na linha 4. In-\n",
    "clusive, neste caso se escrevermos “math.log(valor)” irá dar um erro pois o\n",
    "módulo math em si não foi importado, apenas sua função log (tente e verá)!!\n",
    "O que aconteceu na linha 1 foi que importamos apenas uma função específica\n",
    "desse módulo e nada mais.\n",
    "\n",
    "Para importar mais de um objeto de um módulo, use vírgulas. Veja no\n",
    "exemplo abaixo."
   ]
  },
  {
   "cell_type": "code",
   "execution_count": 5,
   "id": "0073fce3",
   "metadata": {},
   "outputs": [
    {
     "name": "stdout",
     "output_type": "stream",
     "text": [
      "3.141592653589793\n",
      "2.718281828459045\n",
      "120\n"
     ]
    }
   ],
   "source": [
    "from math import factorial, pi, e\n",
    "print(pi)\n",
    "print(e)\n",
    "print(factorial(5))"
   ]
  },
  {
   "cell_type": "markdown",
   "id": "e4d7b91f",
   "metadata": {},
   "source": [
    "Existe uma sintaxe que nos permite importar todos os objetos de um\n",
    "módulo fora do seu namespace, basta usar o asterisco como mostrado no\n",
    "código abaixo. Entretanto, esse tipo de estrutura não é recomendada e não\n",
    "será aceita nas respostas das práticas desta apostila. Ela está apresentada\n",
    "aqui apenas para fins informativos."
   ]
  },
  {
   "cell_type": "code",
   "execution_count": 6,
   "id": "df4ebd99",
   "metadata": {},
   "outputs": [
    {
     "name": "stdout",
     "output_type": "stream",
     "text": [
      "22026.465794806718\n",
      "6.643856189774724\n",
      "-3.380515006246586\n"
     ]
    }
   ],
   "source": [
    "from math import *\n",
    "# veja que as funções abaixo foram importadas e podem ser usadas sem\n",
    "# chamar o namespace ‘math‘. Porém, com a importação com asterísco,\n",
    "# não fica claro de onde elas vieram (imagina isso num códico com milhares\n",
    "# de linhas...)\n",
    "print(exp(10))\n",
    "print(log2(100))\n",
    "print(tan(5))"
   ]
  },
  {
   "cell_type": "markdown",
   "id": "d707fa20",
   "metadata": {},
   "source": [
    "### Documentação da biblioteca padrão"
   ]
  },
  {
   "cell_type": "markdown",
   "id": "c1f1045d",
   "metadata": {},
   "source": [
    "A biblioteca padrão do Python é bastante extensa. Uma forma de checar\n",
    "o que já existe é lendo a documentação oficial. Lá você vai encontrar a seção\n",
    "do módulo math e a seção do módulo random, entre tantas outras. Fora\n",
    "estes dois módulos, alguns outros que valem a pena dar uma olhada são:<br>\n",
    "• statistics - cálculos estatísticos<br>\n",
    "• pprint - comando print que exibe certas informações de forma “mais bonita”<br>\n",
    "• datetime - operações com datas<br>\n",
    "• itertools - operações iterativas<br>\n",
    "• functools - operações funcionais<br>\n",
    "• pathlib - operações com arquivos em diferentes pastas no sistema<br>\n",
    "• pickle - possibilita salvar variáveis de Python em arquivos<br>\n",
    "• os - ferramentas para controlar seu sistema operacional<br>\n",
    "• sys - acessar parâmetros do sistema<br>\n",
    "• re - expressões regulares<br>"
   ]
  },
  {
   "cell_type": "markdown",
   "id": "ee80e516",
   "metadata": {},
   "source": [
    "Exercício 2) Escolha 3 funções do módulo statistics e descreva seu uso."
   ]
  },
  {
   "cell_type": "markdown",
   "id": "5765a239-813d-4712-a38a-f170c335a29a",
   "metadata": {},
   "source": [
    "# Exercício 2 - Resolução"
   ]
  },
  {
   "cell_type": "code",
   "execution_count": 19,
   "id": "70821671-dff0-4b42-af89-bb462cf2416d",
   "metadata": {},
   "outputs": [
    {
     "name": "stdout",
     "output_type": "stream",
     "text": [
      "['Counter', 'Decimal', 'Fraction', 'LinearRegression', 'NormalDist', 'StatisticsError', '_SQRT2', '__all__', '__annotations__', '__builtins__', '__cached__', '__doc__', '__file__', '__loader__', '__name__', '__package__', '__spec__', '_coerce', '_convert', '_decimal_sqrt_of_frac', '_exact_ratio', '_fail_neg', '_float_sqrt_of_frac', '_integer_sqrt_of_frac_rto', '_isfinite', '_mean_stdev', '_normal_dist_inv_cdf', '_rank', '_sqrt_bit_width', '_ss', '_sum', 'bisect_left', 'bisect_right', 'correlation', 'count', 'covariance', 'defaultdict', 'erf', 'exp', 'fabs', 'fmean', 'fsum', 'geometric_mean', 'groupby', 'harmonic_mean', 'hypot', 'itemgetter', 'linear_regression', 'log', 'math', 'mean', 'median', 'median_grouped', 'median_high', 'median_low', 'mode', 'multimode', 'namedtuple', 'numbers', 'pstdev', 'pvariance', 'quantiles', 'random', 'reduce', 'repeat', 'sqrt', 'stdev', 'sumprod', 'sys', 'tau', 'variance']\n",
      "Help on function _sum in module statistics:\n",
      "\n",
      "_sum(data)\n",
      "    _sum(data) -> (type, sum, count)\n",
      "\n",
      "    Return a high-precision sum of the given numeric data as a fraction,\n",
      "    together with the type to be converted to and the count of items.\n",
      "\n",
      "    Examples\n",
      "    --------\n",
      "\n",
      "    >>> _sum([3, 2.25, 4.5, -0.5, 0.25])\n",
      "    (<class 'float'>, Fraction(19, 2), 5)\n",
      "\n",
      "    Some sources of round-off error will be avoided:\n",
      "\n",
      "    # Built-in sum returns zero.\n",
      "    >>> _sum([1e50, 1, -1e50] * 1000)\n",
      "    (<class 'float'>, Fraction(1000, 1), 3000)\n",
      "\n",
      "    Fractions and Decimals are also supported:\n",
      "\n",
      "    >>> from fractions import Fraction as F\n",
      "    >>> _sum([F(2, 3), F(7, 5), F(1, 4), F(5, 6)])\n",
      "    (<class 'fractions.Fraction'>, Fraction(63, 20), 4)\n",
      "\n",
      "    >>> from decimal import Decimal as D\n",
      "    >>> data = [D(\"0.1375\"), D(\"0.2108\"), D(\"0.3061\"), D(\"0.0419\")]\n",
      "    >>> _sum(data)\n",
      "    (<class 'decimal.Decimal'>, Fraction(6963, 10000), 4)\n",
      "\n",
      "    Mixed types are currently treated as an error, except that int is\n",
      "    allowed.\n",
      "\n",
      "-------------------------------------------------------------------------\n",
      "Help on built-in function sqrt in module math:\n",
      "\n",
      "sqrt(x, /)\n",
      "    Return the square root of x.\n",
      "\n",
      "-------------------------------------------------------------------------\n",
      "Help on built-in function log in module math:\n",
      "\n",
      "log(...)\n",
      "    log(x, [base=math.e])\n",
      "    Return the logarithm of x to the given base.\n",
      "\n",
      "    If the base is not specified, returns the natural logarithm (base e) of x.\n",
      "\n",
      "-------------------------------------------------------------------------\n"
     ]
    }
   ],
   "source": [
    "#exercicio 2\n",
    "\n",
    "import statistics as es\n",
    "\n",
    "print(dir(es))\n",
    "\n",
    "help(es._sum) # Retorna uma soma de alta precisão do dado numérico dado como uma fração, junto com o tipo a ser convertido e a quantidade de itens.\n",
    "print (\"-------------------------------------------------------------------------\")\n",
    "help(es.sqrt) #Retorna a raiz quadrada do número dado a ele\n",
    "print (\"-------------------------------------------------------------------------\")\n",
    "help(es.log) #Retorna o logaritmo de x da base dada. Se a base não está especificada, retorna o logaritmo natural (base e) de x.\n",
    "print (\"-------------------------------------------------------------------------\")\n",
    "\n",
    "\n",
    "\n"
   ]
  },
  {
   "cell_type": "markdown",
   "id": "5d39dec8",
   "metadata": {},
   "source": [
    "### Lendo dados externos ao Python"
   ]
  },
  {
   "cell_type": "markdown",
   "id": "f934f89b",
   "metadata": {},
   "source": [
    "Abra um gerenciador de planilhas (Microsoft Excel, LibreOffice Calc ou similar). Crie uma tabela com três colunas, similar ao exemplo abaixo. Salve sua tabela com o nome \"populacao.xlsx\" **na mesma pasta onde está seu caderno de notas do Jupyter que você está usando agora**.\n"
   ]
  },
  {
   "cell_type": "code",
   "execution_count": 4,
   "id": "342aa4e1",
   "metadata": {},
   "outputs": [
    {
     "name": "stdout",
     "output_type": "stream",
     "text": [
      "       País Continente   População\n",
      "0    Brasil    América   212688125\n",
      "1  Alemanha     Europa    83190556\n",
      "2     China       Ásia  1412600000\n",
      "3     Japão       Ásia   125300000\n",
      "4    México    América   126014024\n",
      "5   Equador    América    17715822\n"
     ]
    }
   ],
   "source": [
    "import pandas as pd\n",
    "\n",
    "info = pd.read_excel(\"população.xlsx\")\n",
    "print(info)"
   ]
  },
  {
   "cell_type": "markdown",
   "id": "3a274a56-5395-492f-a572-5067f950d01f",
   "metadata": {},
   "source": [
    "# Exercício 3 - Resolução"
   ]
  },
  {
   "cell_type": "code",
   "execution_count": null,
   "id": "57a8805b-0d59-4f69-ae12-91a5a6262f95",
   "metadata": {},
   "outputs": [],
   "source": [
    "#exercico 3\n",
    "\n",
    "import pandas as pd\n",
    "\n",
    "dados = pd.read_excel(\"população.xlsx\")\n",
    "print(dados)\n"
   ]
  },
  {
   "cell_type": "code",
   "execution_count": 4,
   "id": "43f558cd",
   "metadata": {},
   "outputs": [
    {
     "data": {
      "text/html": [
       "<div>\n",
       "<style scoped>\n",
       "    .dataframe tbody tr th:only-of-type {\n",
       "        vertical-align: middle;\n",
       "    }\n",
       "\n",
       "    .dataframe tbody tr th {\n",
       "        vertical-align: top;\n",
       "    }\n",
       "\n",
       "    .dataframe thead th {\n",
       "        text-align: right;\n",
       "    }\n",
       "</style>\n",
       "<table border=\"1\" class=\"dataframe\">\n",
       "  <thead>\n",
       "    <tr style=\"text-align: right;\">\n",
       "      <th></th>\n",
       "      <th>País</th>\n",
       "      <th>Continente</th>\n",
       "      <th>População</th>\n",
       "    </tr>\n",
       "  </thead>\n",
       "  <tbody>\n",
       "    <tr>\n",
       "      <th>0</th>\n",
       "      <td>Brasil</td>\n",
       "      <td>América</td>\n",
       "      <td>212688125</td>\n",
       "    </tr>\n",
       "    <tr>\n",
       "      <th>1</th>\n",
       "      <td>Alemanha</td>\n",
       "      <td>Europa</td>\n",
       "      <td>83190556</td>\n",
       "    </tr>\n",
       "    <tr>\n",
       "      <th>2</th>\n",
       "      <td>China</td>\n",
       "      <td>Ásia</td>\n",
       "      <td>1412600000</td>\n",
       "    </tr>\n",
       "    <tr>\n",
       "      <th>3</th>\n",
       "      <td>Japão</td>\n",
       "      <td>Ásia</td>\n",
       "      <td>125300000</td>\n",
       "    </tr>\n",
       "    <tr>\n",
       "      <th>4</th>\n",
       "      <td>México</td>\n",
       "      <td>América</td>\n",
       "      <td>126014024</td>\n",
       "    </tr>\n",
       "    <tr>\n",
       "      <th>5</th>\n",
       "      <td>Equador</td>\n",
       "      <td>América</td>\n",
       "      <td>17715822</td>\n",
       "    </tr>\n",
       "  </tbody>\n",
       "</table>\n",
       "</div>"
      ],
      "text/plain": [
       "       País Continente   População\n",
       "0    Brasil    América   212688125\n",
       "1  Alemanha     Europa    83190556\n",
       "2     China       Ásia  1412600000\n",
       "3     Japão       Ásia   125300000\n",
       "4    México    América   126014024\n",
       "5   Equador    América    17715822"
      ]
     },
     "execution_count": 4,
     "metadata": {},
     "output_type": "execute_result"
    }
   ],
   "source": [
    "dados"
   ]
  },
  {
   "cell_type": "markdown",
   "id": "97880b35",
   "metadata": {},
   "source": [
    "Agora rode o código abaixo (certifique-se que seu kernel do Jupyter tem a biblioteca `pandas` instalada[1]. Se estiver usando os computadores da Ilum, use o kernel `ilumpy`).\n",
    "\n",
    "[1]: A biblioteca `pandas` tem esse nome pois vem de \"**pan**el **da**ta\", que é um termo comum para dados multidimensionais. Infelizmente, ela não tem nada a ver com um dos animais mais fofos que existem...\n",
    "\n",
    "Se estiver usando os computadores da Ilum, use o kernel ilumpy."
   ]
  },
  {
   "cell_type": "markdown",
   "id": "01ab4932",
   "metadata": {},
   "source": [
    "Se seu código executou sem erros, meus parabéns! Você acabou de ler dados externos ao Python e armazená-los na variável `dados`!\n",
    "\n",
    "Vamos ver como isso aconteceu. Primeiramente nós importamos a biblioteca `pandas` na linha 1; aqui nós demos o apelido carinhoso de `pd` para ela. Na linha 3 nós usamos a função `read_excel` da biblioteca `pandas`. Esta função, como o próprio nome sugere, é capaz de ler arquivos com a extensão `.xlsx`, que é a extensão padrão do Microsoft Excel. A função `read_excel` recebeu como argumento único o nome da planilha que criamos, e armazenamos o retorno dessa função na variável `dados`. A última linha simplesmente exibiu a variável `dados` para nós com o comando `print`.\n",
    "\n",
    "**Nota:** veja que o `pandas` só foi capaz de encontrar o nosso arquivo `população.xlsx` pois ele estava _na mesma pasta que o caderno de notas_! Podemos ler arquivos de qualquer lugar do nosso computador, porém, para ler arquivos que não estão na mesma pasta precisamos indicar o caminho para este arquivo. Veremos isso com o tempo.\n",
    "\n",
    "Exercício 3) Crie o arquivo `população.xlsx` e carregue ele no Python usando a biblioteca `pandas` assim como mostrado acima.\n",
    "\n",
    "Exercício 4) Vamos brincar com nosso objeto `dados` recém criado! Execute o código abaixo e comente sobre o que cada linha fez. Dos seus testes, como você diria que é a sintaxe para acessar os valores das colunas do objeto `dados`?\n"
   ]
  },
  {
   "cell_type": "markdown",
   "id": "2b424749",
   "metadata": {},
   "source": [
    "Antes de seguir em frente, vamos ver uma nomenclatura. O objeto `dados` que criamos usando a função `read_excel` do `pandas` é chamado de **DataFrame**, que em português seria literalmente traduzido como um “quadro de dados”, mas podemos chamar simplesmente de “tabela”.\n",
    "\n",
    "Cheque se isso é verdade rodando o código abaixo:"
   ]
  },
  {
   "cell_type": "code",
   "execution_count": 5,
   "id": "28936325",
   "metadata": {},
   "outputs": [
    {
     "name": "stdout",
     "output_type": "stream",
     "text": [
      "<class 'pandas.core.frame.DataFrame'>\n"
     ]
    }
   ],
   "source": [
    "print(type(dados))"
   ]
  },
  {
   "cell_type": "markdown",
   "id": "2d0c379d",
   "metadata": {},
   "source": [
    "Se tudo estiver correto, a saída será algo parecido com:\n",
    "\n",
    "<class 'pandas.core.frame.DataFrame'>\n",
    "\n",
    "Isso confirma que o objeto `dados` realmente é um DataFrame do pandas!\n"
   ]
  },
  {
   "cell_type": "markdown",
   "id": "328d686a",
   "metadata": {},
   "source": [
    "### Manipulando dados armazenados em DataFrames"
   ]
  },
  {
   "cell_type": "markdown",
   "id": "fdfcaf45",
   "metadata": {},
   "source": [
    "Os objetos do tipo **DataFrame** são absurdamente poderosos! Eles nos permitem tratar dados de diversas maneiras. Veremos algumas a seguir. Como sempre, vale lembrar que nada melhor que a [documentação oficial](https://pandas.pydata.org/pandas-docs/stable/reference/api/pandas.DataFrame.html) para checar tudo que os DataFrames são capazes de fazer.\n",
    "\n",
    "Execute o código abaixo e veja o que acontece:\n",
    "\n"
   ]
  },
  {
   "cell_type": "code",
   "execution_count": 6,
   "id": "e7a8199a",
   "metadata": {},
   "outputs": [
    {
     "name": "stdout",
     "output_type": "stream",
     "text": [
      "       País Continente   População\n",
      "5   Equador    América    17715822\n",
      "1  Alemanha     Europa    83190556\n",
      "3     Japão       Ásia   125300000\n",
      "4    México    América   126014024\n",
      "0    Brasil    América   212688125\n",
      "2     China       Ásia  1412600000\n",
      "\n",
      "       País Continente   População\n",
      "2     China       Ásia  1412600000\n",
      "0    Brasil    América   212688125\n",
      "4    México    América   126014024\n",
      "3     Japão       Ásia   125300000\n",
      "1  Alemanha     Europa    83190556\n",
      "5   Equador    América    17715822\n"
     ]
    }
   ],
   "source": [
    "print(dados.sort_values(\"População\"))\n",
    "print()\n",
    "print(dados.sort_values(\"População\", ascending=False))"
   ]
  },
  {
   "cell_type": "markdown",
   "id": "32c7fdeb",
   "metadata": {},
   "source": [
    "Após executar o código acima, o que você acha que aconteceu com a sua variável `dados`? Você acha que ela permanece inalterada ou que o método `sort_values` alterou ela? Teste sua hipótese com o comando `print`. Comente o que observou.\n",
    "\n",
    "Os dois exemplos anteriores servem para mostrar que nem sempre os métodos de DataFrames alteram a sua variável original. No exemplo que vimos, o método `sort_values` apenas fez sua ação de ordenar as colunas e você exibiu o resultado com o comando `print`, mas não efetivamente alterou o objeto `dados` em si! Dizemos que o método `sort_values` retornou uma “visão” do seu objeto `dados`. Podemos guardar essa “visão” usando o operador de atribuição! Veja no exemplo abaixo:\n",
    "\n"
   ]
  },
  {
   "cell_type": "code",
   "execution_count": 7,
   "id": "200d2913",
   "metadata": {},
   "outputs": [
    {
     "name": "stdout",
     "output_type": "stream",
     "text": [
      "       País Continente   População\n",
      "5   Equador    América    17715822\n",
      "1  Alemanha     Europa    83190556\n",
      "3     Japão       Ásia   125300000\n",
      "4    México    América   126014024\n",
      "0    Brasil    América   212688125\n",
      "2     China       Ásia  1412600000\n",
      "\n",
      "       País Continente   População\n",
      "0    Brasil    América   212688125\n",
      "1  Alemanha     Europa    83190556\n",
      "2     China       Ásia  1412600000\n",
      "3     Japão       Ásia   125300000\n",
      "4    México    América   126014024\n",
      "5   Equador    América    17715822\n"
     ]
    }
   ],
   "source": [
    "dados_modificados = dados.sort_values(\"População\")\n",
    "print(dados_modificados)\n",
    "print()\n",
    "print(dados) # esse é o original!"
   ]
  },
  {
   "cell_type": "markdown",
   "id": "cd1ada6a",
   "metadata": {},
   "source": [
    "Nada nos impede de guardar essa “visão” na própria variável original também, se assim desejarmos:"
   ]
  },
  {
   "cell_type": "code",
   "execution_count": 8,
   "id": "49f32d79",
   "metadata": {},
   "outputs": [
    {
     "name": "stdout",
     "output_type": "stream",
     "text": [
      "       País Continente   População\n",
      "5   Equador    América    17715822\n",
      "1  Alemanha     Europa    83190556\n",
      "3     Japão       Ásia   125300000\n",
      "4    México    América   126014024\n",
      "0    Brasil    América   212688125\n",
      "2     China       Ásia  1412600000\n"
     ]
    }
   ],
   "source": [
    "dados = dados.sort_values(\"População\")\n",
    "print(dados)"
   ]
  },
  {
   "cell_type": "markdown",
   "id": "15910f59",
   "metadata": {},
   "source": [
    "Digamos que você queira saber quantos Equadores “cabem” em cada um dos países da nossa tabela. Para isso vamos dividir a coluna População pela população do Equador (que é de 17.715.822 habitantes). Veja o código abaixo:"
   ]
  },
  {
   "cell_type": "code",
   "execution_count": 9,
   "id": "3fb725a7",
   "metadata": {},
   "outputs": [
    {
     "name": "stdout",
     "output_type": "stream",
     "text": [
      "       País Continente  População\n",
      "5   Equador    América   1.000000\n",
      "1  Alemanha     Europa   4.695834\n",
      "3     Japão       Ásia   7.072774\n",
      "4    México    América   7.113078\n",
      "0    Brasil    América  12.005547\n",
      "2     China       Ásia  79.736633\n",
      "\n",
      "       País Continente   População\n",
      "5   Equador    América    17715822\n",
      "1  Alemanha     Europa    83190556\n",
      "3     Japão       Ásia   125300000\n",
      "4    México    América   126014024\n",
      "0    Brasil    América   212688125\n",
      "2     China       Ásia  1412600000\n"
     ]
    }
   ],
   "source": [
    "dados_modificados = dados.copy()\n",
    "dados_modificados['População'] = dados_modificados['População'] / 17715822\n",
    "print(dados_modificados)\n",
    "print()\n",
    "print(dados)"
   ]
  },
  {
   "cell_type": "markdown",
   "id": "0375d0b3-635e-4f5f-ba7e-d574e9f24d46",
   "metadata": {},
   "source": [
    "# Exercício 5 - Resolução"
   ]
  },
  {
   "cell_type": "code",
   "execution_count": 6,
   "id": "5db23ce8-ee20-4fb8-8a5a-a39d04de456c",
   "metadata": {},
   "outputs": [
    {
     "name": "stdout",
     "output_type": "stream",
     "text": [
      "       País Continente    População\n",
      "0    Brasil    América   212.688125\n",
      "1  Alemanha     Europa    83.190556\n",
      "2     China       Ásia  1412.600000\n",
      "3     Japão       Ásia   125.300000\n",
      "4    México    América   126.014024\n",
      "5   Equador    América    17.715822\n",
      "\n",
      "       País Continente   População\n",
      "0    Brasil    América   212688125\n",
      "1  Alemanha     Europa    83190556\n",
      "2     China       Ásia  1412600000\n",
      "3     Japão       Ásia   125300000\n",
      "4    México    América   126014024\n",
      "5   Equador    América    17715822\n"
     ]
    }
   ],
   "source": [
    "#xercicio 5\n",
    "\n",
    "copia_dados = dados.copy()\n",
    "copia_dados['População'] = copia_dados['População'] / 1000000\n",
    "print(copia_dados)\n",
    "print()\n",
    "print(dados)"
   ]
  },
  {
   "cell_type": "markdown",
   "id": "ca02cb77",
   "metadata": {},
   "source": [
    "\n",
    "Primeiramente, na linha 1, nós criamos uma cópia dos nossos dados para não alterar o original (usamos o método `copy`, similar ao que fizemos com listas). Na linha 2 alteramos o valor da coluna População usando a sintaxe do pandas. Observe que precisamos usar o operador de atribuição aqui! Por fim, na linha 3 demos um `print` nos dados modificados (que respondeu nossa pergunta original) e na linha 5 nós vemos que nossa variável original `dados` permanece inalterada pois trabalhamos em uma cópia dela.\n",
    "\n",
    "Exercício 5) Usando a sintaxe que acabamos de ver, crie uma cópia da variável `dados` e nesta cópia faça com que a coluna População armazene a população em unidade de milhão de pessoas. Exiba seus cálculos com o comando `print`.\n",
    "\n"
   ]
  },
  {
   "cell_type": "markdown",
   "id": "0911c4f0",
   "metadata": {},
   "source": [
    "### Plotando gráficos com pandas"
   ]
  },
  {
   "cell_type": "markdown",
   "id": "0fed6b2e",
   "metadata": {},
   "source": [
    "No jargão científico, quando nós produzimos um gráfico é comum dizer que “plotamos um gráfico”. “Plotar” vem do verbo _plot_ do inglês.\n",
    "\n",
    "Existem diversas ferramentas para plotar gráficos em Python. O **pandas** não é uma biblioteca especializada em gráficos, porém ele nos fornece uma interface muito amigável para uma biblioteca chamada **matplotlib**, que é muito poderosa para gerar gráficos. Vamos começar a entender sua sintaxe com o código abaixo:"
   ]
  },
  {
   "cell_type": "code",
   "execution_count": 11,
   "id": "50c705cf",
   "metadata": {},
   "outputs": [
    {
     "data": {
      "image/png": "[encoded data removed]",
      "text/plain": [
       "<Figure size 640x480 with 1 Axes>"
      ]
     },
     "metadata": {},
     "output_type": "display_data"
    }
   ],
   "source": [
    "import pandas as pd\n",
    "dados = pd.read_excel(\"população.xlsx\")\n",
    "ax = dados.plot(\"País\", \"População\")"
   ]
  },
  {
   "cell_type": "markdown",
   "id": "2c7363cd",
   "metadata": {},
   "source": [
    "\n",
    "O código acima é bastante intuitivo: nós rodamos o método `plot` da nossa variável `dados` e fornecemos para ele o que deve ser plotado no eixo x (foi a coluna “País”) e o que deve ser plotado no eixo y (foi a coluna “População”). O retorno do método `plot` é um objeto do tipo **AxesSubplot** que nós armazenamos na variável `ax`. Este objeto é um objeto da biblioteca **matplotlib** que armazena as informações dos eixos do seu plot. Veremos mais detalhes sobre isso adiante, não se preocupe com isso neste momento.\n",
    "\n",
    "Vamos fazer um plot de barras! Rode o código abaixo e compare com o anterior:"
   ]
  },
  {
   "cell_type": "code",
   "execution_count": 10,
   "id": "795104d5",
   "metadata": {},
   "outputs": [
    {
     "data": {
      "image/png": "[encoded data removed]",
      "text/plain": [
       "<Figure size 640x480 with 1 Axes>"
      ]
     },
     "metadata": {},
     "output_type": "display_data"
    }
   ],
   "source": [
    "ax = dados.plot.bar(\"País\", \"População\")"
   ]
  },
  {
   "cell_type": "markdown",
   "id": "85dc10db",
   "metadata": {},
   "source": [
    "Exercício 6) Faça um plot de barras assim como no exercício anterior, porém faça com que as barras fiquem em ordem decrescente de tamanho.  \n",
    "**Dica:** para isso você precisa ordenar seu DataFrame antes! Lembre-se do método `sort_values` que já vimos anteriormente.\n",
    "\n",
    "Para encerrar esta parte, vamos ver como salvar nosso gráfico:\n",
    "\n"
   ]
  },
  {
   "cell_type": "code",
   "execution_count": 8,
   "id": "835aea46",
   "metadata": {},
   "outputs": [
    {
     "data": {
      "image/png": "[encoded data removed]",
      "text/plain": [
       "<Figure size 640x480 with 1 Axes>"
      ]
     },
     "metadata": {},
     "output_type": "display_data"
    }
   ],
   "source": [
    "ax = dados.plot.bar(\"País\", \"População\")\n",
    "# precisamos obter o objeto ‘fig‘ antes de salvar\n",
    "fig = ax.get_figure()\n",
    "# sugestão: sempre use o argumento ‘bbox_inches=\"tight\"‘ quando for salvar\n",
    "fig.savefig(\"grafico.png\", bbox_inches=\"tight\")"
   ]
  },
  {
   "cell_type": "markdown",
   "id": "c724a9d0-9c23-4771-b7ba-af211ce55650",
   "metadata": {},
   "source": [
    "# Exercício 6 - Resolução"
   ]
  },
  {
   "cell_type": "code",
   "execution_count": 19,
   "id": "1fed5629-3479-456a-949f-35923f97e5fa",
   "metadata": {},
   "outputs": [
    {
     "data": {
      "image/png": "[encoded data removed]",
      "text/plain": [
       "<Figure size 640x480 with 1 Axes>"
      ]
     },
     "metadata": {},
     "output_type": "display_data"
    }
   ],
   "source": [
    "#exercicio 6\n",
    "\n",
    "dados = pd.read_excel(\"população.xlsx\")\n",
    "dados_ordenados = dados.sort_values ( by = \"População\", ascending = False)\n",
    "ax = dados_ordenados.plot.bar(\"País\", \"População\")\n"
   ]
  },
  {
   "cell_type": "markdown",
   "id": "e4e2e003",
   "metadata": {},
   "source": [
    "\n",
    "Veja que para salvar o gráfico primeiro precisamos obter o objeto `fig` a partir do nosso objeto `ax`. Isso é feito pelo método `get_figure` mostrado na linha 4. Este tipo de separação em um objeto de figura (`fig`) e um objeto de eixo (`ax`) é uma peculiaridade do **matplotlib**. Não temos muito o que fazer a respeito, apenas aceitar a realidade como ela se apresenta. É na linha 7 que efetivamente salvamos a imagem com o método `savefig`. O primeiro argumento deve ser o nome do seu gráfico com a extensão que você quer (pode ser “.png”, “.jpg”, “.pdf” entre outras). O argumento `bbox_inches` controla qual parte do gráfico você quer salvar.  \n",
    "**Dica:** sempre use `bbox_inches=\"tight\"` e não terá problemas.\n",
    "\n",
    "Exercício 7) Teste seus conhecimentos novos! Crie uma nova planilha de dados com os dados que você quiser (pode buscar uma tabela pronta ou inventar a sua). Use o pandas para criar um objeto do tipo DataFrame com essa tabela. Dê um `print` na sua tabela e faça dois plots diferentes com ela. Salve seus plots em dois arquivos diferentes."
   ]
  },
  {
   "cell_type": "code",
   "execution_count": 32,
   "id": "0546b3d9-f0bb-413b-a648-8bd7438f3a99",
   "metadata": {},
   "outputs": [
    {
     "name": "stdout",
     "output_type": "stream",
     "text": [
      "             Cidade Estado  População\n",
      "0         São Paulo     SP   45973194\n",
      "2          Campinas     SP    1139047\n",
      "3          São José     SP     724756\n",
      "1           Taubaté     SP     310739\n",
      "4           Ubatuba     SP      96598\n",
      "5  Campos do Jordão     SP      46974\n"
     ]
    },
    {
     "data": {
      "image/png": "[encoded data removed]",
      "text/plain": [
       "<Figure size 640x480 with 1 Axes>"
      ]
     },
     "metadata": {},
     "output_type": "display_data"
    },
    {
     "data": {
      "image/png": "[encoded data removed]",
      "text/plain": [
       "<Figure size 640x480 with 1 Axes>"
      ]
     },
     "metadata": {},
     "output_type": "display_data"
    }
   ],
   "source": [
    "#exercicio 7\n",
    "\n",
    "#importa a biblioteca\n",
    "import pandas as pd\n",
    "\n",
    "#leitura dos dados e ordenação por população\n",
    "dados_pl_2 = pd.read_excel(\"planilha_teste_2.xlsx\")\n",
    "dados_pl_2_ordenados = dados_pl_2.sort_values ( by = \"População\", ascending = False)\n",
    "print(dados_pl_2_ordenados)\n",
    "\n",
    "#plota os 2 gráficos\n",
    "ax1 = dados_pl_2_ordenados.plot(\"Cidade\", \"População\")\n",
    "ax2 = dados_pl_2_ordenados.plot.bar(\"Cidade\", \"População\")\n",
    "\n",
    "#salva o gráfico 1\n",
    "fig1 = ax1.get_figure()\n",
    "fig1.savefig(\"grafico1.png\", bbox_inches=\"tight\")\n",
    "\n",
    "#salva o gráfico 2\n",
    "fig2 = ax2.get_figure()\n",
    "fig2.savefig(\"grafico2.png\", bbox_inches=\"tight\")"
   ]
  },
  {
   "cell_type": "code",
   "execution_count": null,
   "id": "cae1607e-b291-4f3b-9327-707a8d3c378f",
   "metadata": {},
   "outputs": [],
   "source": []
  }
 ],
 "metadata": {
  "kernelspec": {
   "display_name": "ilumpy",
   "language": "python",
   "name": "ilumpy"
  },
  "language_info": {
   "codemirror_mode": {
    "name": "ipython",
    "version": 3
   },
   "file_extension": ".py",
   "mimetype": "text/x-python",
   "name": "python",
   "nbconvert_exporter": "python",
   "pygments_lexer": "ipython3",
   "version": "3.12.7"
  }
 },
 "nbformat": 4,
 "nbformat_minor": 5
}
