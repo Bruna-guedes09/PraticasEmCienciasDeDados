{
 "cells": [
  {
   "cell_type": "markdown",
   "metadata": {
    "id": "q4pbmqabA8cY",
    "tags": []
   },
   "source": [
    "# Aula01. Revisão.\n",
    "\n",
    "## Strings, input(), and print()\n"
   ]
  },
  {
   "cell_type": "markdown",
   "metadata": {
    "id": "TA5R-tylA8ca"
   },
   "source": [
    "---\n",
    "## 1. Escrevendo textos no código: Strings"
   ]
  },
  {
   "cell_type": "markdown",
   "metadata": {
    "id": "104M77O6A8ca"
   },
   "source": [
    "- Observe essas strings e execute as células:  "
   ]
  },
  {
   "cell_type": "code",
   "execution_count": 1,
   "metadata": {
    "colab": {
     "base_uri": "https://localhost:8080/",
     "height": 36
    },
    "id": "R1rBLxb9A8cb",
    "outputId": "6201eeb3-8ce4-46af-c2fb-dd0a9b4d46a0"
   },
   "outputs": [
    {
     "data": {
      "text/plain": [
       "'this is a string'"
      ]
     },
     "execution_count": 1,
     "metadata": {},
     "output_type": "execute_result"
    }
   ],
   "source": [
    "\"this is a string\""
   ]
  },
  {
   "cell_type": "code",
   "execution_count": 2,
   "metadata": {
    "colab": {
     "base_uri": "https://localhost:8080/",
     "height": 36
    },
    "id": "szq4-CXYA8cb",
    "outputId": "bd825afe-2973-4b21-9718-33a526617d41"
   },
   "outputs": [
    {
     "data": {
      "text/plain": [
       "'everything you write in between quotes is a string'"
      ]
     },
     "execution_count": 2,
     "metadata": {},
     "output_type": "execute_result"
    }
   ],
   "source": [
    "'everything you write in between quotes is a string'"
   ]
  },
  {
   "cell_type": "markdown",
   "metadata": {
    "id": "JGAiwq8XA8cb"
   },
   "source": [
    "---\n",
    "## 2. Fazendo perguntas: input()"
   ]
  },
  {
   "cell_type": "markdown",
   "metadata": {
    "id": "LQxzLviDA8cb"
   },
   "source": [
    "- Observe os exemplos e execute as células:"
   ]
  },
  {
   "cell_type": "code",
   "execution_count": 3,
   "metadata": {
    "colab": {
     "base_uri": "https://localhost:8080/",
     "height": 54
    },
    "id": "RcjhyhNoA8cc",
    "outputId": "8f73d2c0-01ed-4b0b-e98f-b49804c26038"
   },
   "outputs": [
    {
     "name": "stdin",
     "output_type": "stream",
     "text": [
      "What's your name? Bruna Guedes Pereira\n"
     ]
    },
    {
     "data": {
      "text/plain": [
       "'Bruna Guedes Pereira'"
      ]
     },
     "execution_count": 3,
     "metadata": {},
     "output_type": "execute_result"
    }
   ],
   "source": [
    "input(\"What's your name?\")"
   ]
  },
  {
   "cell_type": "code",
   "execution_count": 4,
   "metadata": {
    "colab": {
     "base_uri": "https://localhost:8080/",
     "height": 54
    },
    "id": "LfjWZVGLA8cc",
    "outputId": "b9883178-1e2f-4000-fd36-6a0fb93f0fc1"
   },
   "outputs": [
    {
     "name": "stdin",
     "output_type": "stream",
     "text": [
      "Where are you from? sp\n"
     ]
    },
    {
     "data": {
      "text/plain": [
       "'sp'"
      ]
     },
     "execution_count": 4,
     "metadata": {},
     "output_type": "execute_result"
    }
   ],
   "source": [
    "input(\"Where are you from?\")"
   ]
  },
  {
   "cell_type": "markdown",
   "metadata": {
    "id": "AcVvDmD1A8cc"
   },
   "source": [
    "---\n",
    "## 3. ASCII art: print()"
   ]
  },
  {
   "cell_type": "markdown",
   "metadata": {
    "id": "8VQtId9BA8cc"
   },
   "source": [
    "\n",
    "- Observe o código e execute. Note que, para usar caracteres especiais (uma barra invertida \\, por exemplo), é preciso usar uma barra invertida ao lado, para o Python entender que ela faz parte da string. Neste caso, a barra invertida dentro da string precisa ser acompanhada de um símbolo de escape, tal como neste fragmento de código: "
   ]
  },
  {
   "cell_type": "code",
   "execution_count": 10,
   "metadata": {},
   "outputs": [
    {
     "name": "stdout",
     "output_type": "stream",
     "text": [
      "/\\\\_/\\\\ \n",
      ">^.^<\n",
      " / \\\\\n",
      "(___)__|\n"
     ]
    }
   ],
   "source": [
    "print (r'/\\\\_/\\\\ ')\n",
    "print (r'>^.^<')\n",
    "print (r' / \\\\')\n",
    "print (r'(___)__|')"
   ]
  },
  {
   "cell_type": "markdown",
   "metadata": {},
   "source": [
    "\n",
    "- Tente executar o código sem uma das barras invertidas. "
   ]
  },
  {
   "cell_type": "code",
   "execution_count": null,
   "metadata": {},
   "outputs": [],
   "source": []
  },
  {
   "cell_type": "markdown",
   "metadata": {},
   "source": [
    "\n",
    "- Tente executar o código usando o símbolo r seguido do print."
   ]
  },
  {
   "cell_type": "code",
   "execution_count": null,
   "metadata": {},
   "outputs": [],
   "source": []
  },
  {
   "cell_type": "markdown",
   "metadata": {},
   "source": [
    "---\n",
    "## 4. Revisão para o quizz da próxima aula."
   ]
  },
  {
   "cell_type": "markdown",
   "metadata": {},
   "source": [
    "\n",
    "- Use a função input para perguntar qual o personagem favorito do usuário do programa que você está desenvolvendo. Armazene este resultado em uma variável chamada favorito."
   ]
  },
  {
   "cell_type": "code",
   "execution_count": 11,
   "metadata": {},
   "outputs": [
    {
     "name": "stdin",
     "output_type": "stream",
     "text": [
      "Qual é o nome do teu personagem favorito? Gonçalo Ramires\n"
     ]
    }
   ],
   "source": [
    "favorito = input(\"Qual é o nome do teu personagem favorito?\")"
   ]
  },
  {
   "cell_type": "markdown",
   "metadata": {},
   "source": [
    "\n",
    "- Use a função print para mostrar o nome do personagem favorito do usuário."
   ]
  },
  {
   "cell_type": "code",
   "execution_count": 12,
   "metadata": {},
   "outputs": [
    {
     "name": "stdout",
     "output_type": "stream",
     "text": [
      "O nome do personagem favorito do usuário é: Gonçalo Ramires\n"
     ]
    }
   ],
   "source": [
    "print(\"O nome do personagem favorito do usuário é:\", favorito)"
   ]
  },
  {
   "cell_type": "code",
   "execution_count": null,
   "metadata": {},
   "outputs": [],
   "source": []
  }
 ],
 "metadata": {
  "colab": {
   "provenance": []
  },
  "kernelspec": {
   "display_name": "Python 3 (ipykernel)",
   "language": "python",
   "name": "python3"
  },
  "language_info": {
   "codemirror_mode": {
    "name": "ipython",
    "version": 3
   },
   "file_extension": ".py",
   "mimetype": "text/x-python",
   "name": "python",
   "nbconvert_exporter": "python",
   "pygments_lexer": "ipython3",
   "version": "3.12.7"
  }
 },
 "nbformat": 4,
 "nbformat_minor": 4
}
