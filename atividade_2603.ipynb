{
 "cells": [
  {
   "cell_type": "code",
   "execution_count": 1,
   "id": "4ecaf477-60c4-4464-a9f5-92051922c013",
   "metadata": {},
   "outputs": [],
   "source": [
    "A = 1\n",
    "B = 2\n",
    "C = 4\n",
    "D = 8\n",
    "E = 16"
   ]
  },
  {
   "cell_type": "code",
   "execution_count": 4,
   "id": "8164c0e1-f920-4fa6-9b1b-5ab9dad867e7",
   "metadata": {},
   "outputs": [
    {
     "data": {
      "text/plain": [
       "False"
      ]
     },
     "execution_count": 4,
     "metadata": {},
     "output_type": "execute_result"
    }
   ],
   "source": [
    "A==B"
   ]
  },
  {
   "cell_type": "code",
   "execution_count": 5,
   "id": "8526f1bb-56c6-4d8e-8386-76284c27709b",
   "metadata": {},
   "outputs": [
    {
     "data": {
      "text/plain": [
       "True"
      ]
     },
     "execution_count": 5,
     "metadata": {},
     "output_type": "execute_result"
    }
   ],
   "source": [
    "A<B"
   ]
  },
  {
   "cell_type": "code",
   "execution_count": 6,
   "id": "59e398fa-604b-44b4-a99a-4b37c732dbd7",
   "metadata": {},
   "outputs": [
    {
     "data": {
      "text/plain": [
       "False"
      ]
     },
     "execution_count": 6,
     "metadata": {},
     "output_type": "execute_result"
    }
   ],
   "source": [
    "B>C"
   ]
  },
  {
   "cell_type": "code",
   "execution_count": 7,
   "id": "697808cb-e18c-4c22-8f39-0b9658bd7539",
   "metadata": {},
   "outputs": [
    {
     "data": {
      "text/plain": [
       "True"
      ]
     },
     "execution_count": 7,
     "metadata": {},
     "output_type": "execute_result"
    }
   ],
   "source": [
    "D<=E"
   ]
  },
  {
   "cell_type": "code",
   "execution_count": 8,
   "id": "ca1156c5-a50e-492b-bff9-5448212d9782",
   "metadata": {},
   "outputs": [
    {
     "data": {
      "text/plain": [
       "True"
      ]
     },
     "execution_count": 8,
     "metadata": {},
     "output_type": "execute_result"
    }
   ],
   "source": [
    "A != E"
   ]
  },
  {
   "cell_type": "code",
   "execution_count": 4,
   "id": "cac0cbfa-8337-4ea7-b619-584c12f0b9b6",
   "metadata": {},
   "outputs": [
    {
     "name": "stdin",
     "output_type": "stream",
     "text": [
      "Valor para x 20\n",
      "Valor para y 88\n"
     ]
    },
    {
     "data": {
      "text/plain": [
       "False"
      ]
     },
     "execution_count": 4,
     "metadata": {},
     "output_type": "execute_result"
    }
   ],
   "source": [
    "x = float (input (\"Valor para x\"))\n",
    "y = float (input (\"Valor para y\"))\n",
    "x==5 and x<y"
   ]
  },
  {
   "cell_type": "code",
   "execution_count": 10,
   "id": "2fa299e7-6749-4df9-812d-07a13ab8c3d7",
   "metadata": {},
   "outputs": [
    {
     "name": "stdin",
     "output_type": "stream",
     "text": [
      "Digite um único número, por favor: 5\n"
     ]
    },
    {
     "name": "stdout",
     "output_type": "stream",
     "text": [
      "5 é menor do que 6\n"
     ]
    }
   ],
   "source": [
    "x = int(input(\"Digite um único número, por favor:\"))\n",
    "if x >=6:\n",
    "    print(x, \"é maior ou igual que 6\")\n",
    "else:\n",
    "    print(x, \"é menor do que 6\")"
   ]
  },
  {
   "cell_type": "code",
   "execution_count": 16,
   "id": "09db831b-75f5-4ca9-b035-73b443d4f364",
   "metadata": {},
   "outputs": [
    {
     "name": "stdin",
     "output_type": "stream",
     "text": [
      "Digite um único número, por favor: 4\n"
     ]
    },
    {
     "name": "stdout",
     "output_type": "stream",
     "text": [
      "4 é menor do que 6\n"
     ]
    }
   ],
   "source": [
    "x = int(input(\"Digite um único número, por favor:\"))\n",
    "if x >6:\n",
    "    print(x, \"é maior do que 6\")\n",
    "else:\n",
    "    if x==6:\n",
    "        print(x, \"é igual a 6\")\n",
    "    else:\n",
    "        print(x, \"é menor do que 6\")"
   ]
  },
  {
   "cell_type": "code",
   "execution_count": 21,
   "id": "3c3b4c43-50fe-44a9-9a15-3ffeabe0a0c5",
   "metadata": {},
   "outputs": [
    {
     "name": "stdin",
     "output_type": "stream",
     "text": [
      "Digite um único número, por favor: 5\n"
     ]
    },
    {
     "name": "stdout",
     "output_type": "stream",
     "text": [
      "5 é menor do que 6\n"
     ]
    }
   ],
   "source": [
    "x = int(input(\"Digite um único número, por favor:\"))\n",
    "if x >6:\n",
    "    print(x, \"é maior do que 6\")\n",
    "elif x==6:\n",
    "        print(x, \"é igual a 6\")\n",
    "else:\n",
    "    print(x, \"é menor do que 6\")"
   ]
  },
  {
   "cell_type": "code",
   "execution_count": 25,
   "id": "e5fb8e49-d7f4-420d-bb7e-0414278b6238",
   "metadata": {},
   "outputs": [
    {
     "name": "stdin",
     "output_type": "stream",
     "text": [
      "Temperatura, em graus Celsius: 4\n"
     ]
    },
    {
     "name": "stdout",
     "output_type": "stream",
     "text": [
      "Tuti não pode caminhar\n"
     ]
    }
   ],
   "source": [
    "temp = float(input(\"Temperatura, em graus Celsius:\"))\n",
    "if temp>30 or temp<10:\n",
    "    print (\"Tuti não pode caminhar\")\n",
    "else:\n",
    "    print (\"Tuti pode caminhar\")\n",
    "    "
   ]
  },
  {
   "cell_type": "code",
   "execution_count": 30,
   "id": "23ce621c-3a2d-43bb-84e3-63642cfe304b",
   "metadata": {},
   "outputs": [
    {
     "name": "stdin",
     "output_type": "stream",
     "text": [
      "Temperatura, em graus Celsius: 31\n"
     ]
    },
    {
     "name": "stdout",
     "output_type": "stream",
     "text": [
      "Tuti não pode caminhar, pois está muito quente\n"
     ]
    }
   ],
   "source": [
    "temp = float(input(\"Temperatura, em graus Celsius:\"))\n",
    "if temp>30:\n",
    "    print (\"Tuti não pode caminhar, pois está muito quente.\")\n",
    "elif temp <10:\n",
    "    print (\"Tuti não pode caminhar, pois está muito frio.\")\n",
    "else:\n",
    "    print (\"Tuti pode caminhar, pois a temperatura está agradável.\")"
   ]
  },
  {
   "cell_type": "code",
   "execution_count": 34,
   "id": "55804271-ddf5-43e2-aef5-9f92bf343be2",
   "metadata": {},
   "outputs": [
    {
     "name": "stdin",
     "output_type": "stream",
     "text": [
      "Numero real: -9\n"
     ]
    },
    {
     "name": "stdout",
     "output_type": "stream",
     "text": [
      "Negativo\n"
     ]
    }
   ],
   "source": [
    "num_real = float(input(\"Numero real:\"))\n",
    "if num_real<0:\n",
    "    print(\"Negativo\")\n",
    "elif num_real==0:\n",
    "    print(\"Igual a zero\")\n",
    "else:\n",
    "    print(\"Positivo\")"
   ]
  },
  {
   "cell_type": "code",
   "execution_count": 38,
   "id": "568e2b63-b0cb-4f84-9ba1-eb05448058c5",
   "metadata": {},
   "outputs": [
    {
     "name": "stdin",
     "output_type": "stream",
     "text": [
      "Numero inteiro: 4\n"
     ]
    },
    {
     "name": "stdout",
     "output_type": "stream",
     "text": [
      "Par\n"
     ]
    }
   ],
   "source": [
    "num_inteiro = int(input(\"Numero inteiro:\"))\n",
    "if num_inteiro%2==0:\n",
    "    print (\"Par\")\n",
    "else:\n",
    "    print (\"Ímpar\")"
   ]
  },
  {
   "cell_type": "code",
   "execution_count": 60,
   "id": "887583d7-6ae1-4871-a625-f0c2abb611ae",
   "metadata": {},
   "outputs": [
    {
     "name": "stdin",
     "output_type": "stream",
     "text": [
      "Nota de 0 a 10 em FFI: 0\n"
     ]
    },
    {
     "name": "stdout",
     "output_type": "stream",
     "text": [
      "0.0 é equivalente ao conceito D.\n"
     ]
    }
   ],
   "source": [
    "nota = float(input(\"Nota de 0 a 10 em FFI:\"))\n",
    "if 9<=nota<=10:\n",
    "    print (f\"{nota} é equivalente ao conceito A.\")\n",
    "elif 7.5<=nota<=8.9:\n",
    "    print (f\"{nota} é equivalente ao conceito B.\")\n",
    "\n",
    "elif 6<=nota<=7.4:\n",
    "     print (f\"{nota} é equivalente ao conceito C.\")\n",
    "elif 0<=nota<6:\n",
    "    print (f\"{nota} é equivalente ao conceito D.\")\n",
    "else:\n",
    "    print (f\"{nota} não é um valor válido.\")\n",
    "    "
   ]
  },
  {
   "cell_type": "code",
   "execution_count": 45,
   "id": "0153e980-6f74-43f8-a8cd-39f97f9d7b87",
   "metadata": {},
   "outputs": [
    {
     "name": "stdout",
     "output_type": "stream",
     "text": [
      "5 é um inteiro. 5 é um número. \n"
     ]
    }
   ],
   "source": [
    "a = 5\n",
    "type(a)\n",
    "\n",
    "if type(a) == int:\n",
    "    print(f\"{a} é um inteiro. {a} é um número. \")"
   ]
  },
  {
   "cell_type": "code",
   "execution_count": 62,
   "id": "e494cfe0-e8ca-4fdd-9530-d8918733e03d",
   "metadata": {},
   "outputs": [
    {
     "data": {
      "text/plain": [
       "list"
      ]
     },
     "execution_count": 62,
     "metadata": {},
     "output_type": "execute_result"
    }
   ],
   "source": [
    "minha_lista_livros = [\"Senhor dos Aneis\", \"A Lenda de Drizzt\", \"Watchmen\"]\n",
    "type (minha_lista_livros)"
   ]
  },
  {
   "cell_type": "code",
   "execution_count": 78,
   "id": "466ef2be-074f-4790-ae11-7a8d50f3518e",
   "metadata": {},
   "outputs": [
    {
     "name": "stdout",
     "output_type": "stream",
     "text": [
      "['chocolate', 'churrasco', 'grama', 'petisco']\n",
      "['osso', 'vegetais', 'grama', 'banana']\n"
     ]
    }
   ],
   "source": [
    "lista_alimentos = [\"chocolate\", \"churrasco\", \"grama\", \"petisco\"]\n",
    "print (lista_alimentos)\n",
    "## print (lista_alimentos[-1]) ## mostra o último elemento da lista, -2 mostra o penúltimo...\n",
    "## print (lista_alimentos [3]) ## igual ao anterior\n",
    "## print (lista_alimentos [4]) ## erro\n",
    "\n",
    "lista_alimentos[0] = \"osso\"\n",
    "lista_alimentos[1] = \"vegetais\"\n",
    "lista_alimentos[3] = \"banana\"\n",
    "print (lista_alimentos)"
   ]
  },
  {
   "cell_type": "markdown",
   "id": "3e1003ac-67dc-417a-a78b-adeabf895f12",
   "metadata": {},
   "source": [
    "#### lista de exercício do dia 26 de Março de 2025 😊"
   ]
  },
  {
   "cell_type": "code",
   "execution_count": null,
   "id": "6d0dcd4d-f99e-4af1-ac73-2e137227fa67",
   "metadata": {},
   "outputs": [],
   "source": [
    "# * coloca em itálico"
   ]
  },
  {
   "cell_type": "code",
   "execution_count": null,
   "id": "6fc9d31b-189c-4cdd-8f80-bfd6078c1725",
   "metadata": {},
   "outputs": [],
   "source": [
    "# ** coloca em negrito"
   ]
  },
  {
   "cell_type": "code",
   "execution_count": null,
   "id": "25b5c246-d449-45ba-b813-e19a4a095994",
   "metadata": {},
   "outputs": [],
   "source": [
    "# *** coloca em itálico e negrito"
   ]
  },
  {
   "cell_type": "code",
   "execution_count": null,
   "id": "f99641b0-a915-4b89-80a9-a84c314191f8",
   "metadata": {},
   "outputs": [],
   "source": [
    "# $$ coloca em equação matemática centralizada"
   ]
  },
  {
   "cell_type": "code",
   "execution_count": null,
   "id": "cf888f02-7489-44b5-93bf-c12725794f7d",
   "metadata": {},
   "outputs": [],
   "source": [
    "# $ coloca em equação matemática não centralizada"
   ]
  },
  {
   "cell_type": "code",
   "execution_count": null,
   "id": "cf605c5e-69d7-4bf1-a177-15fe036298c1",
   "metadata": {},
   "outputs": [],
   "source": [
    "# > citação"
   ]
  },
  {
   "cell_type": "code",
   "execution_count": null,
   "id": "bb52aff2-6f01-42ef-8f0d-cfcae2ec2a47",
   "metadata": {},
   "outputs": [],
   "source": [
    "# * só um, faz um tópico"
   ]
  },
  {
   "cell_type": "code",
   "execution_count": null,
   "id": "cf6ff2ae-69e2-4471-b384-427fa285cde4",
   "metadata": {},
   "outputs": [],
   "source": []
  },
  {
   "cell_type": "code",
   "execution_count": null,
   "id": "2ea68ede-7f67-4cf6-9928-b8cef394d069",
   "metadata": {},
   "outputs": [],
   "source": []
  }
 ],
 "metadata": {
  "kernelspec": {
   "display_name": "Python 3 (ipykernel)",
   "language": "python",
   "name": "python3"
  },
  "language_info": {
   "codemirror_mode": {
    "name": "ipython",
    "version": 3
   },
   "file_extension": ".py",
   "mimetype": "text/x-python",
   "name": "python",
   "nbconvert_exporter": "python",
   "pygments_lexer": "ipython3",
   "version": "3.12.7"
  }
 },
 "nbformat": 4,
 "nbformat_minor": 5
}
