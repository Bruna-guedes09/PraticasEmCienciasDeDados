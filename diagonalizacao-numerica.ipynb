{
 "cells": [
  {
   "cell_type": "code",
   "execution_count": 2,
   "id": "4147e7bb-7aab-4fd8-af24-024ea5a1a18f",
   "metadata": {},
   "outputs": [
    {
     "ename": "ModuleNotFoundError",
     "evalue": "No module named 'numpy'",
     "output_type": "error",
     "traceback": [
      "\u001b[1;31m---------------------------------------------------------------------------\u001b[0m",
      "\u001b[1;31mModuleNotFoundError\u001b[0m                       Traceback (most recent call last)",
      "Cell \u001b[1;32mIn[2], line 1\u001b[0m\n\u001b[1;32m----> 1\u001b[0m \u001b[38;5;28;01mimport\u001b[39;00m \u001b[38;5;21;01mnumpy\u001b[39;00m \u001b[38;5;28;01mas\u001b[39;00m \u001b[38;5;21;01mnp\u001b[39;00m\n\u001b[0;32m      2\u001b[0m \u001b[38;5;28;01mimport\u001b[39;00m \u001b[38;5;21;01mmatplotlib\u001b[39;00m\u001b[38;5;21;01m.\u001b[39;00m\u001b[38;5;21;01mpyplot\u001b[39;00m \u001b[38;5;28;01mas\u001b[39;00m \u001b[38;5;21;01mplt\u001b[39;00m\n\u001b[0;32m      4\u001b[0m \u001b[38;5;66;03m# Define o valor de t\u001b[39;00m\n",
      "\u001b[1;31mModuleNotFoundError\u001b[0m: No module named 'numpy'"
     ]
    }
   ],
   "source": [
    "import numpy as np\n",
    "import matplotlib.pyplot as plt\n",
    "\n",
    "# Define o valor de t\n",
    "t = 1.0\n",
    "\n",
    "# Define o Hamiltoniano (matriz 3x3)\n",
    "#H = np.array([\n",
    "#   [0, t, 0, t],\n",
    "#    [t, 0, t, 0],\n",
    "#    [0, t, 0, t],\n",
    "#    [t, 0, t, 0]\n",
    "#])\n",
    "\n",
    "t = 1  # ou qualquer valor\n",
    "n = 100\n",
    "\n",
    "# Matriz 100x100 preenchida com zeros\n",
    "H = np.zeros((n, n))\n",
    "\n",
    "# Preenche com o padrão de vizinhança linear\n",
    "for i in range(n):\n",
    "    if i > 0:\n",
    "        H[i, i-1] = t\n",
    "    if i < n - 1:\n",
    "        H[i, i+1] = t\n",
    "\n",
    "# Calcula os autovalores e autovetores\n",
    "eigenvalues, eigenvectors = np.linalg.eigh(H)\n",
    "\n",
    "# Ordena os autovalores para melhor visualização\n",
    "eigenvalues = np.sort(eigenvalues)\n",
    "\n",
    "# Prepara o gráfico\n",
    "fig, (ax_levels, ax_hist) = plt.subplots(1, 2, figsize=(8, 6), gridspec_kw={'width_ratios': [1, 1]})\n",
    "\n",
    "# --- Gráfico dos níveis de energia (autovalores)\n",
    "for i, val in enumerate(eigenvalues):\n",
    "    ax_levels.hlines(val, xmin=0, xmax=1, color='blue', linewidth=2)\n",
    "\n",
    "ax_levels.set_xlim(0, 1.5)\n",
    "ax_levels.set_ylim(min(eigenvalues) - 1, max(eigenvalues) + 1)\n",
    "ax_levels.set_xticks([])\n",
    "ax_levels.set_ylabel(\"Energia\")\n",
    "ax_levels.set_title(\"Níveis de energia\")\n",
    "\n",
    "# Histograma\n",
    "bins = np.linspace(min(eigenvalues)-0.1, max(eigenvalues)+0.1, 20)\n",
    "counts, bin_edges = np.histogram(eigenvalues, bins=bins)\n",
    "\n",
    "# Calcula o centro dos bins para posicionar as barras\n",
    "bin_centers = 0.5 * (bin_edges[1:] + bin_edges[:-1])\n",
    "bar_width = bin_edges[1] - bin_edges[0]\n",
    "\n",
    "# Plota barras horizontais (histograma rotacionado)\n",
    "ax_hist.barh(bin_centers, counts, height=bar_width * 0.9, color='orange', edgecolor='black')\n",
    "\n",
    "ax_hist.set_ylim(min(eigenvalues) - 1, max(eigenvalues) + 1)\n",
    "ax_hist.set_xlabel(\"numero de níveis}\")\n",
    "ax_hist.set_yticks([])\n",
    "ax_hist.set_title(\"Histograma dos níveis\")\n",
    "\n",
    "plt.tight_layout()\n",
    "plt.show()\n"
   ]
  },
  {
   "cell_type": "code",
   "execution_count": null,
   "id": "21b60389-9205-4dec-b641-5d7b8263e875",
   "metadata": {},
   "outputs": [],
   "source": []
  }
 ],
 "metadata": {
  "kernelspec": {
   "display_name": "Python 3 (ipykernel)",
   "language": "python",
   "name": "python3"
  },
  "language_info": {
   "codemirror_mode": {
    "name": "ipython",
    "version": 3
   },
   "file_extension": ".py",
   "mimetype": "text/x-python",
   "name": "python",
   "nbconvert_exporter": "python",
   "pygments_lexer": "ipython3",
   "version": "3.12.7"
  }
 },
 "nbformat": 4,
 "nbformat_minor": 5
}
