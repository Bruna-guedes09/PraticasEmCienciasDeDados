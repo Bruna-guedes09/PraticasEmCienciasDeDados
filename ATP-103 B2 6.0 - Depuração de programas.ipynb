{
 "cells": [
  {
   "cell_type": "markdown",
   "id": "d60edb42-fe40-4640-bc53-0b8477510b38",
   "metadata": {},
   "source": [
    "Depuração de programas\n",
    "======================\n",
    "\n",
    "**Autor:** Daniel R. Cassar\n",
    "\n"
   ]
  },
  {
   "cell_type": "markdown",
   "id": "38630a4e-3983-4ee4-81d2-9af362067fa3",
   "metadata": {},
   "source": [
    "## Introdução\n",
    "\n"
   ]
  },
  {
   "cell_type": "markdown",
   "id": "fe2cd389-095c-47cc-b010-7b122879539a",
   "metadata": {},
   "source": [
    "O objetivo de qualquer um que escreve um programa de computador é que ele funcione corretamente. Mesmo programando com muita vontade, carinho, dedicação e cuidado, não é raro que um programa de computador dê algum erro ao rodar&#x2026; pior ainda, as vezes ele até funciona sem dar erro, mas não realiza a tarefa desejada de forma correta.\n",
    "\n",
    "Um programa que dá erro ao rodar ou que não executa a tarefa desejada deve ser **depurado**. Isto é, devemos identificar o problema e corrigi-lo.\n",
    "\n"
   ]
  },
  {
   "cell_type": "markdown",
   "id": "7edcdc20-547e-4173-b478-e76e9acf6413",
   "metadata": {},
   "source": [
    "## Todo erro tem um nome\n",
    "\n"
   ]
  },
  {
   "cell_type": "markdown",
   "id": "05564d73-40d3-4486-958c-1061dc84da66",
   "metadata": {},
   "source": [
    "O código abaixo dá um erro ao ser executado. Vamos investigar!\n",
    "\n"
   ]
  },
  {
   "cell_type": "code",
   "execution_count": null,
   "id": "a9467a7b-48dd-4073-b2c3-97a6aaff2177",
   "metadata": {},
   "outputs": [],
   "source": [
    "def divisao(x, y):\n",
    "    \"\"\"Divide o primeiro valor pelo segundo.\"\"\"\n",
    "    return x / y\n",
    "\n",
    "\n",
    "divisao(100, 0)"
   ]
  },
  {
   "cell_type": "markdown",
   "id": "2cc9d148-e58f-437e-8ef2-c4a803c1c9d1",
   "metadata": {},
   "source": [
    "Quando o Python é incapaz de realizar uma operação ele exibe uma mensagem de erro. Aqui no Jupyter, essa mensagem é colorida (uns diriam que é um tanto dramática). Depois de deixar passar no seu sistema esse o susto de receber uma mensagem de erro, é hora de ler ela e identificar o que está acontecendo.\n",
    "\n",
    "Todo erro tem um nome. O nome do erro do código acima é `ZeroDivisionError` que significa &ldquo;erro de divisão por zero&rdquo; em português. Observe que não apenas o Python te conta o nome do erro, mas também onde ele ocorreu.\n",
    "\n"
   ]
  },
  {
   "cell_type": "markdown",
   "id": "99dfb443-fea4-4610-b025-ea5056461157",
   "metadata": {},
   "source": [
    "## Exercícios\n",
    "\n"
   ]
  },
  {
   "cell_type": "markdown",
   "id": "69774a9e-e8d3-4e25-907a-59c70d732518",
   "metadata": {},
   "source": [
    "### Nada de dividir por zero!\n",
    "\n"
   ]
  },
  {
   "cell_type": "markdown",
   "id": "0050b691-21e2-46e1-8cca-48b772893e93",
   "metadata": {},
   "source": [
    "Corrija o código abaixo para que ele não resulte em erro.\n",
    "\n",
    "**Dica**: quando você quer indicar que algo não é um número use `float(\"nan\")`. O termo &ldquo;nan&rdquo; vem de *not a number* (não é um número, em inglês)\n",
    "\n"
   ]
  },
  {
   "cell_type": "code",
   "execution_count": null,
   "id": "343fffd3-54be-4648-818a-f73fd8b659e0",
   "metadata": {},
   "outputs": [],
   "source": [
    "def divisao(x, y):\n",
    "    \"\"\"Divide o primeiro valor pelo segundo.\"\"\"\n",
    "    return x / y\n",
    "\n",
    "\n",
    "print(divisao(100, 0))"
   ]
  },
  {
   "cell_type": "markdown",
   "id": "bed66375-d56b-49e9-89a0-fceef4cc8adf",
   "metadata": {},
   "source": [
    "### Te conheço?\n",
    "\n"
   ]
  },
  {
   "cell_type": "markdown",
   "id": "8b34edbf-b29f-45d7-bb11-31e8431cf776",
   "metadata": {},
   "source": [
    "Leia a mensagem de erro do código abaixo, identifique o nome do erro e proponha uma solução para que o código rode sem dar erro.\n",
    "\n"
   ]
  },
  {
   "cell_type": "code",
   "execution_count": null,
   "id": "cfc23509-9e54-4c01-ad89-d8b0354b13c3",
   "metadata": {},
   "outputs": [],
   "source": [
    "piratas = {\n",
    "    \"Ruffy\": \"Homem borracha\",\n",
    "    \"Zoro\": \"Espadachim\",\n",
    "    \"Nami\": \"Navegadora\",\n",
    "    \"Sanji\": \"Cozinheiro\",\n",
    "}\n",
    "\n",
    "print(piratas[\"Ussop\"])"
   ]
  },
  {
   "cell_type": "markdown",
   "id": "007738e6-8210-4db3-b1bf-daf7bc275774",
   "metadata": {},
   "source": [
    "### Meus 4 filmes favoritos\n",
    "\n"
   ]
  },
  {
   "cell_type": "markdown",
   "id": "64fb0874-0e6f-49f0-be13-c7183cb08b10",
   "metadata": {},
   "source": [
    "Leia a mensagem de erro do código abaixo, identifique o nome do erro e proponha uma solução para que o código rode sem dar erro.\n",
    "\n"
   ]
  },
  {
   "cell_type": "code",
   "execution_count": null,
   "id": "e3f8fb58-38e8-4fa5-8488-cfac605d1777",
   "metadata": {},
   "outputs": [],
   "source": [
    "filmes = [\n",
    "    \"Meu vizinho Totoro\",\n",
    "    \"Nausicaä no país dos ventos\",\n",
    "    \"Princesa Mononoke\",\n",
    "]\n",
    "\n",
    "print(filmes[4])"
   ]
  },
  {
   "cell_type": "markdown",
   "id": "df2a1c05-25cf-421c-8f1b-84f7a7f0cd24",
   "metadata": {},
   "source": [
    "### Mas que tipo de problema é esse?\n",
    "\n"
   ]
  },
  {
   "cell_type": "markdown",
   "id": "6c440683-209a-492b-94d0-2fc18a827fca",
   "metadata": {},
   "source": [
    "Leia a mensagem de erro do código abaixo, identifique o nome do erro e proponha uma solução para que o código rode sem dar erro.\n",
    "\n"
   ]
  },
  {
   "cell_type": "code",
   "execution_count": null,
   "id": "826ad6a7-247f-4958-8cad-66446fdac471",
   "metadata": {},
   "outputs": [],
   "source": [
    "soma = \"4\" + 2"
   ]
  },
  {
   "cell_type": "markdown",
   "id": "984c3513-81a4-4675-b3bf-2897657466c5",
   "metadata": {},
   "source": [
    "### Não estou inteiramente certo&#x2026;\n",
    "\n"
   ]
  },
  {
   "cell_type": "markdown",
   "id": "8ea24214-5d3e-4447-bd79-3191976aed6f",
   "metadata": {},
   "source": [
    "Leia a mensagem de erro do código abaixo, identifique o nome do erro e proponha uma solução para que o código rode sem dar erro.\n",
    "\n"
   ]
  },
  {
   "cell_type": "code",
   "execution_count": null,
   "id": "a70a0f1d-3229-4bf8-a198-8a1b4978c927",
   "metadata": {},
   "outputs": [],
   "source": [
    "valor = int('abc')"
   ]
  },
  {
   "cell_type": "markdown",
   "id": "33de6542-bb36-480b-938a-866cb976146b",
   "metadata": {},
   "source": [
    "### Só faltou definir\n",
    "\n"
   ]
  },
  {
   "cell_type": "markdown",
   "id": "f1ce1d4e-80bb-415e-974a-57b151fd50a4",
   "metadata": {},
   "source": [
    "Leia a mensagem de erro do código abaixo, identifique o nome do erro e proponha uma solução para que o código rode sem dar erro.\n",
    "\n"
   ]
  },
  {
   "cell_type": "code",
   "execution_count": null,
   "id": "7f1dff87-84e0-47d9-8e7a-543ccd8706f8",
   "metadata": {},
   "outputs": [],
   "source": [
    "print(abcdefghij)"
   ]
  },
  {
   "cell_type": "markdown",
   "id": "53e62b29-86a0-4a93-9bcc-20142c37dfce",
   "metadata": {},
   "source": [
    "### Espaço ou tab?\n",
    "\n"
   ]
  },
  {
   "cell_type": "markdown",
   "id": "ade4d2d6-0091-4e20-9fef-84da04902b10",
   "metadata": {},
   "source": [
    "Leia a mensagem de erro do código abaixo, identifique o nome do erro e proponha uma solução para que o código rode sem dar erro.\n",
    "\n"
   ]
  },
  {
   "cell_type": "code",
   "execution_count": null,
   "id": "6509600d-fb37-42fd-a875-68649ded7186",
   "metadata": {},
   "outputs": [],
   "source": [
    "for n in [1, 2, 3]:\n",
    "print(n)"
   ]
  },
  {
   "cell_type": "markdown",
   "id": "18b37683-1cc7-4aec-a33d-01a5356b4a95",
   "metadata": {},
   "source": [
    "## Tratamento de exceções\n",
    "\n"
   ]
  },
  {
   "cell_type": "markdown",
   "id": "831f625f-e6cd-4a20-a20e-816c62f47849",
   "metadata": {},
   "source": [
    "### Blocos try e except\n",
    "\n"
   ]
  },
  {
   "cell_type": "markdown",
   "id": "85092007-ced2-46b6-a3af-a36279f56566",
   "metadata": {},
   "source": [
    "O código abaixo apresenta as instruções `try` e `except`. Rode ele e observe o que acontece. Observe que *try* significa tente e *except* significa exceto em inglês.\n",
    "\n"
   ]
  },
  {
   "cell_type": "code",
   "execution_count": null,
   "id": "af792f43-8376-49c8-9a64-a8994e8d0187",
   "metadata": {},
   "outputs": [],
   "source": [
    "def divisao(x, y):\n",
    "    \"\"\"Divide o primeiro valor pelo segundo.\"\"\"\n",
    "    return x / y\n",
    "\n",
    "\n",
    "try:\n",
    "    print(divisao(100, 10))\n",
    "    print(divisao(100, 2))\n",
    "    print(divisao(100, 0))\n",
    "    print(divisao(100, -1))\n",
    "\n",
    "except ZeroDivisionError:\n",
    "    print(\"Ocorreu uma divisão por zero durante a execução do código!\")\n",
    "\n",
    "print(\"FIM\")"
   ]
  },
  {
   "cell_type": "markdown",
   "id": "8911e999-866e-4b37-8785-c351f06dee8c",
   "metadata": {},
   "source": [
    "É possível criar instruções `try` mais complexas, considerando diferentes tipos de erros.\n",
    "\n"
   ]
  },
  {
   "cell_type": "code",
   "execution_count": null,
   "id": "bb486868-566e-4183-b4aa-63162493d286",
   "metadata": {},
   "outputs": [],
   "source": [
    "try:\n",
    "    print(\"4\" + 2)\n",
    "    print(abcdefghij)\n",
    "    print(1 / 0)\n",
    "    print(int(\"abc\"))\n",
    "\n",
    "except ZeroDivisionError:\n",
    "    print(\"Tente não dividir por zero...\")\n",
    "\n",
    "except ValueError:\n",
    "    print(\"Tem algum valor inválido aí! Tome cuidado!\")\n",
    "\n",
    "except NameError:\n",
    "    print(\"Você tem certeza que definiu todas as suas variáveis?\")\n",
    "\n",
    "except TypeError:\n",
    "    print(\"Existem variáveis com tipos incompatíveis.\")\n",
    "\n",
    "print(\"FIM\")"
   ]
  },
  {
   "cell_type": "markdown",
   "id": "0f00d5c9-003a-4908-817f-6cebf9e66e45",
   "metadata": {},
   "source": [
    "É possível capturar mais de um erro no mesmo bloco `except`.\n",
    "\n"
   ]
  },
  {
   "cell_type": "code",
   "execution_count": null,
   "id": "5220fb4a-eae2-4215-a716-49d0f0d4afba",
   "metadata": {},
   "outputs": [],
   "source": [
    "try:\n",
    "    print(\"Olá\")\n",
    "    print(\"4\" + 2)\n",
    "    print(1 / 0)\n",
    "\n",
    "except (ZeroDivisionError, TypeError):\n",
    "    print(\"Tente não dividir por zero e se atente aos tipos das variáveis!\")\n",
    "\n",
    "print(\"FIM\")"
   ]
  },
  {
   "cell_type": "markdown",
   "id": "e8a979cc-251a-4f0c-b673-9d5c483054b0",
   "metadata": {},
   "source": [
    "### Faça primeiro e peça desculpas depois\n",
    "\n"
   ]
  },
  {
   "cell_type": "markdown",
   "id": "ba29e345-82e1-4f3d-92a1-ea68616c3120",
   "metadata": {},
   "source": [
    "Em Python, é aceitável o paradigma do &ldquo;faça primeiro e peça desculpas depois&rdquo; pois os tratamentos de exceções com os blocos `try` não são computacionalmente custosos. Isso não necessariamente é verdade para outras linguagens de programação, por isso é bom se informar antes.\n",
    "\n"
   ]
  },
  {
   "cell_type": "code",
   "execution_count": null,
   "id": "43c606c8-6044-4c82-9497-0b7acb72babf",
   "metadata": {},
   "outputs": [],
   "source": [
    "pode_ser_uma_lista = 10\n",
    "\n",
    "try:\n",
    "    pode_ser_uma_lista.append(20)\n",
    "\n",
    "except AttributeError:\n",
    "    pode_ser_uma_lista = [pode_ser_uma_lista]\n",
    "    pode_ser_uma_lista.append(20)\n",
    "\n",
    "print(pode_ser_uma_lista)"
   ]
  },
  {
   "cell_type": "markdown",
   "id": "cc627eb3-205e-428a-84e2-7a8a63c14ba2",
   "metadata": {},
   "source": [
    "### Capturando todas as exceções\n",
    "\n"
   ]
  },
  {
   "cell_type": "markdown",
   "id": "b3e90207-97cc-4357-84f0-744f47342305",
   "metadata": {},
   "source": [
    "Se nenhum tipo de erro é declarado no bloco `except` então este bloco passa a ser executado caso **qualquer erro ocorra** durante a execução do bloco `try`! Isso pode parecer conveniente, mas não se deixe enganar: é melhor declarar explicitamente todos os erros que devem ser tratados do que aceitar qualquer erro sem saber qual é. Isto pois existem muitos tipos de erros que podem ocorrer durante a execução do seu código, juntar todos os erros &ldquo;num mesmo saco&rdquo; aumenta muito a chance de seu código não se comportar da forma como você gostaria. Blocos `except` sem declaração do tipo do erro são altamente desencorajados.\n",
    "\n"
   ]
  },
  {
   "cell_type": "markdown",
   "id": "4ed5d41c-95aa-4cfd-86a7-6ae675c6ae39",
   "metadata": {},
   "source": [
    "## Meu programa não faz o que eu queria que ele fizesse, e agora?\n",
    "\n"
   ]
  },
  {
   "cell_type": "markdown",
   "id": "83cdde46-e9b3-44ad-8cb3-a2e1d4526586",
   "metadata": {},
   "source": [
    "Muitas pessoas ficam chateadas quando seu código exibe um erro ao ser executado&#x2026; isso é normal. Mas veja pelo lado positivo: quando um erro é exibido você *sabe* que tem algo de errado e tem a oportunidade de corrigir! Um problema que usualmente é *muito* mais complicado é quando seu código roda sem erros, porém não faz o que você gostaria que ele fizesse&#x2026;\n",
    "\n",
    "Se esse é seu problema, a técnica mais fundamental de todas é checar linha por linha do seu código em busca do problema. Será que você esqueceu um operador em algum lugar? Será o valor de uma variável foi alterado em uma função sem que você tenha percebido? Será que faltou atualizar uma variável Booleana? São tantas possibilidades do que pode dar errado que é impossível listar todas elas aqui. É necessário entender bem o propósito de seu código e entender bem todas linhas de instruções do mesmo para conseguir avaliar onde está o problema. Chamamos de **depuração** ou **debug** a busca por erros (também chamados de *bugs*) no código.\n",
    "\n"
   ]
  },
  {
   "cell_type": "markdown",
   "id": "344dc0cb-bc46-4b46-b2c4-084b7e3e34cf",
   "metadata": {},
   "source": [
    "### Depuração linha por linha\n",
    "\n"
   ]
  },
  {
   "cell_type": "markdown",
   "id": "5c5ed4f0-1768-4685-b8b7-8888a2a06f55",
   "metadata": {},
   "source": [
    "A técnica de **depuração linha por linha** pode ser utilizada sempre, porém a energia gasta nessa tarefa aumenta com o número de linhas de código que devem ser avaliadas. Além disso, essa técnica exige que você tenha todas as informações das variáveis na sua memória e literalmente &ldquo;rode&rdquo; o código na sua mente. Esta é uma habilidade bastante útil que se adquire ao longo do tempo. Uma forma mais &ldquo;visual&rdquo; de usar esta técnica é com a ferramenta online Python Tutor disponível em [https://pythontutor.com/visualize.html#mode=edit](https://pythontutor.com/visualize.html#mode=edit). Teste o Python Tutor com o código abaixo.\n",
    "\n"
   ]
  },
  {
   "cell_type": "code",
   "execution_count": null,
   "id": "e69e442c-22c8-498d-a221-c740e1e9c0b1",
   "metadata": {},
   "outputs": [],
   "source": [
    "def fibonacci(n):\n",
    "\n",
    "    if n == 0:\n",
    "        return []\n",
    "\n",
    "    elif n == 1:\n",
    "        return [0]\n",
    "\n",
    "    elif n == 2:\n",
    "        return [0, 1]\n",
    "\n",
    "    else:\n",
    "        fib = [0, 1]\n",
    "\n",
    "        for i in range(n - 2):\n",
    "            fib.append(fib[-1] + fib[-2])\n",
    "        return fib\n",
    "\n",
    "fibonacci(10)"
   ]
  },
  {
   "cell_type": "markdown",
   "id": "d2ed4673-b3a5-4b3d-9ab8-720354bde89c",
   "metadata": {},
   "source": [
    "### Depuração interativa\n",
    "\n"
   ]
  },
  {
   "cell_type": "markdown",
   "id": "c981f0c6-31b4-48c3-a013-d0d543bbdd90",
   "metadata": {},
   "source": [
    "Uma forma de encontrar erros em muitas linhas de código é a **depuração interativa**. Este tipo de depuração consiste em avaliar o comportamento do seu código durante a sua execução. Para habilitar a depuração iterativa no JupyterLab, clique no botão no formato de inseto no canto superior direito. É necessário que seu código tenha uma instrução `breakpoint` para entrar no modo de depuração iterativa.\n",
    "\n"
   ]
  },
  {
   "cell_type": "code",
   "execution_count": null,
   "id": "70baf221-144f-478f-bfb3-f319b96f9c35",
   "metadata": {},
   "outputs": [],
   "source": [
    "def fatorial(n):\n",
    "\n",
    "    valor = 1\n",
    "\n",
    "    for numero in range(1, n + 1):\n",
    "        breakpoint()\n",
    "        valor = valor * numero\n",
    "\n",
    "    return valor\n",
    "\n",
    "fatorial(10)"
   ]
  },
  {
   "cell_type": "markdown",
   "id": "062a7ffc-1183-4f45-b933-26f553656321",
   "metadata": {},
   "source": [
    "### Depuração com mensagem de registro\n",
    "\n"
   ]
  },
  {
   "cell_type": "markdown",
   "id": "610995e1-b854-4c1f-9bdc-6dd9e849f27a",
   "metadata": {},
   "source": [
    "Outra forma de depuração é a **depuração com mensagens de registro**. Nesta modalidade, incluímos instruções no nosso código cujo objetivo é mostrar alguma informação ao usuário durante a sua execução (que ocorre sem pausas). A estratégia mais simples é incluir instruções `print` ao longo do código para exibir informações críticas ao usuário como, por exemplo, mostrar o valor de uma variável e seu tipo. Apesar de ser bastante utilizada, esta estratégia com a instrução `print` não é recomendada pois ao final da depuração devemos excluir todas as instruções `print` que usamos para depurar o código (afinal, esta informação não é pertinente ao usuário final).\n",
    "\n"
   ]
  },
  {
   "cell_type": "code",
   "execution_count": null,
   "id": "207c8829-51ed-44ce-a8ac-a412cd4c6f64",
   "metadata": {},
   "outputs": [],
   "source": [
    "def checa_primo(n):\n",
    "\n",
    "    for divisor in range(2, n):\n",
    "\n",
    "        print(\"O divisor é\", divisor)\n",
    "\n",
    "        if n % divisor == 0:\n",
    "            return False\n",
    "\n",
    "    return True\n",
    "\n",
    "checa_primo(23)"
   ]
  },
  {
   "cell_type": "markdown",
   "id": "a0c53586-1351-4360-8919-d431905f2fcb",
   "metadata": {},
   "source": [
    "## Controle o erro para ele não controlar você\n",
    "\n"
   ]
  },
  {
   "cell_type": "markdown",
   "id": "8cfca34f-9cfc-487a-ba0f-a6e7fba26d70",
   "metadata": {},
   "source": [
    "### A instrução `raise`\n",
    "\n"
   ]
  },
  {
   "cell_type": "markdown",
   "id": "6d019069-af4b-4f53-b2d0-009aca729672",
   "metadata": {},
   "source": [
    "É possível fazer o Python acusar um erro com a instrução `raise`. A vantagem de *você* programar quando um erro é acusado é que, quando bem usado, isso aumenta seu controle sobre o código que é executado e evita comportamentos que não são desejados. Por exemplo, digamos que você vá escrever uma função que calcula o logaritmo natural de um número real usando uma série de Taylor. A série de Taylor abaixo funciona para valores de $x$ que satisfaçam $0 < x \\leq 2$. Neste caso não podemos permitir que o usuário use valores que não satisfaçam essa inequação. Veja como podemos implementar isso no exemplo abaixo.\n",
    "\n",
    "$$ \\ln(x) = \\sum_{k=1}^{\\infty} (-1)^{k+1} \\frac{(x-1)^k}{k} $$\n",
    "\n"
   ]
  },
  {
   "cell_type": "code",
   "execution_count": null,
   "id": "e23c5204-9e56-4745-b0d7-1da62a1e6a16",
   "metadata": {},
   "outputs": [],
   "source": [
    "def log_natural(x, num_elementos=10000):\n",
    "    \"\"\"Calcula o logaritmo natural do valor recebido.\n",
    "\n",
    "    Args:\n",
    "      x:\n",
    "        Valor real maior que zero e menor ou igual a dois.\n",
    "      num_elementos:\n",
    "        Número de elementos a serem considerados na soma infinita da série de\n",
    "        Taylor.\n",
    "\n",
    "    Returns:\n",
    "      Logaritmo natural de `x`.\n",
    "\n",
    "    Raises:\n",
    "      ValueError: ocorre caso o valor de x não satisfaça a inequação 0 < x <= 2.\n",
    "    \"\"\"\n",
    "\n",
    "    if not (0 < x <= 2):\n",
    "        raise ValueError(\"O valor de x deve ser maior que 0 e menor ou igual a 2.\")\n",
    "\n",
    "    soma = 0\n",
    "    for k in range(1, num_elementos + 1):\n",
    "        soma = soma + (-1) ** (k + 1) * (x - 1) ** k / k\n",
    "\n",
    "    return soma\n",
    "\n",
    "\n",
    "print(log_natural(1))\n",
    "print(log_natural(2))\n",
    "print(log_natural(10))\n",
    "print(log_natural(-3))"
   ]
  },
  {
   "cell_type": "markdown",
   "id": "4bcf1cc2-8fb0-4fb2-ae69-c9e1b52f8290",
   "metadata": {},
   "source": [
    "No código acima temos a instrução `raise` responsável por acusar o erro. Ela só é executada caso o valor de $x$ esteja fora do intervalo esperado. Como o erro neste caso tem a ver com o *valor* de uma variável, o erro que deve ser acusado pelo `raise` é o `ValueError`. Observe que podemos escrever uma mensagem personalizada para ajudar o usuário a corrigir o problema caso encontre esse erro durante seu uso do código.\n",
    "\n"
   ]
  },
  {
   "cell_type": "markdown",
   "id": "eeec3502-15c3-4c43-bbe9-29cdf34ce636",
   "metadata": {},
   "source": [
    "### A instrução `assert`\n",
    "\n"
   ]
  },
  {
   "cell_type": "markdown",
   "id": "013a8eb8-1b02-4a2a-86f8-0bf4d10bfa6c",
   "metadata": {},
   "source": [
    "Checar uma condição e acusar um erro caso esta condição seja falsa é uma estrutura bastante comum no início do corpo de funções. Afinal, assim que o corpo da função inicia sua execução nós temos acesso a todos os argumentos e já podemos checar se eles têm valores dentro do esperado. A instrução `assert` facilita esse tipo de checagem. Veja no exemplo abaixo o uso da instrução `assert` para realizar a mesma tarefa do exemplo anterior.\n",
    "\n"
   ]
  },
  {
   "cell_type": "code",
   "execution_count": null,
   "id": "ff58b63e-0523-462e-980a-e6f8d1d532e3",
   "metadata": {},
   "outputs": [],
   "source": [
    "def log_natural(x, num_elementos=10000):\n",
    "    \"\"\"Calcula o logaritmo natural do valor recebido.\n",
    "\n",
    "    Args:\n",
    "      x:\n",
    "        Valor real maior que zero e menor ou igual a dois.\n",
    "      num_elementos:\n",
    "        Número de elementos a serem considerados na soma infinita da série de\n",
    "        Taylor.\n",
    "\n",
    "    Returns:\n",
    "      Logarítmo natural de `x`.\n",
    "\n",
    "    Raises:\n",
    "      AssertionError: ocorre caso o valor de x não satisfaça a inequação 0 < x <= 2.\n",
    "    \"\"\"\n",
    "\n",
    "    assert 0 < x <= 2, \"O valor de x deve ser maior que 0 e menor ou igual a 2.\"\n",
    "\n",
    "    soma = 0\n",
    "    for k in range(1, num_elementos + 1):\n",
    "        soma = soma + (-1) ** (k + 1) * (x - 1) ** k / k\n",
    "\n",
    "    return soma\n",
    "\n",
    "\n",
    "print(log_natural(1))\n",
    "print(log_natural(2))\n",
    "print(log_natural(10))\n",
    "print(log_natural(-3))"
   ]
  },
  {
   "cell_type": "markdown",
   "id": "63caaf55-b843-4359-b5d6-4729c2f8b594",
   "metadata": {},
   "source": [
    "A sintaxe da instrução `assert` requer uma condição a ser checada logo após a instrução. Caso a condição retorne `False` o código é interrompido e acusa um `AssertionError`. Caso queira exibir uma mensagem ao usuário para ajudá-lo a entender o que ocorre, escreva uma string e coloque ela após uma vírgula. A mensagem não é obrigatória mas altamente recomendada.\n",
    "\n",
    "Uma forma mais fácil de entender a instrução `assert` é lendo ela como &ldquo;assegure-se que&rdquo;. No código acima podemos ler como &ldquo;assegure-se que o valor de `x` é maior que zero e menor ou igual a dois, do contrário, exiba uma mensagem de erro ao usuário alertando ele que esse é um requerimento necessário para executar a função&rdquo;.\n",
    "\n"
   ]
  },
  {
   "cell_type": "markdown",
   "id": "644e2c1f-4f49-4df2-b88b-d8ceef6b5876",
   "metadata": {},
   "source": [
    "## XKCD relevante\n",
    "\n"
   ]
  },
  {
   "cell_type": "markdown",
   "id": "5fdcd010-3e1b-4553-9cbf-10286a6193cc",
   "metadata": {},
   "source": [
    "![img](https://imgs.xkcd.com/comics/debugging.png)\n",
    "\n",
    "`Imagem: Debugging (XKCD) disponível em https://xkcd.com/1722`\n",
    "\n"
   ]
  }
 ],
 "metadata": {
  "kernelspec": {
   "display_name": "ilumpy",
   "language": "python",
   "name": "ilumpy"
  },
  "language_info": {
   "codemirror_mode": {
    "name": "ipython",
    "version": 3
   },
   "file_extension": ".py",
   "mimetype": "text/x-python",
   "name": "python",
   "nbconvert_exporter": "python",
   "pygments_lexer": "ipython3",
   "version": "3.12.7"
  },
  "org": null
 },
 "nbformat": 4,
 "nbformat_minor": 5
}
