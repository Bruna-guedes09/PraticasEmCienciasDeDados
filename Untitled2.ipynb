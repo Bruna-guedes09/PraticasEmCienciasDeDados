{
 "cells": [
  {
   "cell_type": "code",
   "execution_count": 4,
   "id": "80228f7c-ea94-4e4d-a7ab-109a5631e941",
   "metadata": {},
   "outputs": [
    {
     "name": "stdin",
     "output_type": "stream",
     "text": [
      "Qual é o seu nome? Joana\n"
     ]
    }
   ],
   "source": [
    "nome = input(\"Qual é o seu nome?\")"
   ]
  },
  {
   "cell_type": "code",
   "execution_count": 5,
   "id": "913b9768-0301-4e58-81ae-014222494684",
   "metadata": {},
   "outputs": [
    {
     "name": "stdin",
     "output_type": "stream",
     "text": [
      "Qual é a sua idade? 34\n"
     ]
    }
   ],
   "source": [
    "idade = input (\"Qual é a sua idade?\")"
   ]
  },
  {
   "cell_type": "code",
   "execution_count": 7,
   "id": "12f0b61b-98d3-440d-8a48-b2a63dccaa68",
   "metadata": {},
   "outputs": [
    {
     "name": "stdin",
     "output_type": "stream",
     "text": [
      "Qual é a sua profissão? Professora\n"
     ]
    }
   ],
   "source": [
    "profissao = input (\"Qual é a sua profissão?\")"
   ]
  },
  {
   "cell_type": "code",
   "execution_count": 8,
   "id": "d1dc7b87-1ff3-43d2-8e96-a8ced64668d8",
   "metadata": {},
   "outputs": [
    {
     "name": "stdout",
     "output_type": "stream",
     "text": [
      "Nome: Joana\n"
     ]
    }
   ],
   "source": [
    "print (\"Nome:\", nome)"
   ]
  },
  {
   "cell_type": "code",
   "execution_count": 9,
   "id": "0e42d3d7-7d89-4673-906c-5220b799635f",
   "metadata": {},
   "outputs": [
    {
     "name": "stdout",
     "output_type": "stream",
     "text": [
      "Idade: 34\n"
     ]
    }
   ],
   "source": [
    "print (\"Idade:\", idade)"
   ]
  },
  {
   "cell_type": "code",
   "execution_count": 10,
   "id": "42e87ecf-200d-4de2-a69a-37429df75302",
   "metadata": {},
   "outputs": [
    {
     "name": "stdout",
     "output_type": "stream",
     "text": [
      "Profissão:  Professora\n"
     ]
    }
   ],
   "source": [
    "print (\"Profissão: \", profissao)"
   ]
  },
  {
   "cell_type": "code",
   "execution_count": 11,
   "id": "3705680a-5c8d-414c-bbaf-f49db04e7c33",
   "metadata": {},
   "outputs": [
    {
     "name": "stdin",
     "output_type": "stream",
     "text": [
      "Título do livro: Code Girls\n"
     ]
    }
   ],
   "source": [
    "titulo = input(\"Título do livro:\")"
   ]
  },
  {
   "cell_type": "code",
   "execution_count": 12,
   "id": "c9402058-77c3-45a6-a02b-158ad909a1ff",
   "metadata": {},
   "outputs": [
    {
     "name": "stdin",
     "output_type": "stream",
     "text": [
      "Autor do livro: LizaMundy\n"
     ]
    }
   ],
   "source": [
    "autor = input (\"Autor do livro:\")"
   ]
  },
  {
   "cell_type": "code",
   "execution_count": 14,
   "id": "65e06c28-d893-43fc-a0eb-f6c7c8bfeebc",
   "metadata": {},
   "outputs": [
    {
     "name": "stdout",
     "output_type": "stream",
     "text": [
      "Título: Code Girls\n"
     ]
    }
   ],
   "source": [
    "print (\"Título:\", titulo)"
   ]
  },
  {
   "cell_type": "code",
   "execution_count": 15,
   "id": "909c802b-02c0-4972-9562-d9112ebbc2e2",
   "metadata": {},
   "outputs": [
    {
     "name": "stdout",
     "output_type": "stream",
     "text": [
      "Autor: LizaMundy\n"
     ]
    }
   ],
   "source": [
    "print (\"Autor:\", autor)"
   ]
  },
  {
   "cell_type": "code",
   "execution_count": 17,
   "id": "aa71ba80-6dd6-427f-82a2-6adf40166f8a",
   "metadata": {},
   "outputs": [
    {
     "name": "stdin",
     "output_type": "stream",
     "text": [
      "Nacionalidade? Brasil\n"
     ]
    }
   ],
   "source": [
    "nacionalidade = input (\"Nacionalidade?\")"
   ]
  },
  {
   "cell_type": "code",
   "execution_count": 18,
   "id": "d384e32d-481b-4db2-9e89-4e6eb7e4800e",
   "metadata": {},
   "outputs": [
    {
     "name": "stdin",
     "output_type": "stream",
     "text": [
      "Onde reside? Estados Unidos\n"
     ]
    }
   ],
   "source": [
    "reside = input (\"Onde reside?\")"
   ]
  },
  {
   "cell_type": "code",
   "execution_count": 20,
   "id": "74367bb9-13aa-45ec-8f09-de43a175c3de",
   "metadata": {},
   "outputs": [
    {
     "name": "stdout",
     "output_type": "stream",
     "text": [
      "Nacionalidade: Brasil\n"
     ]
    }
   ],
   "source": [
    "print (\"Nacionalidade:\", nacionalidade)"
   ]
  },
  {
   "cell_type": "code",
   "execution_count": 21,
   "id": "b08789a1-fd18-4931-911f-940a99772621",
   "metadata": {},
   "outputs": [
    {
     "name": "stdout",
     "output_type": "stream",
     "text": [
      "Reside em: Estados Unidos\n"
     ]
    }
   ],
   "source": [
    "print (\"Reside em:\", reside)"
   ]
  },
  {
   "cell_type": "code",
   "execution_count": 22,
   "id": "049b4421-e396-440a-84f5-0d3661fa1d2c",
   "metadata": {},
   "outputs": [
    {
     "name": "stdout",
     "output_type": "stream",
     "text": [
      "Seja bem-vindo!\n"
     ]
    }
   ],
   "source": [
    "print (\"Seja bem-vindo!\")"
   ]
  },
  {
   "cell_type": "code",
   "execution_count": 23,
   "id": "e061d6cc-538a-4221-93e6-8ed81a9ba6d8",
   "metadata": {},
   "outputs": [
    {
     "name": "stdin",
     "output_type": "stream",
     "text": [
      "Música favorita? Música 1\n"
     ]
    }
   ],
   "source": [
    "musica_fav = input (\"Música favorita?\") "
   ]
  },
  {
   "cell_type": "code",
   "execution_count": 24,
   "id": "e3817889-21aa-4d38-8fa2-ac3b22a9a995",
   "metadata": {},
   "outputs": [
    {
     "name": "stdin",
     "output_type": "stream",
     "text": [
      "Cantor favorito? Cantor 1\n"
     ]
    }
   ],
   "source": [
    "cantor_fav = input (\"Cantor favorito?\")"
   ]
  },
  {
   "cell_type": "code",
   "execution_count": 25,
   "id": "1bd04914-94dc-4673-8095-71c478922e1c",
   "metadata": {},
   "outputs": [
    {
     "name": "stdout",
     "output_type": "stream",
     "text": [
      "Música favorita: Música 1    Cantor favorito: Cantor 1\n"
     ]
    }
   ],
   "source": [
    "print (\"Música favorita:\", musica_fav, \"   Cantor favorito:\", cantor_fav)"
   ]
  },
  {
   "cell_type": "code",
   "execution_count": 26,
   "id": "04eff5fd-6808-4236-8f9e-33068c1f29c9",
   "metadata": {},
   "outputs": [
    {
     "name": "stdout",
     "output_type": "stream",
     "text": [
      "Ótimas escolhas!\n"
     ]
    }
   ],
   "source": [
    "print (\"Ótimas escolhas!\")"
   ]
  },
  {
   "cell_type": "code",
   "execution_count": 27,
   "id": "542365b8-eaed-4d85-a6cc-5b71e7292feb",
   "metadata": {},
   "outputs": [
    {
     "name": "stdout",
     "output_type": "stream",
     "text": [
      "Se você gosta deste tipo de música/cantor, sugiro que ouça...\n"
     ]
    }
   ],
   "source": [
    "print (\"Se você gosta deste tipo de música/cantor, sugiro que ouça...\")"
   ]
  },
  {
   "cell_type": "code",
   "execution_count": null,
   "id": "d06a09bd-3042-4f38-a760-a1d887727de2",
   "metadata": {},
   "outputs": [],
   "source": []
  }
 ],
 "metadata": {
  "kernelspec": {
   "display_name": "Python 3 (ipykernel)",
   "language": "python",
   "name": "python3"
  },
  "language_info": {
   "codemirror_mode": {
    "name": "ipython",
    "version": 3
   },
   "file_extension": ".py",
   "mimetype": "text/x-python",
   "name": "python",
   "nbconvert_exporter": "python",
   "pygments_lexer": "ipython3",
   "version": "3.12.7"
  }
 },
 "nbformat": 4,
 "nbformat_minor": 5
}
