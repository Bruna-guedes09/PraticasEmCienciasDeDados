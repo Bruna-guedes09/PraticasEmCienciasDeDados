{
 "cells": [
  {
   "cell_type": "markdown",
   "id": "3859f2d4",
   "metadata": {},
   "source": [
    "# Exercícios de Python: Variáveis e Operadores (Virologia)\n",
    "Este notebook contém exercícios sobre variáveis e operadores em Python, com aplicações voltadas para virologia. Cada exercício é seguido por sua respectiva solução."
   ]
  },
  {
   "cell_type": "markdown",
   "id": "72fff384",
   "metadata": {},
   "source": [
    "## 1. Cálculo da Carga Viral\n",
    "A carga viral é medida como o número de cópias de um vírus por mL de amostra. Se um paciente tem **500.000** cópias/mL e recebe um tratamento que reduz a carga viral em **40%**, qual será a nova carga viral?"
   ]
  },
  {
   "cell_type": "code",
   "execution_count": 3,
   "id": "bc83e6d1",
   "metadata": {},
   "outputs": [
    {
     "name": "stdout",
     "output_type": "stream",
     "text": [
      "nova carga: 300000.0\n"
     ]
    }
   ],
   "source": [
    "copias = 500000\n",
    "nova_carga = copias*0.6\n",
    "print (\"nova carga:\", nova_carga)"
   ]
  },
  {
   "cell_type": "markdown",
   "id": "96b36d42",
   "metadata": {},
   "source": [
    "## 2. Tempo de Infecção\n",
    "Uma célula infectada por um vírus se multiplica a cada **3 horas**. Se uma infecção começa com **1** célula infectada, quantas células infectadas existirão após **12 horas**?"
   ]
  },
  {
   "cell_type": "code",
   "execution_count": 6,
   "id": "c154ed46",
   "metadata": {},
   "outputs": [
    {
     "name": "stdout",
     "output_type": "stream",
     "text": [
      "Quantidade células infectadas no final: 16.0\n"
     ]
    }
   ],
   "source": [
    "qtd_cel_ini = 1\n",
    "num_multiplicacoes = 12/3\n",
    "qtd_cel_fim = qtd_cel_ini*2**num_multiplicacoes\n",
    "print (\"Quantidade células infectadas no final:\", qtd_cel_fim)"
   ]
  },
  {
   "cell_type": "markdown",
   "id": "145b124d",
   "metadata": {},
   "source": [
    "## 3. Cálculo de Taxa de Mutação\n",
    "Uma cepa viral sofre mutações a uma taxa de **2.5 mutações por 10.000 nucleotídeos**. Se o genoma do vírus tem **30.000 nucleotídeos**, quantas mutações são esperadas após uma replicação?"
   ]
  },
  {
   "cell_type": "code",
   "execution_count": null,
   "id": "a56399fb",
   "metadata": {},
   "outputs": [],
   "source": [
    "num_mutacoes = 2.5 * 3\n",
    "print (\"Numero de mutacoes:\", num_mutacoes)"
   ]
  },
  {
   "cell_type": "markdown",
   "id": "ccdcd3ab",
   "metadata": {},
   "source": [
    "## 4. Conversão de Tempo de Vida do Vírus\n",
    "O tempo médio de vida de uma partícula viral no sangue é **7 horas**. Quantos segundos isso equivale?"
   ]
  },
  {
   "cell_type": "code",
   "execution_count": 7,
   "id": "a2f9f515",
   "metadata": {},
   "outputs": [
    {
     "name": "stdout",
     "output_type": "stream",
     "text": [
      "Segundos: 25200\n"
     ]
    }
   ],
   "source": [
    "segundos_por_hora = 3600\n",
    "segundos_total = 3600*7\n",
    "print (\"Segundos:\", segundos_total)"
   ]
  },
  {
   "cell_type": "markdown",
   "id": "4fe1b9cb",
   "metadata": {},
   "source": [
    "## 5. Proporção de Vírus Infectantes\n",
    "Uma amostra de laboratório contém **1.200.000** partículas virais, mas apenas **30%** são capazes de infectar células. Quantas partículas virais infectantes existem na amostra?"
   ]
  },
  {
   "cell_type": "code",
   "execution_count": 8,
   "id": "4865d228",
   "metadata": {},
   "outputs": [
    {
     "name": "stdout",
     "output_type": "stream",
     "text": [
      "Partículas virais infectantes: 360000.0\n"
     ]
    }
   ],
   "source": [
    "particulas_infec = 1200000 * 0.30\n",
    "print (\"Partículas virais infectantes:\", particulas_infec) "
   ]
  },
  {
   "cell_type": "markdown",
   "id": "aa457fad",
   "metadata": {},
   "source": [
    "## 7. Média de Tempo de Replicação\n",
    "Três variantes de um vírus têm tempos médios de replicação: **4.5, 5.2 e 3.8 horas**. Calcule o tempo médio de replicação entre as três variantes."
   ]
  },
  {
   "cell_type": "code",
   "execution_count": 9,
   "id": "55c182e6",
   "metadata": {},
   "outputs": [
    {
     "name": "stdout",
     "output_type": "stream",
     "text": [
      "Tempo médio 4.5  horas\n"
     ]
    }
   ],
   "source": [
    "temp_medio = (4.5 + 5.2 + 3.8)/3\n",
    "print (\"Tempo médio\",temp_medio,\" horas\")"
   ]
  },
  {
   "cell_type": "markdown",
   "id": "d67729c1",
   "metadata": {},
   "source": [
    "## 8. Verificação de Limite de Segurança\n",
    "Um laboratório só pode manipular amostras virais com menos de **100.000** cópias/mL. Se uma amostra contém **95.000** cópias/mL, ela pode ser manipulada?"
   ]
  },
  {
   "cell_type": "code",
   "execution_count": 16,
   "id": "c6c520f1",
   "metadata": {},
   "outputs": [
    {
     "name": "stdout",
     "output_type": "stream",
     "text": [
      "não\n"
     ]
    }
   ],
   "source": [
    "num_copias_amostra = 95000\n",
    "if num_copias_amostra < 100000 : print (\"sim\")\n",
    "else : print (\"não\")"
   ]
  },
  {
   "cell_type": "markdown",
   "id": "8866404a",
   "metadata": {},
   "source": [
    "## 9. Ajuste de pH para Cultura Celular\n",
    "Uma cultura celular usada para testar um novo antiviral precisa ter um pH entre **7.2 e 7.6**. Dado um pH de **7.1**, a cultura está dentro do intervalo adequado?"
   ]
  },
  {
   "cell_type": "code",
   "execution_count": 20,
   "id": "c4382662",
   "metadata": {},
   "outputs": [
    {
     "name": "stdout",
     "output_type": "stream",
     "text": [
      "Cultura em PH inadequado\n"
     ]
    }
   ],
   "source": [
    "ph= 7.1\n",
    "if 7.2<ph<7.6: print (\"Cultura em PH adequado\") \n",
    "else: print (\"Cultura em PH inadequado\")"
   ]
  },
  {
   "cell_type": "code",
   "execution_count": null,
   "id": "bf1d1cf5-d467-4b0b-9db3-80f97293b8dd",
   "metadata": {},
   "outputs": [],
   "source": []
  }
 ],
 "metadata": {
  "kernelspec": {
   "display_name": "Python 3 (ipykernel)",
   "language": "python",
   "name": "python3"
  },
  "language_info": {
   "codemirror_mode": {
    "name": "ipython",
    "version": 3
   },
   "file_extension": ".py",
   "mimetype": "text/x-python",
   "name": "python",
   "nbconvert_exporter": "python",
   "pygments_lexer": "ipython3",
   "version": "3.12.7"
  }
 },
 "nbformat": 4,
 "nbformat_minor": 5
}
