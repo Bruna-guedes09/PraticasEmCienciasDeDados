{
 "cells": [
  {
   "cell_type": "markdown",
   "id": "41e0470f-9adf-49d2-9ab8-09f7ff96324a",
   "metadata": {},
   "source": [
    "Laço de repetição\n",
    "=================\n",
    "\n",
    "**Autor:** Daniel R. Cassar\n",
    "\n"
   ]
  },
  {
   "cell_type": "markdown",
   "id": "e7f2c713-5fd6-4efe-85ab-3a001a4f7723",
   "metadata": {
    "jp-MarkdownHeadingCollapsed": true
   },
   "source": [
    "## Introdução\n",
    "\n"
   ]
  },
  {
   "cell_type": "markdown",
   "id": "5f791908-c5fb-4758-ba8e-a134f5e9d098",
   "metadata": {},
   "source": [
    "Laços de repetição (também conhecidos como *loops*) servem para executar um bloco de código mais de uma vez.\n",
    "\n",
    "Existem dois tipos de laços de repetição em Python:\n",
    "\n",
    "-   O laço `while` que representa o **enquanto** em português,\n",
    "-   E o laço `for` que representa o **para** em português.\n",
    "\n"
   ]
  },
  {
   "cell_type": "markdown",
   "id": "e1719f0e-c69a-4ac4-8cfc-9d420d8acd51",
   "metadata": {},
   "source": [
    "## Laço de repetição `for`\n",
    "\n"
   ]
  },
  {
   "cell_type": "markdown",
   "id": "c52c4b08-3ae3-4003-8983-a9d65ea7be80",
   "metadata": {},
   "source": [
    "### Usando `for` com listas e tuplas\n",
    "\n"
   ]
  },
  {
   "cell_type": "code",
   "execution_count": 1,
   "id": "74780fe4-c320-460d-a9ee-c26a5063bbc5",
   "metadata": {},
   "outputs": [
    {
     "name": "stdout",
     "output_type": "stream",
     "text": [
      "1\n",
      "3\n",
      "4\n",
      "9\n"
     ]
    }
   ],
   "source": [
    "minha_lista = [1, 3, 4, 9]\n",
    "\n",
    "for n in minha_lista:\n",
    "    print(n)"
   ]
  },
  {
   "cell_type": "markdown",
   "id": "12be6dea-91fc-413b-8c0d-b88c110cafda",
   "metadata": {},
   "source": [
    "A mesma estrutura funciona para tuplas também.\n",
    "\n"
   ]
  },
  {
   "cell_type": "code",
   "execution_count": 2,
   "id": "e118e6dc-483c-4554-8fcb-2c579d810ec8",
   "metadata": {},
   "outputs": [
    {
     "name": "stdout",
     "output_type": "stream",
     "text": [
      "0\n",
      "-2\n",
      "4\n",
      "7\n"
     ]
    }
   ],
   "source": [
    "minha_tupla = (0, -2, 4, 7)\n",
    "\n",
    "for n in minha_tupla:\n",
    "    print(n)"
   ]
  },
  {
   "cell_type": "markdown",
   "id": "2c55e0d7-b8f4-4109-aed0-8aaa9e4d9c5f",
   "metadata": {},
   "source": [
    "### Usando `for` com dicionários\n",
    "\n"
   ]
  },
  {
   "cell_type": "code",
   "execution_count": null,
   "id": "b2c5c819-6829-4209-aee6-c9d35510cea0",
   "metadata": {},
   "outputs": [],
   "source": [
    "estados_capitais = {\n",
    "    \"AC\": \"Rio Branco\",\n",
    "    \"AL\": \"Maceió\",\n",
    "    \"AP\": \"Macapá\",\n",
    "    \"AM\": \"Manaus\",\n",
    "    \"BA\": \"Salvador\",\n",
    "    \"CE\": \"Fortaleza\",\n",
    "    \"DF\": \"Brasília\",\n",
    "    \"ES\": \"Vitória\",\n",
    "    \"GO\": \"Goiânia\",\n",
    "    \"MA\": \"São Luís\",\n",
    "    \"MT\": \"Cuiabá\",\n",
    "    \"MS\": \"Campo Grande\",\n",
    "    \"MG\": \"Belo Horizonte\",\n",
    "    \"PA\": \"Belém\",\n",
    "    \"PB\": \"João Pessoa\",\n",
    "    \"PR\": \"Curitiba\",\n",
    "    \"PE\": \"Recife\",\n",
    "    \"PI\": \"Teresina\",\n",
    "    \"RJ\": \"Rio de Janeiro\",\n",
    "    \"RN\": \"Natal\",\n",
    "    \"RS\": \"Porto Alegre\",\n",
    "    \"RO\": \"Porto Velho\",\n",
    "    \"RR\": \"Boa Vista\",\n",
    "    \"SC\": \"Florianópolis\",\n",
    "    \"SP\": \"São Paulo\",\n",
    "    \"SE\": \"Aracaju\",\n",
    "    \"TO\": \"Palmas\",\n",
    "}"
   ]
  },
  {
   "cell_type": "markdown",
   "id": "5bf6bf73-80eb-4077-a757-4202aff84157",
   "metadata": {},
   "source": [
    "O laço `for` navega nas chaves por padrão.\n",
    "\n"
   ]
  },
  {
   "cell_type": "code",
   "execution_count": null,
   "id": "e29dcbc1-6c0a-49fd-8a9c-9f8ebb2c28f7",
   "metadata": {},
   "outputs": [],
   "source": [
    "for chave in estados_capitais:\n",
    "    print(chave)"
   ]
  },
  {
   "cell_type": "markdown",
   "id": "5514b18a-21ae-4e04-89fc-6a8671906bfa",
   "metadata": {},
   "source": [
    "Para navegar nos valores, use o método `values`.\n",
    "\n"
   ]
  },
  {
   "cell_type": "code",
   "execution_count": null,
   "id": "cc0917a7-5343-400a-877a-27e0ce533eb9",
   "metadata": {},
   "outputs": [],
   "source": [
    "for valor in estados_capitais.values():\n",
    "    print(valor)"
   ]
  },
  {
   "cell_type": "markdown",
   "id": "30586a7b-4030-42ff-97cf-896d451aed2a",
   "metadata": {},
   "source": [
    "Para navegar nas chaves e valores, use o método `items`.\n",
    "\n"
   ]
  },
  {
   "cell_type": "code",
   "execution_count": null,
   "id": "e22e90d2-658b-4a68-a217-1456a20946bb",
   "metadata": {},
   "outputs": [],
   "source": [
    "for sigla, capital in estados_capitais.items():\n",
    "    print(f\"A capital de {sigla} é {capital}.\")"
   ]
  },
  {
   "cell_type": "markdown",
   "id": "88bcce14-1300-4816-83b5-3365583a77b8",
   "metadata": {},
   "source": [
    "### Usando `for` com strings\n",
    "\n"
   ]
  },
  {
   "cell_type": "code",
   "execution_count": 7,
   "id": "8366a084-48a1-4362-b618-29d42226957a",
   "metadata": {},
   "outputs": [
    {
     "name": "stdout",
     "output_type": "stream",
     "text": [
      "A\n",
      "b\n",
      "s\n",
      "o\n",
      "l\n",
      "u\n",
      "t\n",
      "e\n",
      " \n",
      "c\n",
      "i\n",
      "n\n",
      "e\n",
      "m\n",
      "a\n",
      "!\n"
     ]
    }
   ],
   "source": [
    "minha_string = \"Absolute cinema!\"\n",
    "\n",
    "for letra in minha_string:\n",
    "    print(letra)"
   ]
  },
  {
   "cell_type": "markdown",
   "id": "34a19a5e-a688-46fc-8487-3d1f5ff3f8ff",
   "metadata": {},
   "source": [
    "## Criando sequências com `range`\n",
    "\n"
   ]
  },
  {
   "cell_type": "markdown",
   "id": "3adac09e-39bd-451a-a2a6-d5490034170c",
   "metadata": {},
   "source": [
    "### Usando `range` com um argumento\n",
    "\n"
   ]
  },
  {
   "cell_type": "code",
   "execution_count": 2,
   "id": "b2b9259b-509e-4a1f-aa8d-1e8d9cb13afa",
   "metadata": {},
   "outputs": [
    {
     "name": "stdout",
     "output_type": "stream",
     "text": [
      "0\n",
      "1\n",
      "2\n",
      "3\n",
      "4\n",
      "5\n",
      "6\n",
      "7\n",
      "8\n",
      "9\n"
     ]
    }
   ],
   "source": [
    "for n in range(10):\n",
    "    print(n)"
   ]
  },
  {
   "cell_type": "markdown",
   "id": "bf5c4805-b56c-48da-bcd1-3c70b55165a1",
   "metadata": {},
   "source": [
    "### Usando `range` com dois argumentos\n",
    "\n"
   ]
  },
  {
   "cell_type": "code",
   "execution_count": 4,
   "id": "d086b91e-b52c-4c25-91b4-7fe2e325675e",
   "metadata": {},
   "outputs": [
    {
     "name": "stdout",
     "output_type": "stream",
     "text": [
      "3\n",
      "4\n",
      "5\n",
      "6\n",
      "7\n",
      "8\n",
      "9\n"
     ]
    }
   ],
   "source": [
    "for n in range(3, 10):\n",
    "    print(n)"
   ]
  },
  {
   "cell_type": "markdown",
   "id": "9a12905a-e94e-4259-9eef-bc2ede6adb18",
   "metadata": {},
   "source": [
    "### Usando `range` com três argumentos\n",
    "\n"
   ]
  },
  {
   "cell_type": "code",
   "execution_count": 3,
   "id": "97a63b9a-872a-4f69-998f-68b3ef6f7dbb",
   "metadata": {},
   "outputs": [
    {
     "name": "stdout",
     "output_type": "stream",
     "text": [
      "3\n",
      "5\n",
      "7\n",
      "9\n"
     ]
    }
   ],
   "source": [
    "for n in range(3, 10, 2):\n",
    "    print(n)"
   ]
  },
  {
   "cell_type": "markdown",
   "id": "fb9ac2ae-d786-4f18-8622-f4b3d2612634",
   "metadata": {},
   "source": [
    "## Exercícios\n",
    "\n"
   ]
  },
  {
   "cell_type": "markdown",
   "id": "07dd7c37-b6e7-4667-8229-8e6a4bd2c888",
   "metadata": {},
   "source": [
    "### Qual o seu tipo?\n",
    "\n"
   ]
  },
  {
   "cell_type": "markdown",
   "id": "2619bb9e-c80b-4aa0-8e6c-6762fddb5348",
   "metadata": {},
   "source": [
    "Faça uma função que recebe uma lista e exibe para o usuário o tipo dos elementos desta lista usando `print`. Esta função não tem nenhum retorno.\n",
    "\n"
   ]
  },
  {
   "cell_type": "code",
   "execution_count": 2,
   "id": "51e1ead7-a759-4a49-87ff-316a8a23b038",
   "metadata": {},
   "outputs": [
    {
     "name": "stdout",
     "output_type": "stream",
     "text": [
      "83647: <class 'str'>\n",
      "oiii: <class 'str'>\n",
      "123: <class 'int'>\n",
      "899.99: <class 'float'>\n",
      "g: <class 'str'>\n",
      "['o', 9, 10]: <class 'list'>\n"
     ]
    }
   ],
   "source": [
    "def tipo_elemento_lista (lista):\n",
    "    for n in lista:\n",
    "        print(f\"{n}: {type(n)}\")\n",
    "lista_elementos = (\"83647\", \"oiii\", 123, 899.99, 'g', [\"o\", 9, 10])\n",
    "tipo_elemento_lista (lista_elementos)"
   ]
  },
  {
   "cell_type": "markdown",
   "id": "63e0399e-0d2b-41cf-9d48-947cc30536ab",
   "metadata": {},
   "source": [
    "### Tudo junto ao mesmo tempo\n",
    "\n"
   ]
  },
  {
   "cell_type": "markdown",
   "id": "176f5f23-3e2e-452f-b5fc-39b196290fa5",
   "metadata": {},
   "source": [
    "Faça uma função que recebe uma lista de strings e retorna uma string que é a concatenação de todas as strings da lista.\n",
    "\n",
    "**Observação**: concatenar strings significa juntar elas, por exemplo: &ldquo;olá&rdquo; concatenado com &ldquo;tchau&rdquo; fica &ldquo;olátchau&rdquo;.\n",
    "\n"
   ]
  },
  {
   "cell_type": "code",
   "execution_count": 4,
   "id": "e3f44da4-9df0-4bfc-8439-68f24c2154aa",
   "metadata": {},
   "outputs": [
    {
     "data": {
      "text/plain": [
       "'ab 6'"
      ]
     },
     "execution_count": 4,
     "metadata": {},
     "output_type": "execute_result"
    }
   ],
   "source": [
    "def concatena_string (lista):\n",
    "    soma = \"\"\n",
    "    for elemento in lista:\n",
    "        soma = soma + elemento \n",
    "    return soma\n",
    "\n",
    "    #return \" \".join(lista)\n",
    "\n",
    "lista_string = [\"a\", \"b\", \" \", \"6\"]\n",
    "concatena_string(lista_string)"
   ]
  },
  {
   "cell_type": "markdown",
   "id": "30afe8af-43b5-4d77-8ee6-ba0c23b1e4a7",
   "metadata": {},
   "source": [
    "### A primeira letra é igual?\n",
    "\n"
   ]
  },
  {
   "cell_type": "markdown",
   "id": "3ad29184-9e1c-454c-98e3-847276a76d1c",
   "metadata": {},
   "source": [
    "Faça uma função que recebe um dicionário onde as chaves e valores são strings. Esta função deverá exibir para o usuário (usando `print`) apenas as chaves e valores que começam com a mesma letra.\n",
    "\n"
   ]
  },
  {
   "cell_type": "code",
   "execution_count": 10,
   "id": "b0fb9b75-d3de-47f5-a540-ba8cc84a1051",
   "metadata": {},
   "outputs": [
    {
     "name": "stdout",
     "output_type": "stream",
     "text": [
      "GO Goiânia\n"
     ]
    }
   ],
   "source": [
    "def funcao(dicionario):\n",
    "    for chave, valor in dicionario.items():\n",
    "        if chave[0].lower() == valor[0].lower():\n",
    "            print (chave, valor)\n",
    "    \n",
    "\n",
    "\n",
    "\n",
    "\n",
    "dicionario = {\n",
    "    \"GO\": \"Goiânia\",\n",
    "    \"AL\": \"Maceió\",\n",
    "    \"AP\": \"Macapá\",\n",
    "    \"AM\": \"Manaus\",\n",
    "}\n",
    "\n",
    "funcao(dicionario)\n"
   ]
  },
  {
   "cell_type": "markdown",
   "id": "e7776d66-434c-4c87-a0cc-620d054f6ecc",
   "metadata": {},
   "source": [
    "### Erro médio absoluto\n",
    "\n"
   ]
  },
  {
   "cell_type": "markdown",
   "id": "8a73befd-558f-4141-9c79-d89316876e02",
   "metadata": {},
   "source": [
    "Faça uma função que recebe uma lista de valores numéricos que representam os resíduos de um modelo. Um resíduo de um modelo é a diferença entre um certo valor medido e o respectivo valor predito pelo modelo. Essa função deve retornar o erro médio absoluto. Para computar o erro médio absoluto, basta computar o valor absoluto de todos os resíduos e depois computar a média destes valores.\n",
    "\n"
   ]
  },
  {
   "cell_type": "code",
   "execution_count": 12,
   "id": "2d11f74a-f4ad-4766-b5ec-c0e6f393f328",
   "metadata": {},
   "outputs": [
    {
     "data": {
      "text/plain": [
       "3.0"
      ]
     },
     "execution_count": 12,
     "metadata": {},
     "output_type": "execute_result"
    }
   ],
   "source": [
    "def retorna_media (residuos): #abs não funciona para lista\n",
    "    soma = 0\n",
    "    for elemento in residuos:\n",
    "        soma = abs(elemento) + soma\n",
    "    media = soma/ len(residuos)\n",
    "\n",
    "    return media\n",
    "    \n",
    "residuos = [1, 2, 4, 5]\n",
    "retorna_media(residuos)"
   ]
  },
  {
   "cell_type": "markdown",
   "id": "70d748ef-8463-45ec-978f-1a6cfceb30b7",
   "metadata": {},
   "source": [
    "### Os $n$ primeiros números quadrados\n",
    "\n"
   ]
  },
  {
   "cell_type": "markdown",
   "id": "68c845bd-f06c-4adc-91b2-9c5a1778cfe4",
   "metadata": {},
   "source": [
    "Faça uma função que recebe um número `n` e retorna uma lista contendo os `n` primeiros números quadrados (isto é: [1, 4, 9, &#x2026; n²]).\n",
    "\n"
   ]
  },
  {
   "cell_type": "code",
   "execution_count": 6,
   "id": "970c8c40-8367-41d2-8717-59f3555bb369",
   "metadata": {},
   "outputs": [
    {
     "data": {
      "text/plain": [
       "[1, 4, 9, 16, 25, 36]"
      ]
     },
     "execution_count": 6,
     "metadata": {},
     "output_type": "execute_result"
    }
   ],
   "source": [
    "def recebe_num (n):\n",
    "    lista = []\n",
    "    \n",
    "    for i in range (n):\n",
    "        lista.append((i+1)**2)\n",
    "    \n",
    "    return lista\n",
    "#exemplo chamando a função com n = 6\n",
    "n = 6\n",
    "recebe_num(n)"
   ]
  },
  {
   "cell_type": "markdown",
   "id": "ed9db1fb-3062-4a30-b204-620ff66bbdd0",
   "metadata": {},
   "source": [
    "### Contador de negativos e positivos\n",
    "\n"
   ]
  },
  {
   "cell_type": "markdown",
   "id": "5b89c0d9-ffa8-44b7-a601-64fd85b605de",
   "metadata": {},
   "source": [
    "Faça uma função que recebe uma lista numérica (isto é, os itens são apenas números). Essa função tem dois retornos: um deles é a contagem de números negativos nessa lista e o outro é a contagem de números positivos nessa lista. Considere zero como sendo positivo.\n",
    "\n"
   ]
  },
  {
   "cell_type": "code",
   "execution_count": 14,
   "id": "443170c5-4712-47a6-990a-4b7d8ee4af7e",
   "metadata": {},
   "outputs": [
    {
     "data": {
      "text/plain": [
       "(1, 5)"
      ]
     },
     "execution_count": 14,
     "metadata": {},
     "output_type": "execute_result"
    }
   ],
   "source": [
    "def verifica_numero (lista):\n",
    "    num_negativos = 0\n",
    "    num_positivos = 0\n",
    "    \n",
    "    for elemento in lista:\n",
    "        if elemento < 0:\n",
    "            num_negativos = num_negativos + 1\n",
    "        else:\n",
    "            num_positivos = num_positivos + 1\n",
    "            \n",
    "    return num_negativos, num_positivos\n",
    "\n",
    "lista = [1, -2, 9, 7, 0, 4]\n",
    "verifica_numero  (lista)\n",
    "            "
   ]
  },
  {
   "cell_type": "markdown",
   "id": "28522326-6c80-4309-a0a6-b890a8639860",
   "metadata": {},
   "source": [
    "### Gerando coordenadas de duas dimensões\n",
    "\n"
   ]
  },
  {
   "cell_type": "markdown",
   "id": "fb38d940-1608-4d5d-82a8-a17c2d8ab9a4",
   "metadata": {},
   "source": [
    "Faça uma função que recebe um número `n` que é um inteiro positivo. Esta função deverá retornar uma lista com as coordenadas de duas dimensões que existem até `(n, n)`. Considere apenas números inteiros positivos para as coordenadas. Use tuplas para representar as coordenadas. Por exemplo, se `n=2`, então o retorno será: `[(1, 1), (1, 2), (2, 1), (2, 2)]`.\n",
    "\n"
   ]
  },
  {
   "cell_type": "code",
   "execution_count": 1,
   "id": "4833a935-041f-4964-9ecb-f3c7905ddfec",
   "metadata": {},
   "outputs": [
    {
     "data": {
      "text/plain": [
       "[(1, 1), (1, 2), (2, 1), (2, 2)]"
      ]
     },
     "execution_count": 1,
     "metadata": {},
     "output_type": "execute_result"
    }
   ],
   "source": [
    "def retorna_coordenadas (n):\n",
    "    lista = []\n",
    "    for x in range(1, n+1):\n",
    "        for y in range (1, n+1):\n",
    "            lista.append((x, y))\n",
    "        \n",
    "    return lista\n",
    "\n",
    "n = 2\n",
    "retorna_coordenadas (n)\n",
    "            "
   ]
  },
  {
   "cell_type": "markdown",
   "id": "b4a95523-af59-4eaa-8e2e-e899051eff88",
   "metadata": {},
   "source": [
    "Quer um desafio maior? Tente fazer com que o retorno desta função seja uma matriz das coordenadas (ou seja, uma lista de listas). Neste  caso, se `n=2`, então o retorno será: `[[(1, 1), (1, 2)], [(2, 1), (2, 2)]]`. Para o caso de `n=3`, o retorno será: `[[(1, 1), (1, 2), (1, 3)], [(2, 1), (2, 2), (2, 3)], [(3, 1), (3, 2), (3, 3)]]`.\n",
    "\n"
   ]
  },
  {
   "cell_type": "code",
   "execution_count": 8,
   "id": "41f9a979-f00d-41a0-a54b-6f7637a6d2a3",
   "metadata": {},
   "outputs": [
    {
     "data": {
      "text/plain": [
       "[[(1, 1), (1, 2), (1, 3)], [(2, 1), (2, 2), (2, 3)], [(3, 1), (3, 2), (3, 3)]]"
      ]
     },
     "execution_count": 8,
     "metadata": {},
     "output_type": "execute_result"
    }
   ],
   "source": [
    "def retorna_coordenadas (n):\n",
    "    return [[(i + 1, j + 1) for j in range(n)] for i in range(n)]\n",
    "\n",
    "n = 3\n",
    "retorna_coordenadas (n)"
   ]
  },
  {
   "cell_type": "markdown",
   "id": "4dfa568c-9c31-4f6a-bc31-342ed09e9557",
   "metadata": {},
   "source": [
    "## Iterando em sequências com `zip`\n",
    "\n"
   ]
  },
  {
   "cell_type": "code",
   "execution_count": 33,
   "id": "d2d14f84-4b2c-49a3-bff1-350d0f74e7ed",
   "metadata": {},
   "outputs": [
    {
     "name": "stdout",
     "output_type": "stream",
     "text": [
      "Diana 23\n",
      "Edna 59\n",
      "Milu 42\n"
     ]
    }
   ],
   "source": [
    "nomes = [\"Diana\", \"Edna\", \"Milu\"]\n",
    "idades = [23, 59, 42]\n",
    "\n",
    "for nome, idade in zip(nomes, idades):\n",
    "    print(nome, idade)"
   ]
  },
  {
   "cell_type": "markdown",
   "id": "06e1ca1f-0e79-421f-9434-2949795eb8b2",
   "metadata": {},
   "source": [
    "## Exercício\n",
    "\n"
   ]
  },
  {
   "cell_type": "markdown",
   "id": "041adda0-3ee5-46ad-85c1-53115a4bc958",
   "metadata": {},
   "source": [
    "### Navegando três listas ao mesmo tempo\n",
    "\n"
   ]
  },
  {
   "cell_type": "markdown",
   "id": "d84e86fc-dd79-40a7-9f32-8f2f633b101c",
   "metadata": {},
   "source": [
    "Usando um laço de repetição, exiba para o usuário o nome, o sobrenome e a comida favorita de cada pessoa listada abaixo, uma linha para cada nome.\n",
    "\n"
   ]
  },
  {
   "cell_type": "code",
   "execution_count": 35,
   "id": "df0ab9cd-ad3b-49d9-be42-27c4600cd297",
   "metadata": {},
   "outputs": [
    {
     "name": "stdout",
     "output_type": "stream",
     "text": [
      "Diana Didatolov Macarrão com calabresa\n",
      "Edna Ensineide Pão tostado com manteiga\n",
      "Milu Iluminarius Churrasco\n"
     ]
    }
   ],
   "source": [
    "nomes = [\"Diana\", \"Edna\", \"Milu\"]\n",
    "sobrenomes = [\"Didatolov\", \"Ensineide\", \"Iluminarius\"]\n",
    "comidas_favoritas = [\"Macarrão com calabresa\", \"Pão tostado com manteiga\", \"Churrasco\"]\n",
    "#a lista de menor tamanho define o zip\n",
    "\n",
    "for nome, sobrenome, comida_fav in zip (nomes, sobrenomes, comidas_favoritas):\n",
    "    print (nome, sobrenome, comida_fav)"
   ]
  },
  {
   "cell_type": "code",
   "execution_count": null,
   "id": "07d794af-1d40-482a-96a1-78752ede3ecd",
   "metadata": {},
   "outputs": [],
   "source": []
  },
  {
   "cell_type": "markdown",
   "id": "3e008e1e-2d0b-4dfb-825b-84e76fa890d8",
   "metadata": {},
   "source": [
    "## Laço de repetição `while`\n",
    "\n"
   ]
  },
  {
   "cell_type": "markdown",
   "id": "3fc5d0ab-b757-409b-bf29-002bd53814e4",
   "metadata": {},
   "source": [
    "### Usando um contador\n",
    "\n"
   ]
  },
  {
   "cell_type": "code",
   "execution_count": null,
   "id": "d04f34ec-4f40-470f-a680-5f656b5bec71",
   "metadata": {},
   "outputs": [],
   "source": [
    "contador = 0\n",
    "\n",
    "while contador < 10:\n",
    "    print(f\"Meu contador vale: {contador}\")\n",
    "    contador += 1"
   ]
  },
  {
   "cell_type": "markdown",
   "id": "ca6cdda7-402e-41c0-b1fa-f41b9173ad8d",
   "metadata": {},
   "source": [
    "### Saindo forçadamente do laço com `break`\n",
    "\n"
   ]
  },
  {
   "cell_type": "code",
   "execution_count": null,
   "id": "c2fa2eaf-9218-4768-990d-2b185b249881",
   "metadata": {},
   "outputs": [],
   "source": [
    "numero_secreto = 42\n",
    "numero_tentativas = 5\n",
    "\n",
    "contador = 0\n",
    "\n",
    "while contador < numero_tentativas:\n",
    "    tentativa = input(\"Tente acertar o número secreto! \")\n",
    "\n",
    "    if numero_secreto == int(tentativa):\n",
    "        print(\"Parabéns, você acertou!\")\n",
    "        break #sai do while mais próximo\n",
    "\n",
    "    else:\n",
    "        print(\"Errou feio, errou rude!\")\n",
    "\n",
    "    contador += 1\n",
    "\n",
    "if contador == numero_tentativas:\n",
    "    print(\"Você perdeu!\")"
   ]
  },
  {
   "cell_type": "markdown",
   "id": "b4e0a77c-7882-4c8e-a48e-be10c3ccad64",
   "metadata": {},
   "source": [
    "### O loop infinito\n",
    "\n"
   ]
  },
  {
   "cell_type": "markdown",
   "id": "99f98de0-71b4-44a5-99f0-9bc83892a508",
   "metadata": {},
   "source": [
    "O código abaixo é uma representação da **Conjectura de Collatz**. Neste código, o número `n` deve ser um inteiro positivo.\n",
    "\n"
   ]
  },
  {
   "cell_type": "code",
   "execution_count": 32,
   "id": "92ee20ed-5bf2-45bd-848c-d7d906f88aa6",
   "metadata": {},
   "outputs": [
    {
     "name": "stdout",
     "output_type": "stream",
     "text": [
      "10 -> 5 -> 16 -> 8 -> 4 -> 2 -> 1 "
     ]
    }
   ],
   "source": [
    "n = 10\n",
    "\n",
    "while True:\n",
    "    print(n, end=\" \")\n",
    "\n",
    "    # se n for 1, encerramos o processo\n",
    "    if n == 1:\n",
    "        break\n",
    "\n",
    "    # se n for par, dividimos por 2\n",
    "    if n % 2 == 0:\n",
    "        n = n // 2\n",
    "\n",
    "    # se n for impar, multiplicamos por 3 e somamos 1\n",
    "    else:\n",
    "        n = n * 3 + 1\n",
    "\n",
    "    print(\"->\", end=\" \")"
   ]
  },
  {
   "cell_type": "markdown",
   "id": "d11cc5a4-648d-4811-9735-191c895758b2",
   "metadata": {},
   "source": [
    "### Observação relevante\n",
    "\n"
   ]
  },
  {
   "cell_type": "markdown",
   "id": "59a4d3ea-c28f-49f1-a5eb-a2cca0372317",
   "metadata": {},
   "source": [
    "Todo laço de repetição `for` pode ser convertido para um laço de repetição `while`. No entanto, nem todo laço de repetição `while` pode ser convertido para um laço de repetição `for`.\n",
    "\n"
   ]
  },
  {
   "cell_type": "markdown",
   "id": "ac091d8b-a7db-444b-aa72-41f8cdf4b201",
   "metadata": {},
   "source": [
    "## Exercícios\n",
    "\n"
   ]
  },
  {
   "cell_type": "markdown",
   "id": "87c2b5c4-127d-4895-a34f-3deed1e04582",
   "metadata": {},
   "source": [
    "### Achando fatores primos\n",
    "\n"
   ]
  },
  {
   "cell_type": "markdown",
   "id": "ae7154a1-5fef-4a87-bb1c-323a1ac20ddb",
   "metadata": {},
   "source": [
    "Faça uma função que recebe um número inteiro positivo e retorna uma lista com seus fatores primos. Use o laço `while` para resolver este exercício.\n",
    "\n"
   ]
  },
  {
   "cell_type": "code",
   "execution_count": 44,
   "id": "b0488c97-7437-4282-831b-f0ae7f63ee5a",
   "metadata": {},
   "outputs": [
    {
     "data": {
      "text/plain": [
       "[2, 2, 5, 5]"
      ]
     },
     "execution_count": 44,
     "metadata": {},
     "output_type": "execute_result"
    }
   ],
   "source": [
    "def retorna_fatores (n):\n",
    "    primos = (2, 3, 5, 7, 11, 13, 17, 19, 23, 29, 31, 37, 41, 43, 47, 53, 59, 61, 67, 71, 73, 79, 83, 89, 97)\n",
    "    iprimo = 0\n",
    "    div = n\n",
    "    fatores = []\n",
    "\n",
    "    while (div > 1):\n",
    "        while iprimo < len(primos):\n",
    "            if ((div % primos[iprimo]) == 0):\n",
    "                fatores.append(primos[iprimo])\n",
    "                div /= primos[iprimo]\n",
    "                break\n",
    "            iprimo = iprimo + 1\n",
    "\n",
    "    return fatores\n",
    "\n",
    "retorna_fatores (100)"
   ]
  },
  {
   "cell_type": "code",
   "execution_count": 10,
   "id": "438fe24c-3e86-4261-99fb-6208fc1c3ab1",
   "metadata": {},
   "outputs": [
    {
     "data": {
      "text/plain": [
       "[2, 5]"
      ]
     },
     "execution_count": 10,
     "metadata": {},
     "output_type": "execute_result"
    }
   ],
   "source": [
    "def fatores_primos(n):\n",
    "    fatores = []\n",
    "    divisor = 2\n",
    "    while n > 1:\n",
    "        while n % divisor == 0:\n",
    "            fatores.append(divisor)\n",
    "            n = n // divisor\n",
    "        divisor += 1\n",
    "    return list(set(fatores)) #set tira os itens repetidos da lista, porque vira u conjunto\n",
    "    \n",
    "fatores_primos(20)"
   ]
  },
  {
   "cell_type": "markdown",
   "id": "5d4e7785-1e4d-4820-a5c4-2abc9f08819c",
   "metadata": {},
   "source": [
    "### Aproximando $\\pi$\n",
    "\n"
   ]
  },
  {
   "cell_type": "markdown",
   "id": "b7a497b7-9718-4db1-9551-21356a39875d",
   "metadata": {},
   "source": [
    "Faça uma função que recebe um valor positivo de `tolerância` e retorna o valor de $\\pi$ com precisão menor do que a `tolerância` usando a fórmula de Leibniz.\n",
    "\n",
    "$$\n",
    "\\pi = 4 \\left( 1 - \\frac{1}{3} + \\frac{1}{5} - \\frac{1}{7} + \\frac{1}{9} - \\cdots \\right)\n",
    "$$\n",
    "\n",
    "Use um laço `while` para iterar até que a diferença entre a aproximação atual e a anterior seja menor que `tolerancia`. Teste seu código com as seguintes tolerâncias: 0.01, 0.001 e 0.0001.\n",
    "\n",
    "**Dica**: faça primeiro um laço `while` que calcula a somatória acima para os primeiros `n` termos. Depois de garantir que isso funciona, observe como você pode incluir o conceito de tolerância no seu código.\n",
    "\n"
   ]
  },
  {
   "cell_type": "code",
   "execution_count": 8,
   "id": "df807663-8cf4-414d-8638-0c56985a7bdc",
   "metadata": {},
   "outputs": [
    {
     "data": {
      "text/plain": [
       "3.141597653564762"
      ]
     },
     "execution_count": 8,
     "metadata": {},
     "output_type": "execute_result"
    }
   ],
   "source": [
    "def numero_pi (tol):\n",
    "    fr = 0\n",
    "    ulti_pi = 3\n",
    "    dif = 1\n",
    "    sinal = True\n",
    "    den = 1\n",
    "    \n",
    "    while (abs(dif) > tol):\n",
    "        if (sinal):\n",
    "            fr += 1/den\n",
    "            sinal = False\n",
    "        else:\n",
    "            fr -= 1/den\n",
    "            sinal = True\n",
    "            \n",
    "        pi_atual = 4 * fr\n",
    "        #print (\"Pi_atual = \", pi_atual)\n",
    "        dif = pi_atual - ulti_pi\n",
    "        #print (\"Dif = \", dif)\n",
    "        #print (\"Sinal =\", sinal)\n",
    "        ulti_pi = pi_atual\n",
    "        den += 2\n",
    "\n",
    "    return ulti_pi\n",
    "\n",
    "numero_pi (0.00001)"
   ]
  },
  {
   "cell_type": "code",
   "execution_count": null,
   "id": "f8390dd8-668c-4a57-bfdd-5569fc605d53",
   "metadata": {},
   "outputs": [],
   "source": [
    "def numero_pi (tol):\n",
    "    fr = 0\n",
    "    ulti_pi = 3\n",
    "    dif = 1\n",
    "    sinal = True\n",
    "    den = 1\n",
    "\n",
    "    while (dif > tol):\n",
    "        if (sinal):\n",
    "            fr += 1/den\n",
    "        else:\n",
    "            fr -= 1/den\n",
    "        intfr = int(4 * fr)\n",
    "        print (\"Intfr = \", intfr)\n",
    "        pi_atual = 3 + (intfr / 10 ** len(str(intfr)))\n",
    "        print (\"Pi_atual = \", pi_atual)\n",
    "        dif = pi_atual - ulti_pi\n",
    "        print (\"Dif = \", dif)\n",
    "        sinal = !(sinal)\n",
    "        ulti_pi = pi_atual\n",
    "        den += 2\n",
    "\n",
    "    return ulti_pi\n",
    "\n",
    "numero_pi (0.0000000001)"
   ]
  },
  {
   "cell_type": "markdown",
   "id": "23881a9c-fc08-45cf-a884-22fe600ecd82",
   "metadata": {},
   "source": [
    "## Contando e iterando uma sequência ao mesmo tempo com `enumerate`\n",
    "\n"
   ]
  },
  {
   "cell_type": "code",
   "execution_count": 7,
   "id": "ba4a3b68-3576-4d9a-9c0c-ccff977e6641",
   "metadata": {},
   "outputs": [
    {
     "name": "stdout",
     "output_type": "stream",
     "text": [
      "0. Confortably Numb\n",
      "1. Bohemian Rhapsody\n",
      "2. Oceano\n",
      "3. Anna Júlia\n"
     ]
    }
   ],
   "source": [
    "playlist = [\"Confortably Numb\", \"Bohemian Rhapsody\", \"Oceano\", \"Anna Júlia\"]\n",
    "\n",
    "for i, musica in enumerate(playlist):\n",
    "    print(f\"{i}. {musica}\")"
   ]
  },
  {
   "cell_type": "markdown",
   "id": "98a11ea4-bb7b-40eb-8fb2-7da5c4ddbf8d",
   "metadata": {},
   "source": [
    "Para começar a contagem de um certo número específico, use o argumento `start`.\n",
    "\n"
   ]
  },
  {
   "cell_type": "code",
   "execution_count": null,
   "id": "05552a05-5d69-4aec-bb3d-11bbd3247fc3",
   "metadata": {},
   "outputs": [],
   "source": [
    "for i, musica in enumerate(playlist, start=1):\n",
    "    print(f\"{i}. {musica}\")"
   ]
  },
  {
   "cell_type": "markdown",
   "id": "eedb6082-b5da-4d81-bc3d-8cccd2ee2cc0",
   "metadata": {},
   "source": [
    "## Compreensão de listas\n",
    "\n"
   ]
  },
  {
   "cell_type": "code",
   "execution_count": null,
   "id": "7433ce8f-7746-4717-af2e-2e13d861d9a5",
   "metadata": {},
   "outputs": [],
   "source": [
    "lista = []\n",
    "\n",
    "for n in range(1, 10):\n",
    "    lista.append(n**2)\n",
    "\n",
    "print(lista)"
   ]
  },
  {
   "cell_type": "code",
   "execution_count": null,
   "id": "a8073ee1-1b7c-4b85-ac54-54cbd42c0293",
   "metadata": {},
   "outputs": [],
   "source": [
    "lista = [n**2 for n in range(1, 10)]\n",
    "\n",
    "print(lista)"
   ]
  },
  {
   "cell_type": "markdown",
   "id": "76d25dcd-ca5d-47ec-9d24-715f38559f49",
   "metadata": {},
   "source": [
    "## XKCD relevante\n",
    "\n"
   ]
  },
  {
   "cell_type": "markdown",
   "id": "1f8e34a6-f481-4ac8-b32b-68ff7e3bca2d",
   "metadata": {},
   "source": [
    "![img](https://imgs.xkcd.com/comics/good_code.png)\n",
    "\n",
    "`Imagem: Good Code (XKCD) disponível em https://xkcd.com/844`\n",
    "\n"
   ]
  }
 ],
 "metadata": {
  "kernelspec": {
   "display_name": "ilumpy",
   "language": "python",
   "name": "ilumpy"
  },
  "language_info": {
   "codemirror_mode": {
    "name": "ipython",
    "version": 3
   },
   "file_extension": ".py",
   "mimetype": "text/x-python",
   "name": "python",
   "nbconvert_exporter": "python",
   "pygments_lexer": "ipython3",
   "version": "3.12.7"
  },
  "org": null
 },
 "nbformat": 4,
 "nbformat_minor": 5
}
