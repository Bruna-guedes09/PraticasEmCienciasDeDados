{
 "cells": [
  {
   "cell_type": "code",
   "execution_count": null,
   "id": "076aaaa9-e5ba-4698-b56d-a21b67cb3359",
   "metadata": {},
   "outputs": [],
   "source": [
    "import sympy as sp\n",
    "\n",
    "# Define a variável simbólica t\n",
    "t = sp.Symbol('t', real=True)\n",
    "\n",
    "# Define o Hamiltoniano do anel de 3 átomos\n",
    "H = sp.Matrix([\n",
    "    [0, t, 0],\n",
    "    [t, 0, t],\n",
    "    [0, t, 0]\n",
    "])\n",
    "\n",
    "\n",
    "\n",
    "# Diagonaliza o Hamiltoniano (autovalores e matriz de autovetores normalizados)\n",
    "P, D = H.diagonalize(normalize=True)\n",
    "\n",
    "# Mostra o Hamiltoniano\n",
    "print(\"Hamiltoniano H:\")\n",
    "sp.pprint(H)\n",
    "\n",
    "# Mostra os autovalores (matriz diagonal)\n",
    "print(\"\\nMatriz diagonal (autovalores):\")\n",
    "sp.pprint(D)\n",
    "\n",
    "# Mostra a matriz de autovetores\n",
    "print(\"\\nMatriz dos autovetores (colunas são autovetores):\")\n",
    "sp.pprint(P)\n",
    "\n",
    "# Também podemos listar os pares (autovalor, autovetor) separadamente:\n",
    "print(\"\\nPares (autovalor, autovetor):\")\n",
    "eigensystem = H.eigenvects()\n",
    "for val, mult, vecs in eigensystem:\n",
    "    print(f\"\\nAutovalor: {val}\")\n",
    "    for v in vecs:\n",
    "        print(\"Autovetor:\")\n",
    "        sp.pprint(v.normalized())"
   ]
  }
 ],
 "metadata": {
  "kernelspec": {
   "display_name": "ilumpy",
   "language": "python",
   "name": "ilumpy"
  },
  "language_info": {
   "codemirror_mode": {
    "name": "ipython",
    "version": 3
   },
   "file_extension": ".py",
   "mimetype": "text/x-python",
   "name": "python",
   "nbconvert_exporter": "python",
   "pygments_lexer": "ipython3",
   "version": "3.12.7"
  }
 },
 "nbformat": 4,
 "nbformat_minor": 5
}
