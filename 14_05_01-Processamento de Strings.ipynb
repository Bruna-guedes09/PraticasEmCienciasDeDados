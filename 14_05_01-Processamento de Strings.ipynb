{
 "cells": [
  {
   "cell_type": "markdown",
   "metadata": {},
   "source": [
    "# Processamento de strings"
   ]
  },
  {
   "cell_type": "markdown",
   "metadata": {},
   "source": [
    "## Agrupando caracteres com strings"
   ]
  },
  {
   "cell_type": "markdown",
   "metadata": {},
   "source": [
    "Strings são objetos que armazenam texto e para declarar strings usamos aspas simples ou aspas duplas. Texto nada mais é do que uma lista de zero ou mais caracteres. Assim como listas, podemos segmentar strings usando a notação dos índices dentro de colchetes. Veja no exemplo abaixo."
   ]
  },
  {
   "cell_type": "code",
   "execution_count": 2,
   "metadata": {},
   "outputs": [
    {
     "name": "stdout",
     "output_type": "stream",
     "text": [
      "a\n",
      "b\n",
      "c\n",
      "defgh\n",
      "ijklmnopqrstuvwxyz\n",
      "acegikmoqsuwy\n"
     ]
    }
   ],
   "source": [
    "string_com_zero_letras = \"\"\n",
    "string_com_uma_letra = \"a\"\n",
    "string_com_varias_letras = \"abcdefghijklmnopqrstuvwxyz\"\n",
    "  \n",
    "print(string_com_varias_letras[0])\n",
    "print(string_com_varias_letras[1])\n",
    "print(string_com_varias_letras[2])\n",
    "  \n",
    "print(string_com_varias_letras[3:8])\n",
    "print(string_com_varias_letras[8:])\n",
    "  \n",
    "print(string_com_varias_letras[::2])"
   ]
  },
  {
   "cell_type": "markdown",
   "metadata": {},
   "source": [
    "Como strings são listas de letras, também podemos usar o ***for*** da mesma maneira que usamos em listas! Veja no exemplo abaixo."
   ]
  },
  {
   "cell_type": "code",
   "execution_count": 3,
   "metadata": {},
   "outputs": [
    {
     "name": "stdout",
     "output_type": "stream",
     "text": [
      "B\n",
      "r\n",
      "a\n",
      "v\n",
      "o\n",
      ",\n",
      " \n",
      "V\n",
      "i\n",
      "n\n",
      "c\n",
      "e\n",
      "!\n"
     ]
    }
   ],
   "source": [
    "texto = \"Bravo, Vince!\"\n",
    "\n",
    "for letra in texto:\n",
    "    print(letra)"
   ]
  },
  {
   "cell_type": "markdown",
   "metadata": {},
   "source": [
    "É possível converter objetos que não são texto para texto usando a função ***str***."
   ]
  },
  {
   "cell_type": "code",
   "execution_count": 4,
   "metadata": {},
   "outputs": [
    {
     "name": "stdout",
     "output_type": "stream",
     "text": [
      "1234\n",
      "1234\n",
      "1\n"
     ]
    },
    {
     "ename": "TypeError",
     "evalue": "'int' object is not subscriptable",
     "output_type": "error",
     "traceback": [
      "\u001b[31m---------------------------------------------------------------------------\u001b[39m",
      "\u001b[31mTypeError\u001b[39m                                 Traceback (most recent call last)",
      "\u001b[36mCell\u001b[39m\u001b[36m \u001b[39m\u001b[32mIn[4]\u001b[39m\u001b[32m, line 11\u001b[39m\n\u001b[32m      8\u001b[39m \u001b[38;5;28mprint\u001b[39m(texto_a_partir_do_numero[\u001b[32m0\u001b[39m])  \u001b[38;5;66;03m# este é o digito 1 do número 1234\u001b[39;00m\n\u001b[32m     10\u001b[39m \u001b[38;5;66;03m# note que essa sintaxe não funciona para variáveis numéricas (dá erro!)\u001b[39;00m\n\u001b[32m---> \u001b[39m\u001b[32m11\u001b[39m \u001b[38;5;28mprint\u001b[39m(\u001b[43mnumero\u001b[49m\u001b[43m[\u001b[49m\u001b[32;43m0\u001b[39;49m\u001b[43m]\u001b[49m)\n",
      "\u001b[31mTypeError\u001b[39m: 'int' object is not subscriptable"
     ]
    }
   ],
   "source": [
    "numero = 1234\n",
    "texto_a_partir_do_numero = str(1234)\n",
    "\n",
    "print(numero)\n",
    "print(texto_a_partir_do_numero)\n",
    "\n",
    "# agora que temos um texto, é fácil separar os digitos do número\n",
    "print(texto_a_partir_do_numero[0])  # este é o digito 1 do número 1234\n",
    "\n",
    "# note que essa sintaxe não funciona para variáveis numéricas (dá erro!)\n",
    "print(numero[0])"
   ]
  },
  {
   "cell_type": "markdown",
   "metadata": {},
   "source": [
    "Também podemos converter texto contendo dígitos em variáveis numéricas usando as funções ***int*** e ***float***. Veja o exemplo abaixo:\n"
   ]
  },
  {
   "cell_type": "code",
   "execution_count": 5,
   "metadata": {},
   "outputs": [
    {
     "name": "stdout",
     "output_type": "stream",
     "text": [
      "1234\n",
      "1234\n",
      "5555\n"
     ]
    },
    {
     "ename": "TypeError",
     "evalue": "can only concatenate str (not \"int\") to str",
     "output_type": "error",
     "traceback": [
      "\u001b[0;31m---------------------------------------------------------------------------\u001b[0m",
      "\u001b[0;31mTypeError\u001b[0m                                 Traceback (most recent call last)",
      "Cell \u001b[0;32mIn[5], line 11\u001b[0m\n\u001b[1;32m      8\u001b[0m \u001b[38;5;28mprint\u001b[39m(numero_a_partir_do_texto \u001b[38;5;241m+\u001b[39m \u001b[38;5;241m4321\u001b[39m)\n\u001b[1;32m     10\u001b[0m \u001b[38;5;66;03m# note que não podemos fazer contas com variáveis que são texto (dá erro!)\u001b[39;00m\n\u001b[0;32m---> 11\u001b[0m \u001b[38;5;28mprint\u001b[39m(\u001b[43mtexto\u001b[49m\u001b[43m \u001b[49m\u001b[38;5;241;43m+\u001b[39;49m\u001b[43m \u001b[49m\u001b[38;5;241;43m4321\u001b[39;49m)\n",
      "\u001b[0;31mTypeError\u001b[0m: can only concatenate str (not \"int\") to str"
     ]
    }
   ],
   "source": [
    "texto = \"1234\"\n",
    "numero_a_partir_do_texto = int(texto)\n",
    "\n",
    "print(texto)\n",
    "print(numero_a_partir_do_texto)\n",
    "\n",
    "# agora que temos um número, podemos fazer contas\n",
    "print(numero_a_partir_do_texto + 4321)\n",
    "\n",
    "# note que não podemos fazer contas com variáveis que são texto (dá erro!)\n",
    "print(texto + 4321)"
   ]
  },
  {
   "cell_type": "markdown",
   "metadata": {},
   "source": [
    "Podemos multiplicar strings por um número natural e podemos somar strings com strings!"
   ]
  },
  {
   "cell_type": "code",
   "execution_count": 6,
   "metadata": {},
   "outputs": [
    {
     "name": "stdout",
     "output_type": "stream",
     "text": [
      "Penny! Penny! Penny! \n",
      "completo\n"
     ]
    }
   ],
   "source": [
    "nome = \"Penny! \"\n",
    "chamando_penny = nome * 3\n",
    "print(chamando_penny)\n",
    "\n",
    "metade1 = \"comp\"\n",
    "metade2 = \"leto\"\n",
    "palavra = metade1 + metade2\n",
    "print(palavra)"
   ]
  },
  {
   "cell_type": "code",
   "execution_count": 18,
   "metadata": {},
   "outputs": [
    {
     "data": {
      "text/plain": [
       "{'s': 2, 'e': 2, 't': 1}"
      ]
     },
     "execution_count": 18,
     "metadata": {},
     "output_type": "execute_result"
    }
   ],
   "source": [
    "#exercício 1\n",
    "\n",
    "def retorna_dicionario(string):\n",
    "    lista_chaves = []\n",
    "    chaves = []\n",
    "    lista_valores = []\n",
    "    conjunto_chaves = {}\n",
    "    dicionario = {}\n",
    "    \n",
    "    for caractere in string:\n",
    "        lista_chaves.append(caractere)\n",
    "\n",
    "    chaves = list(set(lista_chaves))\n",
    "\n",
    "    for quantidade in lista_chaves:\n",
    "        lista_valores.append(lista_chaves.count(quantidade))\n",
    "    \n",
    "    for chave in range(len(chaves)):\n",
    "            dicionario[chaves[chave]] = lista_valores[chave]\n",
    "\n",
    "        \n",
    "    return dicionario\n",
    "\n",
    "string = \"teste\"\n",
    "retorna_dicionario(string)\n",
    "\n",
    "    "
   ]
  },
  {
   "cell_type": "markdown",
   "metadata": {},
   "source": [
    "## Métodos condicionais de strings"
   ]
  },
  {
   "cell_type": "markdown",
   "metadata": {},
   "source": [
    "Uma diferença muito importante entre strings e listas é que strings são variáveis imutáveis (assim como tuplas) e listas são variáveis mutáveis. Isso significa que após uma string ser criada não é possível alterá-la!\n",
    "\n",
    "**Exercício 1)** Faça uma função que recebe uma string qualquer e retorna um dicionário. As chaves do dicionário de retorno são caracteres e os valores são a quantidade de vezes que estes caracteres aparecem na string de entrada."
   ]
  },
  {
   "cell_type": "markdown",
   "metadata": {},
   "source": [
    "Existem diversos métodos de strings. Você pode checar todos eles [na documentação oficial](https://docs.python.org/3/library/stdtypes.html?highlight=startswith\\#text-sequence-type-str). Existem dois métodos para checar strings que são particularmente muito utilizados: o ***startswith*** e o ***endswith***. Como o próprio nome sugere, o ***startswith*** checa se sua string começa com uma certa sequência de caracteres e o ***endswith*** checa se sua string termina com uma certa sequência de caracteres. São, portanto, métodos excelentes para checar prexifos e sufixos de palavras!"
   ]
  },
  {
   "cell_type": "code",
   "execution_count": 7,
   "metadata": {},
   "outputs": [
    {
     "name": "stdout",
     "output_type": "stream",
     "text": [
      "['pato', 'feldspato', 'sapato', 'carrapato', 'empato']\n",
      "['cachorro', 'caolinita', 'carrapato', 'caranguejo', 'capoto']\n"
     ]
    }
   ],
   "source": [
    "palavras = [\n",
    "  \"pato\",\n",
    "  \"cachorro\",\n",
    "  \"feldspato\",\n",
    "  \"caolinita\",\n",
    "  \"sapato\",\n",
    "  \"tênis\",\n",
    "  \"carrapato\",\n",
    "  \"caranguejo\",\n",
    "  \"empato\",\n",
    "  \"capoto\",\n",
    "]\n",
    "\n",
    "palavras_que_terminam_em_pato = []\n",
    "for palavra in palavras:\n",
    "  if palavra.endswith(\"pato\"):\n",
    "      palavras_que_terminam_em_pato.append(palavra)\n",
    "print(palavras_que_terminam_em_pato)\n",
    "\n",
    "palavras_que_comecam_em_ca = []\n",
    "for palavra in palavras:\n",
    "  if palavra.startswith(\"ca\"):\n",
    "      palavras_que_comecam_em_ca.append(palavra)\n",
    "print(palavras_que_comecam_em_ca)"
   ]
  },
  {
   "cell_type": "markdown",
   "metadata": {},
   "source": [
    "Outros métodos de strings bastante úteis são:\n",
    "1. ***isnumeric***: retorna ***True*** se sua string é um valor numérico e ***False*** do contrário. Este método não recebe nenhum argumento.\n",
    "2. ***isupper***: retorna ***True*** se sua string está escrita em caixa alta e ***False*** do contrário. Este método não recebe nenhum argumento.\n",
    "3. ***islower***: retorna ***True*** se sua string está escrita em caixa baixa e ***False*** do contrário. Este método não recebe nenhum argumento."
   ]
  },
  {
   "cell_type": "code",
   "execution_count": 12,
   "metadata": {},
   "outputs": [
    {
     "name": "stdout",
     "output_type": "stream",
     "text": [
      "Testando o método isnumeric\n",
      "1234 é numérica? True\n",
      "AAAAHHHHH é numérica? False\n",
      "sussurrando... é numérica? False\n",
      "\n",
      "Testando o método isupper\n",
      "1234 é caixa alta? False\n",
      "AAAAHHHHH é caixa alta? True\n",
      "sussurrando... é caixa alta? False\n",
      "\n",
      "Testando o método islower\n",
      "1234 é caixa baixa? False\n",
      "AAAAHHHHH é caixa baixa? False\n",
      "sussurrando... é caixa baixa? True\n",
      "\n"
     ]
    }
   ],
   "source": [
    "numero = \"1234\"\n",
    "caixa_alta = \"AAAAHHHHH\"\n",
    "caixa_baixa = \"sussurrando...\"\n",
    "\n",
    "print(\"Testando o método isnumeric\")\n",
    "print(numero, \"é numérica?\", numero.isnumeric())\n",
    "print(caixa_alta, \"é numérica?\", caixa_alta.isnumeric())\n",
    "print(caixa_baixa, \"é numérica?\", caixa_baixa.isnumeric())\n",
    "print()\n",
    "\n",
    "print(\"Testando o método isupper\")\n",
    "print(numero, \"é caixa alta?\", numero.isupper())\n",
    "print(caixa_alta, \"é caixa alta?\", caixa_alta.isupper())\n",
    "print(caixa_baixa, \"é caixa alta?\", caixa_baixa.isupper())\n",
    "print()\n",
    "\n",
    "print(\"Testando o método islower\")\n",
    "print(numero, \"é caixa baixa?\", numero.islower())\n",
    "print(caixa_alta, \"é caixa baixa?\", caixa_alta.islower())\n",
    "print(caixa_baixa, \"é caixa baixa?\", caixa_baixa.islower())\n",
    "print()"
   ]
  },
  {
   "cell_type": "markdown",
   "metadata": {},
   "source": [
    "## Recebendo informações do usuário ***input***"
   ]
  },
  {
   "cell_type": "markdown",
   "metadata": {},
   "source": [
    "Se em algum momento você precisar receber informações do usuário, basta usar a função ***input***. Vamos ver um exemplo:\n"
   ]
  },
  {
   "cell_type": "code",
   "execution_count": 13,
   "metadata": {},
   "outputs": [
    {
     "name": "stdout",
     "output_type": "stream",
     "text": [
      "James\n",
      "Escrever um código\n",
      "20 km/h\n"
     ]
    }
   ],
   "source": [
    "nome = input(\"Qual é o seu nome?\")\n",
    "missao = input(\"Qual é a sua missão?\")\n",
    "velocidade = input(\"Qual é a velocidade de vôo de uma andorinha livre de carga?\")\n",
    "\n",
    "print(nome)\n",
    "print(missao)\n",
    "print(velocidade)"
   ]
  },
  {
   "cell_type": "markdown",
   "metadata": {},
   "source": [
    "Preste atenção que a informação recebida pelo comando ***input*** será sempre **convertida para uma string**. Então veja que caso o usuário digite um número, este será convertido para uma string! Tenha isso em mente caso venha a usar essa função."
   ]
  },
  {
   "cell_type": "markdown",
   "metadata": {},
   "source": [
    "## Alguns caracteres especiais"
   ]
  },
  {
   "cell_type": "markdown",
   "metadata": {},
   "source": [
    "Existem duas formas de fazer uma string em múltiplas linhas. Uma delas é usando aspas triplas como nós já vimos:"
   ]
  },
  {
   "cell_type": "code",
   "execution_count": 16,
   "metadata": {},
   "outputs": [
    {
     "name": "stdout",
     "output_type": "stream",
     "text": [
      "Olá!\n",
      "Eu sou uma string com múltiplas linhas.\n",
      "Prazer!\n"
     ]
    }
   ],
   "source": [
    "string_com_multiplas_linhas = \"\"\"Olá!\n",
    "Eu sou uma string com múltiplas linhas.\n",
    "Prazer!\"\"\"\n",
    "\n",
    "print(string_com_multiplas_linhas)"
   ]
  },
  {
   "cell_type": "markdown",
   "metadata": {},
   "source": [
    "Outra forma é escrevendo \\n para simbolizar uma quebra de linha:\n"
   ]
  },
  {
   "cell_type": "code",
   "execution_count": 17,
   "metadata": {},
   "outputs": [
    {
     "name": "stdout",
     "output_type": "stream",
     "text": [
      "Olá!\n",
      "Eu sou uma string com múltiplas linhas.\n",
      "Prazer!\n"
     ]
    }
   ],
   "source": [
    "string_com_multiplas_linhas_2 = \"Olá!\\nEu sou uma string com múltiplas linhas.\\nPrazer!\"\n",
    "\n",
    "print(string_com_multiplas_linhas_2)"
   ]
  },
  {
   "cell_type": "markdown",
   "metadata": {},
   "source": [
    "Qual destas duas estratégias é a melhor? Tanto faz, use a que julgar mais interessante. As duas retornam exatamente a mesma string como pode ser checado com o operador de comparação abaixo."
   ]
  },
  {
   "cell_type": "code",
   "execution_count": 18,
   "metadata": {},
   "outputs": [
    {
     "name": "stdout",
     "output_type": "stream",
     "text": [
      "True\n"
     ]
    }
   ],
   "source": [
    "print(string_com_multiplas_linhas == string_com_multiplas_linhas_2)"
   ]
  },
  {
   "cell_type": "markdown",
   "metadata": {},
   "source": [
    "Outro caractere especial que vale a pena mencionar é o \\t que serve para incluir uma tabulação horizontal (costumeiramente chamado de ``tab'')."
   ]
  },
  {
   "cell_type": "code",
   "execution_count": 18,
   "metadata": {},
   "outputs": [
    {
     "name": "stdout",
     "output_type": "stream",
     "text": [
      "Ano\tConsumo de pipoca\n",
      "2017\t9\n",
      "2018\t6\n",
      "2019\t7\n",
      "2020\t13\n",
      "2021\t12\n",
      "2022\t11\n"
     ]
    }
   ],
   "source": [
    "tabulacao = \"\"\"Ano\\tConsumo de pipoca\n",
    "2017\\t9\n",
    "2018\\t6\n",
    "2019\\t7\n",
    "2020\\t13\n",
    "2021\\t12\n",
    "2022\\t11\"\"\"\n",
    "\n",
    "print(tabulacao)"
   ]
  },
  {
   "cell_type": "markdown",
   "metadata": {},
   "source": [
    "Mas... e se eu quero escrever uma barra invertida (\\) no meu texto? Daí fica difícil com esses caracteres especiais atrapalhando! Neste caso, você tem duas opções. A primeira é escrever \"\\\\\\\\\". A segunda é usar uma ***string bruta*** (***raw***, em inglês), para isso basta acrescenta um ***r*** no início da string, antes das aspas e sem espaço. Vamos ver um exemplo."
   ]
  },
  {
   "cell_type": "code",
   "execution_count": 19,
   "metadata": {},
   "outputs": [
    {
     "name": "stdout",
     "output_type": "stream",
     "text": [
      "C:\\trabalhos\\nova pasta\\praticas_cap_10.ipynb\n",
      "C:\\trabalhos\\nova pasta\\praticas_cap_10.ipynb\n",
      "\n",
      "C:\trabalhos\n",
      "ova pasta\\praticas_cap_10.ipynb\n"
     ]
    },
    {
     "name": "stderr",
     "output_type": "stream",
     "text": [
      "<>:10: SyntaxWarning: invalid escape sequence '\\p'\n",
      "<>:10: SyntaxWarning: invalid escape sequence '\\p'\n",
      "/tmp/ipykernel_613841/234985359.py:10: SyntaxWarning: invalid escape sequence '\\p'\n",
      "  barra_invertida_deu_ruim = \"C:\\trabalhos\\nova pasta\\praticas_cap_10.ipynb\"\n"
     ]
    }
   ],
   "source": [
    "barra_invertida_tecnica_1 = \"C:\\\\trabalhos\\\\nova pasta\\\\praticas_cap_10.ipynb\"\n",
    "barra_invertida_string_bruta = r\"C:\\trabalhos\\nova pasta\\praticas_cap_10.ipynb\"\n",
    "\n",
    "print(barra_invertida_tecnica_1)\n",
    "print(barra_invertida_string_bruta)\n",
    "\n",
    "print()\n",
    "\n",
    "# exemplo de uso errado\n",
    "barra_invertida_deu_ruim = \"C:\\trabalhos\\nova pasta\\praticas_cap_10.ipynb\"\n",
    "print(barra_invertida_deu_ruim)"
   ]
  },
  {
   "cell_type": "markdown",
   "metadata": {},
   "source": [
    "Para mais informações sobre carateres especiais consulte a [documentação oficial](https://docs.python.org/pt-br/3.9/reference/lexical\\_analysis.html\\#string-and-bytes-literals)."
   ]
  },
  {
   "cell_type": "markdown",
   "metadata": {},
   "source": [
    "# Formatação de texto"
   ]
  },
  {
   "cell_type": "markdown",
   "metadata": {},
   "source": [
    "Muitas vezes queremos exibir para o usuário uma informação contida em uma variável junto com um texto. Por exemplo:"
   ]
  },
  {
   "cell_type": "code",
   "execution_count": 20,
   "metadata": {},
   "outputs": [
    {
     "name": "stdout",
     "output_type": "stream",
     "text": [
      "Olá, Feiticeira Escarlate . Eu me chamo Visão . Prazer!\n"
     ]
    }
   ],
   "source": [
    "seu_nome = \"Feiticeira Escarlate\"\n",
    "meu_nome = \"Visão\"\n",
    "\n",
    "print(\"Olá,\", seu_nome, \". Eu me chamo\", meu_nome, \". Prazer!\")"
   ]
  },
  {
   "cell_type": "markdown",
   "metadata": {},
   "source": [
    "As f-strings nos ajudam justamente nisso! Vamos ver o exemplo anterior usando f-strings."
   ]
  },
  {
   "cell_type": "code",
   "execution_count": 21,
   "metadata": {},
   "outputs": [
    {
     "name": "stdout",
     "output_type": "stream",
     "text": [
      "Olá, Feiticeira Escarlate. Eu me chamo Visão. Prazer!\n"
     ]
    }
   ],
   "source": [
    "seu_nome = \"Feiticeira Escarlate\"\n",
    "meu_nome = \"Visão\"\n",
    "\n",
    "print(f\"Olá, {seu_nome}. Eu me chamo {meu_nome}. Prazer!\")"
   ]
  },
  {
   "cell_type": "markdown",
   "metadata": {},
   "source": [
    "Para usar uma f-string, basta colocar a letra ***f*** na frente das aspas da sua string (sem dar espaço!). Em uma f-string, você pode referenciar uma variável dentro de colchetes e ela será incorporada na sua string. Simples assim.\n",
    "\n",
    "F-strings são bastante poderosas. Existem diversos \"truques\" que podemos fazer com elas! Como sempre, a [documentação oficial](https://docs.python.org/pt-br/3.9/reference/lexical\\_analysis.html\\#f-strings) está lá para nos ajudar. Veja no exemplo abaixo uma seleção de possíveis configurações para sua f-string."
   ]
  },
  {
   "cell_type": "code",
   "execution_count": 24,
   "metadata": {},
   "outputs": [
    {
     "name": "stdout",
     "output_type": "stream",
     "text": [
      "O valor de pi é: 3.141592653589793\n",
      "\n",
      "O valor de pi com cinco algarismos significativos é: 3.1416\n",
      "\n",
      "O valor de pi com apenas duas casas decimais é: 3.14\n",
      "\n",
      "tau = 6.283185307179586\n",
      "\n",
      "Tau é maior que pi? True\n",
      "\n",
      "Converter um número para porcentagem com duas casas decimais: 33.33%\n",
      "\n",
      "tau * 2 = 12.566370614359172\n",
      "\n",
      "Para exibir colchetes dentro de f-strings use eles dobrados. {Desta forma!}. O valor de pi é 3.141592653589793.\n"
     ]
    }
   ],
   "source": [
    "from math import pi\n",
    "\n",
    "tau = 2 * pi\n",
    "\n",
    "print(f\"O valor de pi é: {pi}\")\n",
    "print()\n",
    "\n",
    "print(f\"O valor de pi com cinco algarismos significativos é: {pi:.5}\")\n",
    "print()\n",
    "\n",
    "print(f\"O valor de pi com apenas duas casas decimais é: {pi:.2f}\")\n",
    "print()\n",
    "\n",
    "# nome e valor de uma variável\n",
    "print(f\"{tau = }\")\n",
    "print()\n",
    "\n",
    "# executando operações dentro dos colchetes\n",
    "print(f\"Tau é maior que pi? {tau > pi}\")\n",
    "print()\n",
    "\n",
    "print(f\"Converter um número para porcentagem com duas casas decimais: {(1/3):.2%}\")\n",
    "print()\n",
    "\n",
    "# combinando execução com exibição\n",
    "print(f\"{tau * 2 = }\")\n",
    "print()\n",
    "\n",
    "print(f\"Para exibir colchetes dentro de f-strings use eles dobrados. {{Desta forma!}}. O valor de pi é {pi}.\")"
   ]
  },
  {
   "cell_type": "markdown",
   "metadata": {},
   "source": [
    "## Processamento de texto"
   ]
  },
  {
   "cell_type": "markdown",
   "metadata": {},
   "source": [
    "Existem duas outras maneiras de formatar uma string, porém elas não são mais recomendadas para uso geral e sim para casos muito específicos. Vale a pena saber que elas existem:\n",
    "\n",
    "1. **%-strings:** leia sobre isso na [documentação oficial](https://docs.python.org/pt-br/3.9/library/stdtypes.html\\#printf-style-string-formatting). Essa é a uma excelente forma para se formatar strings contendo códigos em \\LaTeX{} pois estes códigos contém muitos colchetes. No entanto, este método deve ser evitado caso possível. Diversos textos mais antigos ainda ensinam esse método pois as f-strings são uma invenção mais recente.\n",
    "2. **Méotodo format:** leia sobre isso na [documentação oficial](https://docs.python.org/pt-br/3.9/library/stdtypes.html\\#str.format). Não apresenta muita vantagem perante as f-strings. Uma pequena vantagem é quando queremos formatar uma string em várias posições com a mesma variável. Outra vantagem do método \\texttt{format} é que ele é uma função, logo é um objeto de Python e pode ser utilizado como argumento de outras funções caso necessário. Ambos os casos atendem situações bastante específicas e não muito usuais."
   ]
  },
  {
   "cell_type": "markdown",
   "metadata": {},
   "source": [
    "**Exercício 2)** Faça um programa que recebe o nome do usuário pelo comando ***input***. Usando f-strings, inicie uma conversa chamando o usuário pelo nome dele e pergunte a sua cor favorita. Se a cor favorita do usuário começar com a letra \"v\", diga para ele que ele tem muito bom gosto. Do contrário, diga que hoje é um belo dia e deseje boa sorte na sua jornada."
   ]
  },
  {
   "cell_type": "code",
   "execution_count": 20,
   "metadata": {},
   "outputs": [
    {
     "name": "stdin",
     "output_type": "stream",
     "text": [
      "Qual o seu nome? nome\n",
      " Olá, nome! Qual é sua cor favorita? gg\n"
     ]
    },
    {
     "name": "stdout",
     "output_type": "stream",
     "text": [
      "nome, tenha um ótimo dia e boa sorte em sua jornada!\n"
     ]
    }
   ],
   "source": [
    "nome = input (\"Qual o seu nome?\")\n",
    "cor_fav = input (f\" Olá, {nome}! Qual é sua cor favorita?\")\n",
    "\n",
    "if (cor_fav[0] == \"v\"):\n",
    "    print (f\"{nome}, você tem bom gosto!\")\n",
    "else:\n",
    "    print (f\"{nome}, tenha um ótimo dia e boa sorte em sua jornada!\")"
   ]
  },
  {
   "cell_type": "code",
   "execution_count": 26,
   "metadata": {},
   "outputs": [
    {
     "name": "stdout",
     "output_type": "stream",
     "text": [
      "Obrigado mario! mas a nossa princesa está em outro castelo...\n",
      "Obrigado Mario! Mas A Nossa Princesa Está Em Outro Castelo...\n",
      "obrigado mario! mas a nossa princesa está em outro castelo...\n",
      "OBRIGADO MARIO! MAS A NOSSA PRINCESA ESTÁ EM OUTRO CASTELO...\n",
      "oBRIGADO mARIO! mAS A NOSSA PRINCESA ESTÁ EM OUTRO CASTELO...\n"
     ]
    }
   ],
   "source": [
    "texto = \"Obrigado Mario! Mas a nossa princesa está em outro castelo...\"\n",
    "\n",
    "# Apenas a primeira letra escrita com maiúscula\n",
    "print(texto.capitalize())\n",
    "\n",
    "# As primeiras letras de todas as palavras escritas com maiúsculas\n",
    "print(texto.title())\n",
    "\n",
    "# Todas as letras minúsculas\n",
    "print(texto.lower())\n",
    "\n",
    "# Todas as letras maiúsculas\n",
    "print(texto.upper())\n",
    "\n",
    "# Inverte a caixa das letras\n",
    "print(texto.swapcase())"
   ]
  },
  {
   "cell_type": "markdown",
   "metadata": {},
   "source": [
    "Podemos processar strings alterando a caixa de seus caracteres."
   ]
  },
  {
   "cell_type": "markdown",
   "metadata": {},
   "source": [
    "Podemos substituir certas partes de uma string por outras."
   ]
  },
  {
   "cell_type": "code",
   "execution_count": 20,
   "metadata": {},
   "outputs": [
    {
     "name": "stdout",
     "output_type": "stream",
     "text": [
      "Eu aprecio acarajé.\n",
      "Eu adoro acarajé.\n",
      "Eu amo acarajé.\n",
      "Eu acredito que todas as refeições poderiam ter acarajé.\n"
     ]
    }
   ],
   "source": [
    "texto = \"Eu gosto de acarajé.\"\n",
    "\n",
    "print(texto.replace(\"gosto de\",\"aprecio\"))\n",
    "print(texto.replace(\"gosto de\",\"adoro\"))\n",
    "print(texto.replace(\"gosto de\",\"amo\"))\n",
    "print(texto.replace(\"gosto de\",\"acredito que todas as refeições poderiam ter\"))"
   ]
  },
  {
   "cell_type": "markdown",
   "metadata": {},
   "source": [
    "Mas lembre-se que strings são imutáveis! Então, quando usamos os métodos, não estamos alterando as strings originais, mas sim criando strings novas."
   ]
  },
  {
   "cell_type": "code",
   "execution_count": 28,
   "metadata": {},
   "outputs": [
    {
     "name": "stdout",
     "output_type": "stream",
     "text": [
      "Seu nome é Jackie, Jackie Tequila\n",
      "SEU NOME É JACKIE, JACKIE TEQUILA\n"
     ]
    }
   ],
   "source": [
    "texto1 = \"Seu nome é Jackie, Jackie Tequila\"\n",
    "\n",
    "texto2 = texto1.upper()\n",
    "\n",
    "print(texto1)  # esta variável não foi alterada!\n",
    "print(texto2)  # esta variável foi alterada!"
   ]
  },
  {
   "cell_type": "markdown",
   "metadata": {},
   "source": [
    "Uma parte importante do processamento de strings é a habilidade de dividir uma string longa e partes menores. Podemos fazer isso com o método ***split***. Este método recebe uma string como argumento e retorna uma lista. O argumento de entrada é o separador, ele que será usado para \"dividir\" sua string original. Vamos ver um exemplo."
   ]
  },
  {
   "cell_type": "code",
   "execution_count": 26,
   "metadata": {},
   "outputs": [
    {
     "name": "stdout",
     "output_type": "stream",
     "text": [
      "['O', 'último', 'ser', 'vivo', 'do', 'planeta', 'estava', 'na', 'sua', 'casa,', 'sozinho.', 'De', 'repente,', 'alguém', 'bateu', 'na', 'sua', 'porta.']\n",
      "O texto tem 18 palavras\n",
      "['O último ser vivo do planeta estava na sua casa, sozinho', ' De repente, alguém bateu na sua porta', '']\n",
      "O texto tem 3 frases? ... acho que não!\n"
     ]
    }
   ],
   "source": [
    "mini_historia_de_terror = \"O último ser vivo do planeta estava na sua casa, sozinho. De repente, alguém bateu na sua porta.\"\n",
    "\n",
    "palavras = mini_historia_de_terror.split(\" \")\n",
    "\n",
    "print(palavras)\n",
    "print(f\"O texto tem {len(palavras)} palavras\")\n",
    "\n",
    "frases = mini_historia_de_terror.split(\".\")\n",
    "print(frases)\n",
    "print(f\"O texto tem {len(frases)} frases? ... acho que não!\")"
   ]
  },
  {
   "cell_type": "markdown",
   "metadata": {},
   "source": [
    "O método \"oposto\" ao ***split*** é o ***join***. Este método recebe uma lista de strings e agrupa elas. O exemplo abaixo ilustra a utilização desse método."
   ]
  },
  {
   "cell_type": "code",
   "execution_count": 31,
   "metadata": {},
   "outputs": [
    {
     "name": "stdout",
     "output_type": "stream",
     "text": [
      "O último ser vivo do planeta estava na sua casa, sozinho. De repente, alguém bateu na sua porta.\n",
      "\n",
      "O_último_ser_vivo_do_planeta_estava_na_sua_casa,_sozinho._De_repente,_alguém_bateu_na_sua_porta.\n",
      "\n",
      "O-último-ser-vivo-do-planeta-estava-na-sua-casa,-sozinho.-De-repente,-alguém-bateu-na-sua-porta.\n",
      "\n",
      "O*_ . _*último*_ . _*ser*_ . _*vivo*_ . _*do*_ . _*planeta*_ . _*estava*_ . _*na*_ . _*sua*_ . _*casa,*_ . _*sozinho.*_ . _*De*_ . _*repente,*_ . _*alguém*_ . _*bateu*_ . _*na*_ . _*sua*_ . _*porta.\n"
     ]
    }
   ],
   "source": [
    "lista = [\n",
    "    \"O\",\n",
    "    \"último\",\n",
    "    \"ser\",\n",
    "    \"vivo\",\n",
    "    \"do\",\n",
    "    \"planeta\",\n",
    "    \"estava\",\n",
    "    \"na\",\n",
    "    \"sua\",\n",
    "    \"casa,\",\n",
    "    \"sozinho.\",\n",
    "    \"De\",\n",
    "    \"repente,\",\n",
    "    \"alguém\",\n",
    "    \"bateu\",\n",
    "    \"na\",\n",
    "    \"sua\",\n",
    "    \"porta.\",\n",
    "]\n",
    "\n",
    "cola = \" \"\n",
    "tudo_junto = cola.join(lista)\n",
    "print(tudo_junto)\n",
    "print()\n",
    "\n",
    "cola = \"_\"\n",
    "tudo_junto2 = cola.join(lista)\n",
    "print(tudo_junto2)\n",
    "print()\n",
    "\n",
    "cola = \"-\"\n",
    "tudo_junto3 = cola.join(lista)\n",
    "print(tudo_junto3)\n",
    "print()\n",
    "\n",
    "cola = \"*_ . _*\"  # a cola pode ser o que você quiser\n",
    "tudo_junto4 = cola.join(lista)\n",
    "print(tudo_junto4)"
   ]
  },
  {
   "cell_type": "markdown",
   "metadata": {},
   "source": [
    "**Exercício 3)** Escolha uma notícia de jornal que tenha mais de 500 palavras. Crie uma string com o texto desta notícia (dica: strings com três aspas permitem texto com mais de uma linha!). Seu objetivo é processar este texto e mostrar quais são as 10 palavras mais usadas nele.\n",
    "\n",
    "**Exercício 4)** Faça uma função que recebe uma string qualquer e retorna uma lista contendo todos os números presentes na sua string. Por exemplo, se a função receber a string \"Hoje fazem 2 dias que eu fiz 65 anos.\" ela deve retornar a lista \"[2, 65]\"."
   ]
  },
  {
   "cell_type": "markdown",
   "metadata": {},
   "source": [
    "**Desafio** Faça uma função que recebe uma string contendo uma frase. A função deve retornar uma string contendo as mesmas palavras, porém invertidas. Por exemplo, caso a função receba a string \"Ser ou não ser eis a questão\" ela retorna \"reS uo oãn res sie a oãtseuq\"."
   ]
  },
  {
   "cell_type": "code",
   "execution_count": 26,
   "metadata": {},
   "outputs": [
    {
     "data": {
      "text/plain": [
       "['45', '78', '55']"
      ]
     },
     "execution_count": 26,
     "metadata": {},
     "output_type": "execute_result"
    }
   ],
   "source": [
    "#ecercio 4\n",
    "\n",
    "def funcao(string):\n",
    "    palavras = string.split(\" \")\n",
    "    numeros_que_aparecem = []\n",
    "\n",
    "    for elemento in palavras:\n",
    "        if elemento.isnumeric():\n",
    "            numeros_que_aparecem.append(elemento)\n",
    "\n",
    "    return numeros_que_aparecem\n",
    "\n",
    "string = \"gggg 45 78 55 gg\"\n",
    "funcao(string)\n",
    "    "
   ]
  },
  {
   "cell_type": "code",
   "execution_count": 46,
   "metadata": {},
   "outputs": [
    {
     "data": {
      "text/plain": [
       "['de', 'que', 'para', 'a', 'um', 'e', 'saúde', 'mais', 'são', 'iogurte']"
      ]
     },
     "execution_count": 46,
     "metadata": {},
     "output_type": "execute_result"
    }
   ],
   "source": [
    "#exercicio 3\n",
    "\n",
    "noticia = \"\"\"Alerta dos estudiosos\n",
    "Os pesquisadores ressaltam que, apesar das evidências promissoras, mais estudos são necessários para confirmar essa relação.\n",
    "\n",
    "Apesar disso, Tomotaka Ugai, coautor sênior do estudo, reforça a importância da descoberta: “Há muito tempo acredita-se que iogurte e outros produtos lácteos fermentados são benéficos para a saúde gastrointestinal. (…) Nossas novas descobertas sugerem que esse efeito protetor pode ser específico para tumores Bifidobacterium-positivos.”\n",
    "\n",
    "O estudo acrescenta mais um elemento à crescente evidência de que a dieta tem um papel fundamental na saúde intestinal e no risco de doenças graves, como o câncer colorretal. \n",
    "\n",
    "Embora o consumo de iogurte possa ser um fator positivo para a saúde intestinal, os especialistas destacam que ele deve fazer parte de um estilo de vida equilibrado, que inclua uma alimentação saudável, prática de exercícios e acompanhamento médico regular.\"\"\"\n",
    "\n",
    "qtd = []\n",
    "palavras_qtd = {}\n",
    "\n",
    "palavras = noticia.split(\" \")\n",
    "\n",
    "for elemento in palavras:\n",
    "    qtd.append(palavras.count(elemento))\n",
    "\n",
    "for i in palavras:\n",
    "    if i not in palavras_qtd:\n",
    "        palavras_qtd[i] = 1\n",
    "    else:\n",
    "        palavras_qtd[i] += 1\n",
    "\n",
    "\n",
    "#print (palavras_qtd)\n",
    "\n",
    "\n",
    "sorted(palavras_qtd, key=palavras_qtd.get, reverse=True)[:10]\n",
    "#o metodo sort ordena os elementos de uma lista, no caso das chaves do dicionário na ordem decrescente, pois:\n",
    "#o argumento key estabelece qual parâmetro será utilizado na ordenação, no caso palavras_qtd.get representa os valores do dicionário, que é justamente o que queremos selecionar\n",
    "#revserse = true significa que a ordenação será ao contrário, em ordem decrescente, como um ranking\n",
    "#:10 significa que escolhemos apenas os 10 itens da lista gerada pelo sorted, ao invés da lista completa formada pelas chaves\n",
    "# Com essa linha, conseguimos:\n",
    "#selecionar os 10 maiores valores do dicionario palavras_qtd\n",
    "#selecionar as chaves cujos valores são os dos dais maiores valores\n",
    "\n",
    "\n"
   ]
  },
  {
   "cell_type": "code",
   "execution_count": null,
   "metadata": {},
   "outputs": [],
   "source": []
  }
 ],
 "metadata": {
  "kernelspec": {
   "display_name": "Python 3 (ipykernel)",
   "language": "python",
   "name": "python3"
  },
  "language_info": {
   "codemirror_mode": {
    "name": "ipython",
    "version": 3
   },
   "file_extension": ".py",
   "mimetype": "text/x-python",
   "name": "python",
   "nbconvert_exporter": "python",
   "pygments_lexer": "ipython3",
   "version": "3.12.7"
  }
 },
 "nbformat": 4,
 "nbformat_minor": 4
}
