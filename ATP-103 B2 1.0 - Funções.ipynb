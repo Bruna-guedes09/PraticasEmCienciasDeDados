{
 "cells": [
  {
   "cell_type": "markdown",
   "id": "ad10b29b-e910-4ec1-8724-3a1672326d62",
   "metadata": {},
   "source": [
    "Funções\n",
    "=======\n",
    "\n",
    "**Autor:** Daniel R. Cassar\n",
    "\n"
   ]
  },
  {
   "cell_type": "markdown",
   "id": "7aa2e27a-9410-45a5-9165-b794114f4840",
   "metadata": {},
   "source": [
    "## Introdução\n",
    "\n"
   ]
  },
  {
   "cell_type": "markdown",
   "id": "a0008b36-d767-4717-be94-8253c02a307d",
   "metadata": {},
   "source": [
    "Uma função é um código de Python reaproveitável. Uma função tem quatro partes:\n",
    "\n",
    "1.  um *nome*,\n",
    "2.  zero ou mais objetos chamados de *argumento*,\n",
    "3.  um bloco de código chamado de *corpo da função*,\n",
    "4.  zero ou mais objetos chamados de *retorno*.\n",
    "\n",
    "Basicamente, ao executar uma função ela recebe zero ou mais objetos (argumento), executa seu bloco de código (podendo usar os argumentos recebidos) e retorna zero ou mais objetos (retorno).\n",
    "\n",
    "Veja que o conceito de função em programação não é o mesmo que o conceito de função em matemática. Certas funções em programação podem ser chamadas de funções matemáticas, porém não todas!\n",
    "\n"
   ]
  },
  {
   "cell_type": "markdown",
   "id": "98853105-6da5-41df-9a73-141586eb04ec",
   "metadata": {},
   "source": [
    "## Definindo e executando funções\n",
    "\n"
   ]
  },
  {
   "cell_type": "markdown",
   "id": "78f21d95-6345-4e20-839e-1cdbe8c30bd9",
   "metadata": {},
   "source": [
    "### Função sem retorno e sem argumento\n",
    "\n"
   ]
  },
  {
   "cell_type": "code",
   "execution_count": null,
   "id": "3a1dbdc4-6da7-4856-8b8c-76e06d0ab4e8",
   "metadata": {},
   "outputs": [],
   "source": [
    "def minha_funcao():\n",
    "    print(\"Olá, eu estou dentro de uma função.\")"
   ]
  },
  {
   "cell_type": "code",
   "execution_count": null,
   "id": "1da9c13d-0729-4d5f-af2a-f802e98752a7",
   "metadata": {},
   "outputs": [],
   "source": [
    "minha_funcao()"
   ]
  },
  {
   "cell_type": "markdown",
   "id": "05caffa4-07b1-4cf9-a93d-daa4f49e7cd5",
   "metadata": {},
   "source": [
    "### Função com um argumento\n",
    "\n"
   ]
  },
  {
   "cell_type": "code",
   "execution_count": null,
   "id": "40c03c28-8e9f-4570-9690-ba2661f88b01",
   "metadata": {},
   "outputs": [],
   "source": [
    "def minha_funcao(argumento):\n",
    "    print(\"Olá, eu estou dentro de uma função.\")\n",
    "    print(\"O valor do argumento é:\", argumento)\n",
    "    print(\"O valor do argumento ao quadrado é:\", argumento**2)"
   ]
  },
  {
   "cell_type": "code",
   "execution_count": null,
   "id": "53083546-9a69-47fc-a3be-ed10018f5c00",
   "metadata": {},
   "outputs": [],
   "source": [
    "minha_funcao(10)"
   ]
  },
  {
   "cell_type": "code",
   "execution_count": null,
   "id": "3bb9fdad-d410-407c-a437-e83fd456dbcc",
   "metadata": {},
   "outputs": [],
   "source": [
    "minha_funcao(-5)"
   ]
  },
  {
   "cell_type": "markdown",
   "id": "b11c0696-13c9-44a8-8cb2-cdc2edfbce8f",
   "metadata": {},
   "source": [
    "### Função com mais de um argumento\n",
    "\n"
   ]
  },
  {
   "cell_type": "code",
   "execution_count": null,
   "id": "e82fe7ca-038d-40af-a06b-ae01e53f57b0",
   "metadata": {},
   "outputs": [],
   "source": [
    "def minha_funcao(argumento1, argumento2):\n",
    "    print(\"Olá, eu estou dentro de uma função.\")\n",
    "    print(\"O valor do argumento 1 é:\", argumento1)\n",
    "    print(\"O valor do argumento 2 é:\", argumento2)\n",
    "    print(\"A soma dos argumento é:\", argumento1 + argumento2)"
   ]
  },
  {
   "cell_type": "code",
   "execution_count": null,
   "id": "ad29b966-f580-497d-9b81-4c104c98f5af",
   "metadata": {},
   "outputs": [],
   "source": [
    "minha_funcao(1, 2)"
   ]
  },
  {
   "cell_type": "code",
   "execution_count": null,
   "id": "d19c1687-3585-42dd-8bdd-876afeaf6c67",
   "metadata": {},
   "outputs": [],
   "source": [
    "minha_funcao(1234, 3.14)"
   ]
  },
  {
   "cell_type": "markdown",
   "id": "c3c4038f-ee3f-40c4-a6f4-92720f0cdf8e",
   "metadata": {},
   "source": [
    "### Função com retorno\n",
    "\n"
   ]
  },
  {
   "cell_type": "code",
   "execution_count": null,
   "id": "54d9a09b-5d7c-4b59-9840-b5337a96d1dd",
   "metadata": {},
   "outputs": [],
   "source": [
    "def minha_funcao(argumento1, argumento2):\n",
    "    resultado = argumento1 + argumento2\n",
    "    resultado = resultado + 10\n",
    "    return resultado"
   ]
  },
  {
   "cell_type": "code",
   "execution_count": null,
   "id": "c4a12252-4339-4cbc-b776-da19df12e8b8",
   "metadata": {},
   "outputs": [],
   "source": [
    "retorno = minha_funcao(321, 123)\n",
    "print(retorno)"
   ]
  },
  {
   "cell_type": "markdown",
   "id": "dd2470fb-d156-45ff-b0ea-864272e10592",
   "metadata": {},
   "source": [
    "### Função com mais de um retorno\n",
    "\n"
   ]
  },
  {
   "cell_type": "code",
   "execution_count": null,
   "id": "bf495825-0e48-45fa-ba89-68319edb604d",
   "metadata": {},
   "outputs": [],
   "source": [
    "def minha_funcao(argumento1, argumento2):\n",
    "    resultado1 = argumento1 * 10\n",
    "    resultado2 = argumento2**2\n",
    "    return resultado1, resultado2"
   ]
  },
  {
   "cell_type": "code",
   "execution_count": null,
   "id": "3a6550ee-bcd9-4491-8359-13c556408692",
   "metadata": {},
   "outputs": [],
   "source": [
    "retorno1, retorno2 = minha_funcao(321, 123)\n",
    "\n",
    "print(retorno1)\n",
    "print(retorno2)"
   ]
  },
  {
   "cell_type": "markdown",
   "id": "3c05e2a6-d658-46d7-8a8e-67032a31369a",
   "metadata": {},
   "source": [
    "### Ordem dos argumentos\n",
    "\n"
   ]
  },
  {
   "cell_type": "markdown",
   "id": "c853bbff-f678-4c5a-bdff-04925539b7fe",
   "metadata": {},
   "source": [
    "A ordem dos argumentos é muito importante durante a execução de funções com dois ou mais argumentos. O exemplo abaixo ilustra isso: a inversão da ordem dos argumentos altera o resultado do retorno da função. Cada argumento de uma função tem a sua <u>posição</u>, então é necessário se atentar a ordem dos argumentos para evitar erros.\n",
    "\n"
   ]
  },
  {
   "cell_type": "code",
   "execution_count": null,
   "id": "2001194b-fd95-4fab-a99f-ce78805786a4",
   "metadata": {},
   "outputs": [],
   "source": [
    "def exponenciacao(base, expoente):\n",
    "    return base ** expoente\n",
    "\n",
    "\n",
    "print(exponenciacao(10, 2))\n",
    "print(exponenciacao(2, 10))"
   ]
  },
  {
   "cell_type": "markdown",
   "id": "e93a02e1-618b-4234-be70-f801388415db",
   "metadata": {},
   "source": [
    "## Exercícios\n",
    "\n"
   ]
  },
  {
   "cell_type": "markdown",
   "id": "d594818c-2479-4250-b416-676008495f32",
   "metadata": {},
   "source": [
    "### Nome, argumento, corpo e retorno\n",
    "\n"
   ]
  },
  {
   "cell_type": "markdown",
   "id": "d6f3dda5-9ded-4ddb-ab0f-e1cca115dc65",
   "metadata": {},
   "source": [
    "Identifique o nome, os argumentos, o corpo e os retornos das funções definidas acima.\n",
    "\n"
   ]
  },
  {
   "cell_type": "markdown",
   "id": "f85bf3c8-7bfc-4728-8b92-a4fb826249be",
   "metadata": {},
   "source": [
    "### Soma dos números pares\n",
    "\n"
   ]
  },
  {
   "cell_type": "markdown",
   "id": "048698af-9ad3-4f30-b111-8d7817248216",
   "metadata": {},
   "source": [
    "Faça uma função que recebe três argumentos, todos eles inteiros. A função deve retornar o valor da soma de todos os argumentos pares.\n",
    "\n"
   ]
  },
  {
   "cell_type": "code",
   "execution_count": 31,
   "id": "3cdfd556-cd5c-453b-a710-db8391fc9f0a",
   "metadata": {},
   "outputs": [
    {
     "data": {
      "text/plain": [
       "14"
      ]
     },
     "execution_count": 31,
     "metadata": {},
     "output_type": "execute_result"
    }
   ],
   "source": [
    "def soma_pares(numero1, numero2, numero3):\n",
    "\n",
    "    soma = 0\n",
    "    if numero1 % 2 == 0:\n",
    "        soma = numero1    \n",
    "    if numero2 % 2 == 0:\n",
    "        soma = soma + numero2\n",
    "    if numero3 % 2 == 0:\n",
    "        soma = soma + numero3\n",
    "    return soma\n",
    "\n",
    "soma_pares (2, 4, 8)"
   ]
  },
  {
   "cell_type": "markdown",
   "id": "566d353a-4d43-42e3-9bbe-ea8257c81d0e",
   "metadata": {},
   "source": [
    "### Ordem e argumentos\n",
    "\n"
   ]
  },
  {
   "cell_type": "markdown",
   "id": "fa813302-ee20-474e-b3cd-1e17e5a6d62b",
   "metadata": {},
   "source": [
    "Faça uma função que recebe três argumentos numéricos e tem três retornos. Os retornos são os valores dos argumentos em ordem crescente.\n",
    "\n"
   ]
  },
  {
   "cell_type": "code",
   "execution_count": 38,
   "id": "c41af30d-2b22-42aa-bd8f-9eb6080dd094",
   "metadata": {},
   "outputs": [
    {
     "data": {
      "text/plain": [
       "(5, 6, 9)"
      ]
     },
     "execution_count": 38,
     "metadata": {},
     "output_type": "execute_result"
    }
   ],
   "source": [
    "def ordenador(num1, num2, num3):\n",
    "\n",
    "    if num1 >= num2 and num1 >= num3:\n",
    "        val3 = num1\n",
    "\n",
    "        if num2 >= num3:\n",
    "            val1 = num3\n",
    "            val2 = num2\n",
    "        else:\n",
    "            val1 = num2\n",
    "            val2 = num3\n",
    "            \n",
    "    elif num1 <= num2 and num1 <= num3:\n",
    "        val1 = num1\n",
    "\n",
    "        if num2 >= num3:\n",
    "            val3 = num2\n",
    "            val2 = num3\n",
    "        else:\n",
    "            val1 = num2\n",
    "            val2 = num3\n",
    "    else:\n",
    "        val2 = num1\n",
    "\n",
    "        if num2 >= num3:\n",
    "            val1 = num3\n",
    "            val3 = num2\n",
    "        else:\n",
    "\n",
    "            val3 = num3\n",
    "            val1 = num2\n",
    "    \n",
    "    return val1, val2, val3\n",
    "\n",
    "ordenador (9, 6, 5)"
   ]
  },
  {
   "cell_type": "code",
   "execution_count": 39,
   "id": "941772fd-2826-4540-9e98-ef8e7c3d87f9",
   "metadata": {},
   "outputs": [
    {
     "name": "stdout",
     "output_type": "stream",
     "text": [
      "Lista não ordenada:  [2, -5, 7, 90, 1]\n",
      "Lista ordenada:  [-5, 1, 2, 7, 90]\n"
     ]
    }
   ],
   "source": [
    "def bubble_sort(elemento):\n",
    "    n = len(elemento) #numero de elementos da lista elementos\n",
    "    for i in range(n): #cria uma lista com o numero de elementos\n",
    "        for j in range(0, n-i-1):\n",
    "            if elemento[j] > elemento[j+1]:\n",
    "                elemento[j], elemento[j+1] = elemento[j+1], elemento[j]\n",
    "    return elemento\n",
    "\n",
    "lista = [2,-5,7,90,1]\n",
    "print(\"Lista não ordenada: \", lista)\n",
    "\n",
    "print(\"Lista ordenada: \", bubble_sort(lista))"
   ]
  },
  {
   "cell_type": "markdown",
   "id": "5a725daf-6422-4e83-94df-4f940f3b58ef",
   "metadata": {},
   "source": [
    "## Argumentos nomeados\n",
    "\n"
   ]
  },
  {
   "cell_type": "markdown",
   "id": "64214794-2b33-4294-9a32-dc454000927f",
   "metadata": {},
   "source": [
    "Os argumentos da função `exponenciacao` abaixo têm nome: um deles se chama `base` e o outro se chama `expoente`.\n",
    "\n"
   ]
  },
  {
   "cell_type": "code",
   "execution_count": null,
   "id": "17c7f9a9-a712-4527-917e-2378da229c41",
   "metadata": {},
   "outputs": [],
   "source": [
    "def exponenciacao(base, expoente):\n",
    "    return base ** expoente"
   ]
  },
  {
   "cell_type": "markdown",
   "id": "a1a6a992-844a-4f80-a499-c902bf604661",
   "metadata": {},
   "source": [
    "Podemos chamar os argumentos pelos seus nomes, veja os exemplos abaixo.\n",
    "\n"
   ]
  },
  {
   "cell_type": "code",
   "execution_count": null,
   "id": "f25905fb-7419-4281-9db9-9ec3bdf30280",
   "metadata": {},
   "outputs": [],
   "source": [
    "exponenciacao(base=10, expoente=2)"
   ]
  },
  {
   "cell_type": "code",
   "execution_count": null,
   "id": "be15b497-d15d-4918-8668-b49451f27fbe",
   "metadata": {},
   "outputs": [],
   "source": [
    "exponenciacao(expoente=2, base=10)"
   ]
  },
  {
   "cell_type": "code",
   "execution_count": null,
   "id": "5ade65b3-b076-4e30-8926-a773b1776450",
   "metadata": {},
   "outputs": [],
   "source": [
    "exponenciacao(10, expoente=2)"
   ]
  },
  {
   "cell_type": "markdown",
   "id": "a4aa90cb-81c8-42b4-9d7d-b4b933116a5c",
   "metadata": {},
   "source": [
    "Caso algum argumento esteja faltando, o Python irá acusar um erro! Veja os exemplos abaixo.\n",
    "\n"
   ]
  },
  {
   "cell_type": "code",
   "execution_count": 26,
   "id": "0407ecb8-76f0-46ef-a660-5c1511142102",
   "metadata": {},
   "outputs": [
    {
     "ename": "NameError",
     "evalue": "name 'exponenciacao' is not defined",
     "output_type": "error",
     "traceback": [
      "\u001b[1;31m---------------------------------------------------------------------------\u001b[0m",
      "\u001b[1;31mNameError\u001b[0m                                 Traceback (most recent call last)",
      "Cell \u001b[1;32mIn[26], line 1\u001b[0m\n\u001b[1;32m----> 1\u001b[0m \u001b[43mexponenciacao\u001b[49m(expoente\u001b[38;5;241m=\u001b[39m\u001b[38;5;241m2\u001b[39m)\n",
      "\u001b[1;31mNameError\u001b[0m: name 'exponenciacao' is not defined"
     ]
    }
   ],
   "source": [
    "exponenciacao(expoente=2)"
   ]
  },
  {
   "cell_type": "code",
   "execution_count": 27,
   "id": "05242832-2983-4320-b76c-93379bd4f305",
   "metadata": {},
   "outputs": [
    {
     "ename": "NameError",
     "evalue": "name 'exponenciacao' is not defined",
     "output_type": "error",
     "traceback": [
      "\u001b[1;31m---------------------------------------------------------------------------\u001b[0m",
      "\u001b[1;31mNameError\u001b[0m                                 Traceback (most recent call last)",
      "Cell \u001b[1;32mIn[27], line 1\u001b[0m\n\u001b[1;32m----> 1\u001b[0m \u001b[43mexponenciacao\u001b[49m(base\u001b[38;5;241m=\u001b[39m\u001b[38;5;241m10\u001b[39m)\n",
      "\u001b[1;31mNameError\u001b[0m: name 'exponenciacao' is not defined"
     ]
    }
   ],
   "source": [
    "exponenciacao(base=10)"
   ]
  },
  {
   "cell_type": "markdown",
   "id": "bb3c0acb-e7ad-4308-aa6e-11af7933489f",
   "metadata": {},
   "source": [
    "Nenhum argumento não-nomeado pode existir depois de um argumento nomeado.\n",
    "\n"
   ]
  },
  {
   "cell_type": "code",
   "execution_count": 28,
   "id": "6017e1e1-9226-47d5-8767-0a5ff04cd7b6",
   "metadata": {},
   "outputs": [
    {
     "ename": "SyntaxError",
     "evalue": "positional argument follows keyword argument (1597552367.py, line 1)",
     "output_type": "error",
     "traceback": [
      "\u001b[1;36m  Cell \u001b[1;32mIn[28], line 1\u001b[1;36m\u001b[0m\n\u001b[1;33m    exponenciacao(expoente=2, 10)\u001b[0m\n\u001b[1;37m                                ^\u001b[0m\n\u001b[1;31mSyntaxError\u001b[0m\u001b[1;31m:\u001b[0m positional argument follows keyword argument\n"
     ]
    }
   ],
   "source": [
    "exponenciacao(expoente=2, 10)"
   ]
  },
  {
   "cell_type": "markdown",
   "id": "4d03628b-f415-4bcc-88e8-e88cad328633",
   "metadata": {},
   "source": [
    "## Valor padrão\n",
    "\n"
   ]
  },
  {
   "cell_type": "markdown",
   "id": "9c531302-fa63-4f4d-ac6a-e623f991c35d",
   "metadata": {},
   "source": [
    "É possível fornecer um valor padrão para os argumentos. Veja o exemplo abaixo onde o argumento `expoente` tem um valor padrão de `5`.\n",
    "\n"
   ]
  },
  {
   "cell_type": "code",
   "execution_count": null,
   "id": "9be72b02-9f8c-49dc-b7a3-eb70e7557597",
   "metadata": {},
   "outputs": [],
   "source": [
    "def exponenciacao(base, expoente=5):\n",
    "    return base ** expoente"
   ]
  },
  {
   "cell_type": "markdown",
   "id": "745788c9-1558-4939-95ce-161e108546ba",
   "metadata": {},
   "source": [
    "Com isso, podemos utilizar esta função sem a necessidade de passar um valor para o argumento `expoente`.\n",
    "\n"
   ]
  },
  {
   "cell_type": "code",
   "execution_count": null,
   "id": "521c9013-c6a0-4669-a0f0-a3ca3622c174",
   "metadata": {},
   "outputs": [],
   "source": [
    "exponenciacao(base=10)"
   ]
  },
  {
   "cell_type": "code",
   "execution_count": null,
   "id": "4e3c0528-a53d-42e7-8aad-7d8fe3b6e922",
   "metadata": {},
   "outputs": [],
   "source": [
    "exponenciacao(10)"
   ]
  },
  {
   "cell_type": "markdown",
   "id": "cfbcc0ab-4823-499a-bd1f-0dcd64f9f421",
   "metadata": {},
   "source": [
    "A existência de um valor padrão não nos impede de usar *outro* valor.\n",
    "\n"
   ]
  },
  {
   "cell_type": "code",
   "execution_count": null,
   "id": "bc415b7c-6c64-429c-819b-9f3a540010f4",
   "metadata": {},
   "outputs": [],
   "source": [
    "exponenciacao(10, 2)"
   ]
  },
  {
   "cell_type": "markdown",
   "id": "e36438e1-e0a4-420d-a406-63b877e131cf",
   "metadata": {},
   "source": [
    "Argumentos sem valor padrão devem ser definidos, do contrário você terá um erro.\n",
    "\n"
   ]
  },
  {
   "cell_type": "code",
   "execution_count": null,
   "id": "4f40f0df-59fa-4a78-bc35-0a48f7007cbc",
   "metadata": {},
   "outputs": [],
   "source": [
    "exponenciacao(expoente=2)"
   ]
  },
  {
   "cell_type": "markdown",
   "id": "7739c45a-28be-4b76-994b-d22692f592e6",
   "metadata": {},
   "source": [
    "**Observação**: argumentos sem valor padrão nunca podem existir *após* argumentos com valor padrão. É por isso que o código abaixo da erro.\n",
    "\n"
   ]
  },
  {
   "cell_type": "code",
   "execution_count": null,
   "id": "c835f138-a0ba-4243-b8c2-3b763be5c8be",
   "metadata": {},
   "outputs": [],
   "source": [
    "def exponenciacao(base=10, expoente):\n",
    "    return base ** expoente"
   ]
  },
  {
   "cell_type": "markdown",
   "id": "135b25a0-6565-4181-8b97-b8a9dcb5ba3d",
   "metadata": {},
   "source": [
    "## Exercício\n",
    "\n"
   ]
  },
  {
   "cell_type": "markdown",
   "id": "793ec68a-6d35-4c5e-a287-836683615b05",
   "metadata": {},
   "source": [
    "### Dentro do padrão\n",
    "\n"
   ]
  },
  {
   "cell_type": "markdown",
   "id": "60fa9db1-d18a-4d72-b320-c64d8252e66f",
   "metadata": {},
   "source": [
    "Faça uma função que tenha pelo menos dois argumentos e realiza uma tarefa que você considera útil. Dê um valor padrão para um dos argumentos e justifique sua escolha.\n",
    "\n"
   ]
  },
  {
   "cell_type": "code",
   "execution_count": 4,
   "id": "5d7d22dd-b68e-435f-92a3-e5eff3ae5fa0",
   "metadata": {},
   "outputs": [
    {
     "data": {
      "text/plain": [
       "1"
      ]
     },
     "execution_count": 4,
     "metadata": {},
     "output_type": "execute_result"
    }
   ],
   "source": [
    "def funcao_util(numero1, numero2):\n",
    "    return numero1 % numero2\n",
    "funcao_util (10,9)"
   ]
  },
  {
   "cell_type": "markdown",
   "id": "2a50dd2e-1658-4232-a881-64c441216237",
   "metadata": {},
   "source": [
    "## Variáveis globais e variáveis locais\n",
    "\n"
   ]
  },
  {
   "cell_type": "markdown",
   "id": "98359b97-d359-402c-8344-aaedf806bbaf",
   "metadata": {},
   "source": [
    "Certas variáveis só existem dentro de certos escopos. Estas são chamadas de **variáveis locais**. Veja o exemplo abaixo. Nele, a variável `opcao_1` só existe dentro da função `refeicao`, por isso o Python acusa um erro na última linha.\n",
    "\n"
   ]
  },
  {
   "cell_type": "code",
   "execution_count": 5,
   "id": "0d1790ad-2893-4722-9e64-32c0b89fa535",
   "metadata": {},
   "outputs": [
    {
     "name": "stdout",
     "output_type": "stream",
     "text": [
      "('SPAM', 'SPAM', 'ovos', 'bacon')\n"
     ]
    },
    {
     "ename": "NameError",
     "evalue": "name 'opcao_1' is not defined",
     "output_type": "error",
     "traceback": [
      "\u001b[1;31m---------------------------------------------------------------------------\u001b[0m",
      "\u001b[1;31mNameError\u001b[0m                                 Traceback (most recent call last)",
      "Cell \u001b[1;32mIn[5], line 11\u001b[0m\n\u001b[0;32m      8\u001b[0m lanche_da_tarde \u001b[38;5;241m=\u001b[39m refeicao()\n\u001b[0;32m     10\u001b[0m \u001b[38;5;28mprint\u001b[39m(lanche_da_tarde)\n\u001b[1;32m---> 11\u001b[0m \u001b[38;5;28mprint\u001b[39m(\u001b[43mopcao_1\u001b[49m)\n",
      "\u001b[1;31mNameError\u001b[0m: name 'opcao_1' is not defined"
     ]
    }
   ],
   "source": [
    "def refeicao():\n",
    "    opcao_1 = \"SPAM\"\n",
    "    opcao_2 = \"SPAM\"\n",
    "    opcao_3 = \"ovos\"\n",
    "    opcao_4 = \"bacon\"\n",
    "    return opcao_1, opcao_2, opcao_3, opcao_4\n",
    "\n",
    "lanche_da_tarde = refeicao()\n",
    "\n",
    "print(lanche_da_tarde)\n",
    "print(opcao_1)"
   ]
  },
  {
   "cell_type": "markdown",
   "id": "4a021d60-fc3d-4d0c-a614-390aa3728960",
   "metadata": {},
   "source": [
    "Certas variáveis podem ser acessadas em qualquer lugar. Estas são chamadas de **variáveis globais**. Veja o exemplo abaixo.\n",
    "\n"
   ]
  },
  {
   "cell_type": "code",
   "execution_count": null,
   "id": "d0dcf762-9ee8-4854-b352-fceb57a36373",
   "metadata": {},
   "outputs": [],
   "source": [
    "melhor_album = \"The Dark Side of the Moon\"  # esta é uma variável global\n",
    "\n",
    "\n",
    "def qual_o_melhor_album():\n",
    "    print(\"O melhor album de todos os tempos é:\", melhor_album)\n",
    "\n",
    "\n",
    "qual_o_melhor_album()"
   ]
  },
  {
   "cell_type": "markdown",
   "id": "0b193a2c-8889-469c-9aee-ef7890fb19ae",
   "metadata": {},
   "source": [
    "Mesmo sabendo que variáveis globais podem ser utilizadas dentro de funções, este comportamento é **desencorajado**! Isso torna a leitura do código mais difícil, o uso da função menos geral e aumenta a chance de *bugs* no seu código! Se necessário utilizar uma variável global em uma função, opte por adicionar um argumento com a variável global como valor padrão.\n",
    "\n"
   ]
  },
  {
   "cell_type": "markdown",
   "id": "adde1f70-ae61-4eb1-b49b-8ea0fd2691d9",
   "metadata": {},
   "source": [
    "## Exercícios\n",
    "\n"
   ]
  },
  {
   "cell_type": "markdown",
   "id": "6c758965-2d61-46a4-996b-1734d7943109",
   "metadata": {},
   "source": [
    "### Mesmo nome\n",
    "\n"
   ]
  },
  {
   "cell_type": "markdown",
   "id": "6e9ff85b-2bfb-4c42-93f0-da9b3eaf1071",
   "metadata": {},
   "source": [
    "O que acontece quando um argumento de uma função tem o mesmo nome de uma variável global? Teste isso escrevendo seu próprio código e explique em suas palavras o que observou.\n",
    "\n"
   ]
  },
  {
   "cell_type": "code",
   "execution_count": 9,
   "id": "d7853f06-be20-467d-b3f1-b50e75b45096",
   "metadata": {},
   "outputs": [
    {
     "name": "stdout",
     "output_type": "stream",
     "text": [
      "teste print: argumento\n"
     ]
    }
   ],
   "source": [
    "argumento = \"argumento\"  # esta é uma variável global\n",
    "\n",
    "\n",
    "def funcao(argumento):\n",
    "    print(\"teste print:\", argumento)\n",
    "\n",
    "\n",
    "funcao(argumento)"
   ]
  },
  {
   "cell_type": "markdown",
   "id": "e2977aad-a0ba-4dfa-b7cb-3516df07145b",
   "metadata": {},
   "source": [
    "A função utilizou a variável global"
   ]
  },
  {
   "cell_type": "code",
   "execution_count": null,
   "id": "c4de59ab-e944-4bff-9173-8bbafce4224b",
   "metadata": {},
   "outputs": [],
   "source": [
    "num1 = 10\n",
    "\n",
    "def media(num2):\n",
    "    valor = (num1/ num2) / 2\n",
    "    return valor\n",
    "\n",
    "valor = media(2,7)\n",
    "print (valor)"
   ]
  },
  {
   "cell_type": "code",
   "execution_count": null,
   "id": "2471274d-7618-425e-97b0-7bbe22381b53",
   "metadata": {},
   "outputs": [],
   "source": [
    "A função utiliza a variavel da função"
   ]
  },
  {
   "cell_type": "markdown",
   "id": "562cc152-75ac-4284-b5b1-807174e19ab6",
   "metadata": {},
   "source": [
    "### Alterando a variável global\n",
    "\n"
   ]
  },
  {
   "cell_type": "markdown",
   "id": "81fd6ec5-91b5-4718-baf2-cb70c318d8f3",
   "metadata": {},
   "source": [
    "O que acontece quando uma variável global é alterada dentro de uma função? Teste isso na célula abaixo e explique em suas palavras o que observou. Faça um teste onde a variável global é um número inteiro e faça um teste onde a variável global é uma lista e ocorre um `append` nesta lista dentro da função.\n",
    "\n"
   ]
  },
  {
   "cell_type": "code",
   "execution_count": 44,
   "id": "ae35569a-c2a0-4c7d-b4ea-df91fb9484b6",
   "metadata": {},
   "outputs": [
    {
     "name": "stdout",
     "output_type": "stream",
     "text": [
      "teste print: 7\n"
     ]
    }
   ],
   "source": [
    "var_global = 4  # esta é uma variável global\n",
    "\n",
    "\n",
    "def funcao(argumento):\n",
    "    var_global = \"7\"\n",
    "    print(\"teste print:\", var_global)\n",
    "\n",
    "\n",
    "funcao(var_global)"
   ]
  },
  {
   "cell_type": "markdown",
   "id": "09a7f832-7d5e-4748-8fef-467af0c8839f",
   "metadata": {},
   "source": [
    "A função alterou o valor da variavel global"
   ]
  },
  {
   "cell_type": "code",
   "execution_count": 49,
   "id": "ef3208e7-ed24-48d7-9556-1a5361ff09d0",
   "metadata": {},
   "outputs": [
    {
     "name": "stdout",
     "output_type": "stream",
     "text": [
      "teste print: ['teste1', 'teste2', 'teste3', 6, 'teste']\n"
     ]
    }
   ],
   "source": [
    "var_global = [\"teste1\", \"teste2\", \"teste3\", 6]  # esta é uma variável global\n",
    "\n",
    "\n",
    "def funcao(argumento):\n",
    "    var_global.append(\"teste\")\n",
    "    print(\"teste print:\", var_global)\n",
    "\n",
    "\n",
    "funcao(var_global)"
   ]
  },
  {
   "cell_type": "markdown",
   "id": "22bf7177-18dd-488e-8700-fe09e3fe1485",
   "metadata": {},
   "source": [
    "A função alterou o valor da variavel global"
   ]
  },
  {
   "cell_type": "code",
   "execution_count": 50,
   "id": "291b4e82-7f09-41c7-97e6-485010847946",
   "metadata": {},
   "outputs": [
    {
     "name": "stdout",
     "output_type": "stream",
     "text": [
      "0 []\n",
      "\n",
      "entrei na funcao\n",
      "3 [0]\n",
      "terminei a função\n",
      "\n",
      "0 [0]\n"
     ]
    }
   ],
   "source": [
    "num = 0\n",
    "lista = []\n",
    "\n",
    "def funcao():\n",
    "    print (\"entrei na funcao\")\n",
    "    lista.append(0)\n",
    "    num = 3\n",
    "    print(num,lista)\n",
    "    print(\"terminei a função\")\n",
    "\n",
    "print (num, lista)\n",
    "print()\n",
    "funcao()\n",
    "print()\n",
    "print (num,lista)"
   ]
  },
  {
   "cell_type": "markdown",
   "id": "892bd3c2-3258-4640-8705-a38c9af29672",
   "metadata": {},
   "source": [
    "numeros, tuplas, são imutaveis, nao muda a variável global. Lista, dicionarios são mutaveis, portando, muda a variavel global"
   ]
  },
  {
   "cell_type": "markdown",
   "id": "7a762058-de7b-4b5e-a031-384f173dbb7f",
   "metadata": {},
   "source": [
    "## Documentando funções\n",
    "\n"
   ]
  },
  {
   "cell_type": "markdown",
   "id": "ac1c0d96-eada-4b4e-aaf3-96aa72d54e8d",
   "metadata": {},
   "source": [
    "Funções podem ser tão simples ou tão complexas quanto quisermos. O Python permite que as funções tenham quantos argumentos e retornos nós desejarmos. Também não há limites quanto a quantidade de linhas de código no corpo da função.\n",
    "\n",
    "Mas como dizia o tio Ben: com grandes poderes vem grandes responsabilidades! Você pode escrever hoje a função mais complexa do mundo e resolver todos os seus problemas. Tudo certo enquanto a função está fresca na sua mente. Daqui a três meses você precisa utilizar essa função novamente e já não se recorda mais o que cada argumento controla, não entende mais o valor de retorno e não tem tempo de interpretar as doze mil linhas de código que compõe o corpo da função&#x2026; e agora?\n",
    "\n",
    "Uma solução para <del>evitar</del> reduzir dor de cabeça no futuro é documentar sua função escrevendo a chamada *docstring*. Documentar a função nada mais é do que escrever o que ela faz, detalhando todas as partes importantes para que qualquer um que venha a usar a função entenda qual é o seu propósito e o que pode esperar quando executá-la. O guia de estilo de docstrings em Python é a PEP 257 que pode ser acessada em [https://www.python.org/dev/peps/pep-0257/](https://www.python.org/dev/peps/pep-0257/).\n",
    "\n"
   ]
  },
  {
   "cell_type": "markdown",
   "id": "b485bdcb-c521-48ed-80d7-f2dc698c3aa0",
   "metadata": {},
   "source": [
    "### Docstring de uma linha\n",
    "\n"
   ]
  },
  {
   "cell_type": "markdown",
   "id": "3914bf26-2d7d-46c9-adb1-a99c8de500d1",
   "metadata": {},
   "source": [
    "A docstring mais simples de todas é a &ldquo;docstring em uma linha&rdquo;. Trata-se de uma descrição breve do que a função faz e, como o nome sugere, não deve ultrapassar uma linha. Veja a docstring da função `media` abaixo. Note que docstrings devem ser a primeira linha do corpo da função (logo abaixo a definição da mesma) e são strings declaradas com três aspas. Na descrição em uma linha, use verbos no imperativo.\n",
    "\n"
   ]
  },
  {
   "cell_type": "code",
   "execution_count": null,
   "id": "66651d20-a10d-43cc-9e5a-09e84d66b16a",
   "metadata": {},
   "outputs": [],
   "source": [
    "def media(num1, num2, num3):\n",
    "    \"\"\"Calcula a média de três valores numéricos.\"\"\"\n",
    "\n",
    "    valor_medio = (num1 + num2 + num3) / 3\n",
    "\n",
    "    return valor_medio\n",
    "\n",
    "\n",
    "media(10, 20, 35)"
   ]
  },
  {
   "cell_type": "markdown",
   "id": "01c8475e-bf5f-4904-b340-3d4aa36e7f29",
   "metadata": {},
   "source": [
    "### Docstring de múltiplas linhas\n",
    "\n"
   ]
  },
  {
   "cell_type": "markdown",
   "id": "97939fc6-d7ba-4bc5-8173-f8f1ef47dba5",
   "metadata": {},
   "source": [
    "Docstrings em uma linha são suficientes para funções mais simples com poucas linhas de código. Funções mais complexas se beneficiam de mais informações na docstring para deixar claro seu funcionamento, como por exemplo:\n",
    "\n",
    "1.  Uma descrição mais aprofundada da função;\n",
    "2.  Uma listagem de todos os argumentos da função, descrevendo o que eles controlam;\n",
    "3.  Uma listagem de todos os retornos da função, descrevendo o que eles são;\n",
    "4.  Uma listagem de todos os erros capturados e levantados pela função;\n",
    "5.  Exemplos do uso da função;\n",
    "6.  Notas e informações adicionais como links e referências.\n",
    "\n",
    "Para armazenar mais informações, precisamos fazer uso das &ldquo;docstrings de múltiplas linhas&rdquo;. A PEP 257 não define como docstrings de múltiplas linhas devem ser escritas e, por conta disso, existem diversos guias de estilos diferentes. Nenhum estilo é objetivamente melhor ou pior que o outro, no entanto é considerado bom costume escolher um estilo para cada projeto e se ater a ele (misturar diferentes estilos pode confundir quem está lendo o código!). Um estilo possível é detalhado no Guia de Estilo de Python da Google que pode ser conferido [aqui](https://google.github.io/styleguide/pyguide.html?showone=Comments#s3.8.1-comments-in-doc-strings). Veja um exemplo abaixo.\n",
    "\n"
   ]
  },
  {
   "cell_type": "code",
   "execution_count": null,
   "id": "fd613f2c-626a-48f2-b6b7-c1c6e9ca018f",
   "metadata": {},
   "outputs": [],
   "source": [
    "def exponenciacao(base, expoente=2):\n",
    "    \"\"\"Calcula o valor de um número (base) elevado a um expoente.\n",
    "\n",
    "    Cuidado, se sua base for negativa e seu expoente não for inteiro, você irá\n",
    "    obter um número complexo.\n",
    "\n",
    "    Args:\n",
    "      base:\n",
    "        Número que representa a base da exponenciação.\n",
    "      expoente:\n",
    "        Número que representa o expoente da exponenciação. O valor padrão é 2.\n",
    "\n",
    "    Returns:\n",
    "      Valor do resultado de base elevado ao expoente. Pode ser um número\n",
    "      complexo dependendo dos valores da base e do expoente.\n",
    "    \"\"\"\n",
    "\n",
    "    return base ** expoente\n",
    "\n",
    "\n",
    "resultado = exponenciacao(2, 10)\n",
    "\n",
    "print(resultado)"
   ]
  },
  {
   "cell_type": "markdown",
   "id": "ccdb1855-d069-4429-a376-941f3589b983",
   "metadata": {},
   "source": [
    "## Funções também são objetos\n",
    "\n"
   ]
  },
  {
   "cell_type": "markdown",
   "id": "490e81a0-4aac-4988-8173-b5fb73c05d69",
   "metadata": {},
   "source": [
    "Execute o código abaixo e veja o que acontece.\n",
    "\n"
   ]
  },
  {
   "cell_type": "code",
   "execution_count": 51,
   "id": "40e39118-ad03-4bf5-a1a2-232593c36bd0",
   "metadata": {},
   "outputs": [],
   "source": [
    "def ola():\n",
    "    return \"Olá, tudo bem com você?\"\n",
    "\n",
    "# tudo em python é objeto, exceto def return if... até mesmo uma função é um objeto"
   ]
  },
  {
   "cell_type": "code",
   "execution_count": 52,
   "id": "78b1f185-367f-4ef0-b14e-a621cbd95f8c",
   "metadata": {},
   "outputs": [
    {
     "data": {
      "text/plain": [
       "'Olá, tudo bem com você?'"
      ]
     },
     "execution_count": 52,
     "metadata": {},
     "output_type": "execute_result"
    }
   ],
   "source": [
    "ola()"
   ]
  },
  {
   "cell_type": "code",
   "execution_count": 53,
   "id": "434325a3-6738-4bbb-9640-bfbeb7c6d8d8",
   "metadata": {},
   "outputs": [
    {
     "data": {
      "text/plain": [
       "<function __main__.ola()>"
      ]
     },
     "execution_count": 53,
     "metadata": {},
     "output_type": "execute_result"
    }
   ],
   "source": [
    "ola # como objeto"
   ]
  },
  {
   "cell_type": "markdown",
   "id": "8ea5978e-0d61-4ec6-b569-b0f72c0f8b2c",
   "metadata": {},
   "source": [
    "Uma função é um objeto que podemos rodar através do uso dos parênteses. Como uma função é um objeto, podemos passar uma função como argumento de outra função.\n",
    "\n"
   ]
  },
  {
   "cell_type": "code",
   "execution_count": null,
   "id": "935dd98b-e118-4350-8677-301534e7c067",
   "metadata": {},
   "outputs": [],
   "source": [
    "def soma_dois(x):\n",
    "    \"\"\"Soma dois a o valor recebido.\"\"\"\n",
    "    return x + 2\n",
    "\n",
    "\n",
    "def multiplica_dois(x):\n",
    "    \"\"\"Multiplica o valor recebido por dois.\"\"\"\n",
    "    return x * 2\n",
    "\n",
    "\n",
    "def funcao_composta(f1, f2, x):\n",
    "    \"\"\"Calcula a função composta de f1 e f2.\"\"\"\n",
    "    return f1(f2(x))\n",
    "\n",
    "\n",
    "resultado = funcao_composta(soma_dois, multiplica_dois, 10)\n",
    "\n",
    "resultado"
   ]
  },
  {
   "cell_type": "markdown",
   "id": "d82c5651-431a-48ce-91ab-126b7b9e3cab",
   "metadata": {},
   "source": [
    "Nada nos impede de definir uma função dentro de outra função!\n",
    "\n"
   ]
  },
  {
   "cell_type": "code",
   "execution_count": null,
   "id": "a388d189-0930-4ecd-a102-3275d7880f2c",
   "metadata": {},
   "outputs": [],
   "source": [
    "def retorna_funcao_composta(f1, f2):\n",
    "    \"\"\"Retorna a função composta de f1 e f2.\"\"\"\n",
    "\n",
    "    def funcao_composta(x):\n",
    "        return f1(f2(x))\n",
    "\n",
    "    return funcao_composta\n",
    "\n",
    "\n",
    "funcao_composta = retorna_funcao_composta(soma_dois, multiplica_dois)\n",
    "\n",
    "funcao_composta(10)"
   ]
  },
  {
   "cell_type": "markdown",
   "id": "316da7c9-39cd-4d9f-a9ec-f9ee34cf5eb6",
   "metadata": {},
   "source": [
    "## XKCD relevante\n",
    "\n"
   ]
  },
  {
   "cell_type": "markdown",
   "id": "99aafd37-1315-456c-b435-aa942dcca9b3",
   "metadata": {},
   "source": [
    "![img](https://imgs.xkcd.com/comics/math_paper.png)\n",
    "\n",
    "`Imagem: Math Paper (XKCD) disponível em https://xkcd.com/410`\n",
    "\n"
   ]
  },
  {
   "cell_type": "markdown",
   "id": "a491f501-4141-4f5a-83c7-4cdc746646cf",
   "metadata": {},
   "source": [
    "## Referências\n",
    "\n"
   ]
  },
  {
   "cell_type": "markdown",
   "id": "f394a57a-2e44-4755-b1b4-16efa660d468",
   "metadata": {},
   "source": [
    "1.  Guia de estilo de docstrings [https://www.python.org/dev/peps/pep-0257/](https://www.python.org/dev/peps/pep-0257/).\n",
    "\n",
    "2.  Guia de estilo de Python da Google [https://google.github.io/styleguide/pyguide.html?showone=Comments#s3.8.1-comments-in-doc-strings](https://google.github.io/styleguide/pyguide.html?showone=Comments#s3.8.1-comments-in-doc-strings).\n",
    "\n"
   ]
  }
 ],
 "metadata": {
  "kernelspec": {
   "display_name": "ilumpy",
   "language": "python",
   "name": "ilumpy"
  },
  "language_info": {
   "codemirror_mode": {
    "name": "ipython",
    "version": 3
   },
   "file_extension": ".py",
   "mimetype": "text/x-python",
   "name": "python",
   "nbconvert_exporter": "python",
   "pygments_lexer": "ipython3",
   "version": "3.12.7"
  },
  "org": null
 },
 "nbformat": 4,
 "nbformat_minor": 5
}
