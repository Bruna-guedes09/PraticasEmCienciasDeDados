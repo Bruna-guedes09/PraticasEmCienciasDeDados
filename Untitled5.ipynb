{
 "cells": [
  {
   "cell_type": "code",
   "execution_count": 1,
   "id": "4ecaf477-60c4-4464-a9f5-92051922c013",
   "metadata": {},
   "outputs": [],
   "source": [
    "A = 1\n",
    "B = 2\n",
    "C = 4\n",
    "D = 8\n",
    "E = 16"
   ]
  },
  {
   "cell_type": "code",
   "execution_count": 4,
   "id": "8164c0e1-f920-4fa6-9b1b-5ab9dad867e7",
   "metadata": {},
   "outputs": [
    {
     "data": {
      "text/plain": [
       "False"
      ]
     },
     "execution_count": 4,
     "metadata": {},
     "output_type": "execute_result"
    }
   ],
   "source": [
    "A==B"
   ]
  },
  {
   "cell_type": "code",
   "execution_count": 5,
   "id": "8526f1bb-56c6-4d8e-8386-76284c27709b",
   "metadata": {},
   "outputs": [
    {
     "data": {
      "text/plain": [
       "True"
      ]
     },
     "execution_count": 5,
     "metadata": {},
     "output_type": "execute_result"
    }
   ],
   "source": [
    "A<B"
   ]
  },
  {
   "cell_type": "code",
   "execution_count": 6,
   "id": "59e398fa-604b-44b4-a99a-4b37c732dbd7",
   "metadata": {},
   "outputs": [
    {
     "data": {
      "text/plain": [
       "False"
      ]
     },
     "execution_count": 6,
     "metadata": {},
     "output_type": "execute_result"
    }
   ],
   "source": [
    "B>C"
   ]
  },
  {
   "cell_type": "code",
   "execution_count": 7,
   "id": "697808cb-e18c-4c22-8f39-0b9658bd7539",
   "metadata": {},
   "outputs": [
    {
     "data": {
      "text/plain": [
       "True"
      ]
     },
     "execution_count": 7,
     "metadata": {},
     "output_type": "execute_result"
    }
   ],
   "source": [
    "D<=E"
   ]
  },
  {
   "cell_type": "code",
   "execution_count": 8,
   "id": "ca1156c5-a50e-492b-bff9-5448212d9782",
   "metadata": {},
   "outputs": [
    {
     "data": {
      "text/plain": [
       "True"
      ]
     },
     "execution_count": 8,
     "metadata": {},
     "output_type": "execute_result"
    }
   ],
   "source": [
    "A != E"
   ]
  },
  {
   "cell_type": "code",
   "execution_count": null,
   "id": "cac0cbfa-8337-4ea7-b619-584c12f0b9b6",
   "metadata": {},
   "outputs": [],
   "source": []
  }
 ],
 "metadata": {
  "kernelspec": {
   "display_name": "Python 3 (ipykernel)",
   "language": "python",
   "name": "python3"
  },
  "language_info": {
   "codemirror_mode": {
    "name": "ipython",
    "version": 3
   },
   "file_extension": ".py",
   "mimetype": "text/x-python",
   "name": "python",
   "nbconvert_exporter": "python",
   "pygments_lexer": "ipython3",
   "version": "3.12.7"
  }
 },
 "nbformat": 4,
 "nbformat_minor": 5
}
